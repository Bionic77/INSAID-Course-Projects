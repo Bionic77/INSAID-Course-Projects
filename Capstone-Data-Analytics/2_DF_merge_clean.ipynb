{
 "cells": [
  {
   "cell_type": "code",
   "execution_count": 1,
   "id": "205738d1",
   "metadata": {
    "ExecuteTime": {
     "end_time": "2021-05-13T16:10:54.850838Z",
     "start_time": "2021-05-13T16:10:54.104592Z"
    }
   },
   "outputs": [],
   "source": [
    "import warnings\n",
    "import pandas as pd\n",
    "import numpy as np\n",
    "# To display values only upto four decimal places.\n",
    "np.set_printoptions(precision=5)\n",
    "# To suppress pandas warnings.\n",
    "pd.set_option('mode.chained_assignment', None)\n",
    "# To display all the data in each column\n",
    "pd.set_option('display.max_colwidth', None)\n",
    "# To display all the columns\n",
    "pd.set_option('display.max_columns', None)\n",
    "# To display all the rows \n",
    "# pd.set_option('display.max_rows', None)\n",
    "# To display every column of the dataset in head()\n",
    "pd.options.display.max_columns = 150\n",
    "# To supress displaying large numbers in scientific format\n",
    "pd.options.display.float_format = '{:.5f}'.format\n",
    "\n",
    "# To suppress all the warnings in the notebook.\n",
    "warnings.filterwarnings('ignore')"
   ]
  },
  {
   "cell_type": "markdown",
   "id": "d7d8cf6c",
   "metadata": {},
   "source": [
    "gender_age_train - Devices and their respective user gender, age and age_group\n",
    "\n",
    "phone_brand_device_model - device ids, brand, and models phone_brand: note that few brands are in Chinese\n",
    "\n",
    "Brand Name\tBrand English Mapping\n",
    "'华为'\t'Huawei'\n",
    "'小米'\t'Xiaomi'\n",
    "'三星'\t'Samsung'\n",
    "'vivo'\t'vivo'\n",
    "'OPPO'\t'OPPO'\n",
    "'魅族'\t'Meizu'\n",
    "'酷派'\t'Coolpad'\n",
    "'乐视'\t'LeEco'\n",
    "'联想 '\t'Lenovo'\n",
    "'HTC'\t'HTC'\n",
    "\n",
    "\n",
    "events_data - when a user uses mobile on INSAID Telecom network, the event gets logged in this data.\n",
    "Each event has an event id, location (lat/long), and the event corresponds to frequency of mobile usage. \n",
    "timestamp: when the user is using the mobile."
   ]
  },
  {
   "cell_type": "code",
   "execution_count": 2,
   "id": "ca8bcd77",
   "metadata": {
    "ExecuteTime": {
     "end_time": "2021-05-13T16:11:00.481721Z",
     "start_time": "2021-05-13T16:10:54.853628Z"
    }
   },
   "outputs": [],
   "source": [
    "df1 = pd.read_csv(\"events_data.csv\")\n",
    "df2 = pd.read_csv(\"gender_age_train.csv\")\n",
    "df3 = pd.read_csv(\"phone_brand_device_model.csv\")"
   ]
  },
  {
   "cell_type": "code",
   "execution_count": 3,
   "id": "195c5f68",
   "metadata": {
    "ExecuteTime": {
     "end_time": "2021-05-13T16:11:00.513682Z",
     "start_time": "2021-05-13T16:11:00.484918Z"
    }
   },
   "outputs": [
    {
     "data": {
      "text/html": [
       "<div>\n",
       "<style scoped>\n",
       "    .dataframe tbody tr th:only-of-type {\n",
       "        vertical-align: middle;\n",
       "    }\n",
       "\n",
       "    .dataframe tbody tr th {\n",
       "        vertical-align: top;\n",
       "    }\n",
       "\n",
       "    .dataframe thead th {\n",
       "        text-align: right;\n",
       "    }\n",
       "</style>\n",
       "<table border=\"1\" class=\"dataframe\">\n",
       "  <thead>\n",
       "    <tr style=\"text-align: right;\">\n",
       "      <th></th>\n",
       "      <th>event_id</th>\n",
       "      <th>device_id</th>\n",
       "      <th>timestamp</th>\n",
       "      <th>longitude</th>\n",
       "      <th>latitude</th>\n",
       "      <th>city</th>\n",
       "      <th>state</th>\n",
       "    </tr>\n",
       "  </thead>\n",
       "  <tbody>\n",
       "    <tr>\n",
       "      <th>0</th>\n",
       "      <td>2765368</td>\n",
       "      <td>2973347786994914304.00000</td>\n",
       "      <td>2016-05-07 22:52:05</td>\n",
       "      <td>77.22568</td>\n",
       "      <td>28.73014</td>\n",
       "      <td>Delhi</td>\n",
       "      <td>Delhi</td>\n",
       "    </tr>\n",
       "    <tr>\n",
       "      <th>1</th>\n",
       "      <td>2955066</td>\n",
       "      <td>4734221357723754496.00000</td>\n",
       "      <td>2016-05-01 20:44:16</td>\n",
       "      <td>88.38836</td>\n",
       "      <td>22.66033</td>\n",
       "      <td>Calcutta</td>\n",
       "      <td>WestBengal</td>\n",
       "    </tr>\n",
       "    <tr>\n",
       "      <th>2</th>\n",
       "      <td>605968</td>\n",
       "      <td>-3264499652692492800.00000</td>\n",
       "      <td>2016-05-02 14:23:04</td>\n",
       "      <td>77.25681</td>\n",
       "      <td>28.75791</td>\n",
       "      <td>Delhi</td>\n",
       "      <td>Delhi</td>\n",
       "    </tr>\n",
       "    <tr>\n",
       "      <th>3</th>\n",
       "      <td>448114</td>\n",
       "      <td>5731369272434022400.00000</td>\n",
       "      <td>2016-05-03 13:21:16</td>\n",
       "      <td>80.34361</td>\n",
       "      <td>13.15333</td>\n",
       "      <td>Chennai</td>\n",
       "      <td>TamilNadu</td>\n",
       "    </tr>\n",
       "    <tr>\n",
       "      <th>4</th>\n",
       "      <td>665740</td>\n",
       "      <td>338888002570799936.00000</td>\n",
       "      <td>2016-05-06 03:51:05</td>\n",
       "      <td>85.99774</td>\n",
       "      <td>23.84261</td>\n",
       "      <td>Bokaro</td>\n",
       "      <td>Jharkhand</td>\n",
       "    </tr>\n",
       "  </tbody>\n",
       "</table>\n",
       "</div>"
      ],
      "text/plain": [
       "   event_id                  device_id            timestamp  longitude  \\\n",
       "0   2765368  2973347786994914304.00000  2016-05-07 22:52:05   77.22568   \n",
       "1   2955066  4734221357723754496.00000  2016-05-01 20:44:16   88.38836   \n",
       "2    605968 -3264499652692492800.00000  2016-05-02 14:23:04   77.25681   \n",
       "3    448114  5731369272434022400.00000  2016-05-03 13:21:16   80.34361   \n",
       "4    665740   338888002570799936.00000  2016-05-06 03:51:05   85.99774   \n",
       "\n",
       "   latitude      city       state  \n",
       "0  28.73014     Delhi       Delhi  \n",
       "1  22.66033  Calcutta  WestBengal  \n",
       "2  28.75791     Delhi       Delhi  \n",
       "3  13.15333   Chennai   TamilNadu  \n",
       "4  23.84261    Bokaro   Jharkhand  "
      ]
     },
     "execution_count": 3,
     "metadata": {},
     "output_type": "execute_result"
    }
   ],
   "source": [
    "df1.head()"
   ]
  },
  {
   "cell_type": "code",
   "execution_count": 4,
   "id": "ec4e71ae",
   "metadata": {
    "ExecuteTime": {
     "end_time": "2021-05-13T16:11:00.535498Z",
     "start_time": "2021-05-13T16:11:00.521193Z"
    }
   },
   "outputs": [
    {
     "name": "stdout",
     "output_type": "stream",
     "text": [
      "<class 'pandas.core.frame.DataFrame'>\n",
      "RangeIndex: 3252950 entries, 0 to 3252949\n",
      "Data columns (total 7 columns):\n",
      " #   Column     Dtype  \n",
      "---  ------     -----  \n",
      " 0   event_id   int64  \n",
      " 1   device_id  float64\n",
      " 2   timestamp  object \n",
      " 3   longitude  float64\n",
      " 4   latitude   float64\n",
      " 5   city       object \n",
      " 6   state      object \n",
      "dtypes: float64(3), int64(1), object(3)\n",
      "memory usage: 173.7+ MB\n"
     ]
    }
   ],
   "source": [
    "df1.info()"
   ]
  },
  {
   "cell_type": "code",
   "execution_count": 5,
   "id": "bcd5fda9",
   "metadata": {
    "ExecuteTime": {
     "end_time": "2021-05-13T16:11:03.575007Z",
     "start_time": "2021-05-13T16:11:00.539281Z"
    }
   },
   "outputs": [
    {
     "data": {
      "text/plain": [
       "event_id     3252950\n",
       "device_id      60865\n",
       "timestamp     588126\n",
       "longitude      60095\n",
       "latitude       60177\n",
       "city             933\n",
       "state             32\n",
       "dtype: int64"
      ]
     },
     "execution_count": 5,
     "metadata": {},
     "output_type": "execute_result"
    }
   ],
   "source": [
    "df1.nunique()"
   ]
  },
  {
   "cell_type": "code",
   "execution_count": 6,
   "id": "ffcbb99c",
   "metadata": {
    "ExecuteTime": {
     "end_time": "2021-05-13T16:11:04.134730Z",
     "start_time": "2021-05-13T16:11:03.578595Z"
    }
   },
   "outputs": [
    {
     "data": {
      "text/plain": [
       "event_id       0\n",
       "device_id    453\n",
       "timestamp      0\n",
       "longitude    423\n",
       "latitude     423\n",
       "city           0\n",
       "state        377\n",
       "dtype: int64"
      ]
     },
     "execution_count": 6,
     "metadata": {},
     "output_type": "execute_result"
    }
   ],
   "source": [
    "df1.isna().sum()"
   ]
  },
  {
   "cell_type": "code",
   "execution_count": 7,
   "id": "480dd755",
   "metadata": {
    "ExecuteTime": {
     "end_time": "2021-05-13T16:11:04.305853Z",
     "start_time": "2021-05-13T16:11:04.138219Z"
    }
   },
   "outputs": [
    {
     "name": "stdout",
     "output_type": "stream",
     "text": [
      "['Pune' 'Visakhapatnam' 'Indore' 'Chennai' 'Delhi' 'Channapatna' 'Jaipur'\n",
      " 'Gangarampur' 'Arambagh']\n"
     ]
    },
    {
     "data": {
      "text/plain": [
       "numpy.ndarray"
      ]
     },
     "execution_count": 7,
     "metadata": {},
     "output_type": "execute_result"
    }
   ],
   "source": [
    "x = df1[df1.state.isna()].city.unique()\n",
    "print(x)\n",
    "type(x)"
   ]
  },
  {
   "cell_type": "code",
   "execution_count": 8,
   "id": "de8ce775",
   "metadata": {
    "ExecuteTime": {
     "end_time": "2021-05-13T16:11:08.017296Z",
     "start_time": "2021-05-13T16:11:04.322532Z"
    }
   },
   "outputs": [
    {
     "data": {
      "text/plain": [
       "['Maharashtra',\n",
       " 'AndhraPradesh',\n",
       " 'MadhyaPradesh',\n",
       " 'TamilNadu',\n",
       " 'Delhi',\n",
       " 'Karnataka',\n",
       " 'Rajasthan',\n",
       " 'WestBengal',\n",
       " 'WestBengal']"
      ]
     },
     "execution_count": 8,
     "metadata": {},
     "output_type": "execute_result"
    }
   ],
   "source": [
    "y = []\n",
    "for i in x:\n",
    "    z = df1['state'].where(df1['city'] == i).dropna().unique().tolist()\n",
    "    y.append(z)\n",
    "y = list(np.concatenate(y).flat)\n",
    "y"
   ]
  },
  {
   "cell_type": "code",
   "execution_count": 9,
   "id": "2c66cffc",
   "metadata": {
    "ExecuteTime": {
     "end_time": "2021-05-13T16:11:08.031467Z",
     "start_time": "2021-05-13T16:11:08.023679Z"
    }
   },
   "outputs": [
    {
     "data": {
      "text/plain": [
       "{'Pune': 'Maharashtra',\n",
       " 'Visakhapatnam': 'AndhraPradesh',\n",
       " 'Indore': 'MadhyaPradesh',\n",
       " 'Chennai': 'TamilNadu',\n",
       " 'Delhi': 'Delhi',\n",
       " 'Channapatna': 'Karnataka',\n",
       " 'Jaipur': 'Rajasthan',\n",
       " 'Gangarampur': 'WestBengal',\n",
       " 'Arambagh': 'WestBengal'}"
      ]
     },
     "execution_count": 9,
     "metadata": {},
     "output_type": "execute_result"
    }
   ],
   "source": [
    "missing_state_city_dict = dict(zip(x, y))\n",
    "missing_state_city_dict"
   ]
  },
  {
   "cell_type": "code",
   "execution_count": 10,
   "id": "23a8cb0b",
   "metadata": {
    "ExecuteTime": {
     "end_time": "2021-05-13T16:11:08.496497Z",
     "start_time": "2021-05-13T16:11:08.035333Z"
    },
    "scrolled": true
   },
   "outputs": [
    {
     "data": {
      "text/html": [
       "<div>\n",
       "<style scoped>\n",
       "    .dataframe tbody tr th:only-of-type {\n",
       "        vertical-align: middle;\n",
       "    }\n",
       "\n",
       "    .dataframe tbody tr th {\n",
       "        vertical-align: top;\n",
       "    }\n",
       "\n",
       "    .dataframe thead th {\n",
       "        text-align: right;\n",
       "    }\n",
       "</style>\n",
       "<table border=\"1\" class=\"dataframe\">\n",
       "  <thead>\n",
       "    <tr style=\"text-align: right;\">\n",
       "      <th></th>\n",
       "      <th>event_id</th>\n",
       "      <th>device_id</th>\n",
       "      <th>timestamp</th>\n",
       "      <th>longitude</th>\n",
       "      <th>latitude</th>\n",
       "      <th>city</th>\n",
       "      <th>state</th>\n",
       "    </tr>\n",
       "  </thead>\n",
       "  <tbody>\n",
       "    <tr>\n",
       "      <th>2931</th>\n",
       "      <td>706554</td>\n",
       "      <td>-5829328361235250176.00000</td>\n",
       "      <td>2016-05-05 16:58:46</td>\n",
       "      <td>73.85167</td>\n",
       "      <td>18.59331</td>\n",
       "      <td>Pune</td>\n",
       "      <td>NaN</td>\n",
       "    </tr>\n",
       "    <tr>\n",
       "      <th>76174</th>\n",
       "      <td>592175</td>\n",
       "      <td>-5829328361235250176.00000</td>\n",
       "      <td>2016-05-02 00:06:48</td>\n",
       "      <td>73.85167</td>\n",
       "      <td>18.59331</td>\n",
       "      <td>Pune</td>\n",
       "      <td>NaN</td>\n",
       "    </tr>\n",
       "    <tr>\n",
       "      <th>195172</th>\n",
       "      <td>2498395</td>\n",
       "      <td>2601606673970940928.00000</td>\n",
       "      <td>2016-05-04 08:34:03</td>\n",
       "      <td>73.87071</td>\n",
       "      <td>18.61934</td>\n",
       "      <td>Pune</td>\n",
       "      <td>NaN</td>\n",
       "    </tr>\n",
       "    <tr>\n",
       "      <th>247532</th>\n",
       "      <td>151113</td>\n",
       "      <td>-5829328361235250176.00000</td>\n",
       "      <td>2016-05-03 13:17:55</td>\n",
       "      <td>73.85167</td>\n",
       "      <td>18.59331</td>\n",
       "      <td>Pune</td>\n",
       "      <td>NaN</td>\n",
       "    </tr>\n",
       "    <tr>\n",
       "      <th>326818</th>\n",
       "      <td>1910695</td>\n",
       "      <td>-5829328361235250176.00000</td>\n",
       "      <td>2016-05-06 22:44:28</td>\n",
       "      <td>73.85167</td>\n",
       "      <td>18.59331</td>\n",
       "      <td>Pune</td>\n",
       "      <td>NaN</td>\n",
       "    </tr>\n",
       "    <tr>\n",
       "      <th>...</th>\n",
       "      <td>...</td>\n",
       "      <td>...</td>\n",
       "      <td>...</td>\n",
       "      <td>...</td>\n",
       "      <td>...</td>\n",
       "      <td>...</td>\n",
       "      <td>...</td>\n",
       "    </tr>\n",
       "    <tr>\n",
       "      <th>2973308</th>\n",
       "      <td>2642291</td>\n",
       "      <td>-5829328361235250176.00000</td>\n",
       "      <td>2016-05-05 07:13:14</td>\n",
       "      <td>73.85167</td>\n",
       "      <td>18.59331</td>\n",
       "      <td>Pune</td>\n",
       "      <td>NaN</td>\n",
       "    </tr>\n",
       "    <tr>\n",
       "      <th>3023725</th>\n",
       "      <td>2193023</td>\n",
       "      <td>2601606673970940928.00000</td>\n",
       "      <td>2016-05-05 18:57:14</td>\n",
       "      <td>73.87071</td>\n",
       "      <td>18.61934</td>\n",
       "      <td>Pune</td>\n",
       "      <td>NaN</td>\n",
       "    </tr>\n",
       "    <tr>\n",
       "      <th>3070662</th>\n",
       "      <td>2342756</td>\n",
       "      <td>442842061129641600.00000</td>\n",
       "      <td>2016-05-07 15:27:45</td>\n",
       "      <td>73.92625</td>\n",
       "      <td>18.61613</td>\n",
       "      <td>Pune</td>\n",
       "      <td>NaN</td>\n",
       "    </tr>\n",
       "    <tr>\n",
       "      <th>3119289</th>\n",
       "      <td>992087</td>\n",
       "      <td>442842061129641600.00000</td>\n",
       "      <td>2016-05-07 16:39:06</td>\n",
       "      <td>73.92625</td>\n",
       "      <td>18.61613</td>\n",
       "      <td>Pune</td>\n",
       "      <td>NaN</td>\n",
       "    </tr>\n",
       "    <tr>\n",
       "      <th>3141899</th>\n",
       "      <td>913046</td>\n",
       "      <td>442842061129641600.00000</td>\n",
       "      <td>2016-05-01 22:13:23</td>\n",
       "      <td>73.92625</td>\n",
       "      <td>18.61613</td>\n",
       "      <td>Pune</td>\n",
       "      <td>NaN</td>\n",
       "    </tr>\n",
       "  </tbody>\n",
       "</table>\n",
       "<p>63 rows × 7 columns</p>\n",
       "</div>"
      ],
      "text/plain": [
       "         event_id                  device_id            timestamp  longitude  \\\n",
       "2931       706554 -5829328361235250176.00000  2016-05-05 16:58:46   73.85167   \n",
       "76174      592175 -5829328361235250176.00000  2016-05-02 00:06:48   73.85167   \n",
       "195172    2498395  2601606673970940928.00000  2016-05-04 08:34:03   73.87071   \n",
       "247532     151113 -5829328361235250176.00000  2016-05-03 13:17:55   73.85167   \n",
       "326818    1910695 -5829328361235250176.00000  2016-05-06 22:44:28   73.85167   \n",
       "...           ...                        ...                  ...        ...   \n",
       "2973308   2642291 -5829328361235250176.00000  2016-05-05 07:13:14   73.85167   \n",
       "3023725   2193023  2601606673970940928.00000  2016-05-05 18:57:14   73.87071   \n",
       "3070662   2342756   442842061129641600.00000  2016-05-07 15:27:45   73.92625   \n",
       "3119289    992087   442842061129641600.00000  2016-05-07 16:39:06   73.92625   \n",
       "3141899    913046   442842061129641600.00000  2016-05-01 22:13:23   73.92625   \n",
       "\n",
       "         latitude  city state  \n",
       "2931     18.59331  Pune   NaN  \n",
       "76174    18.59331  Pune   NaN  \n",
       "195172   18.61934  Pune   NaN  \n",
       "247532   18.59331  Pune   NaN  \n",
       "326818   18.59331  Pune   NaN  \n",
       "...           ...   ...   ...  \n",
       "2973308  18.59331  Pune   NaN  \n",
       "3023725  18.61934  Pune   NaN  \n",
       "3070662  18.61613  Pune   NaN  \n",
       "3119289  18.61613  Pune   NaN  \n",
       "3141899  18.61613  Pune   NaN  \n",
       "\n",
       "[63 rows x 7 columns]"
      ]
     },
     "execution_count": 10,
     "metadata": {},
     "output_type": "execute_result"
    }
   ],
   "source": [
    "df1[(df1.city == 'Pune') & (df1.state.isna())]"
   ]
  },
  {
   "cell_type": "code",
   "execution_count": 11,
   "id": "5212fc7e",
   "metadata": {
    "ExecuteTime": {
     "end_time": "2021-05-13T16:11:09.190710Z",
     "start_time": "2021-05-13T16:11:08.509958Z"
    }
   },
   "outputs": [],
   "source": [
    "df1['state'] = np.where(pd.isnull(df1['state']), df1['city'].map(\n",
    "    missing_state_city_dict), df1['state'])"
   ]
  },
  {
   "cell_type": "code",
   "execution_count": 12,
   "id": "c3e629f2",
   "metadata": {
    "ExecuteTime": {
     "end_time": "2021-05-13T16:11:09.671725Z",
     "start_time": "2021-05-13T16:11:09.194694Z"
    }
   },
   "outputs": [
    {
     "data": {
      "text/html": [
       "<div>\n",
       "<style scoped>\n",
       "    .dataframe tbody tr th:only-of-type {\n",
       "        vertical-align: middle;\n",
       "    }\n",
       "\n",
       "    .dataframe tbody tr th {\n",
       "        vertical-align: top;\n",
       "    }\n",
       "\n",
       "    .dataframe thead th {\n",
       "        text-align: right;\n",
       "    }\n",
       "</style>\n",
       "<table border=\"1\" class=\"dataframe\">\n",
       "  <thead>\n",
       "    <tr style=\"text-align: right;\">\n",
       "      <th></th>\n",
       "      <th>event_id</th>\n",
       "      <th>device_id</th>\n",
       "      <th>timestamp</th>\n",
       "      <th>longitude</th>\n",
       "      <th>latitude</th>\n",
       "      <th>city</th>\n",
       "      <th>state</th>\n",
       "    </tr>\n",
       "  </thead>\n",
       "  <tbody>\n",
       "  </tbody>\n",
       "</table>\n",
       "</div>"
      ],
      "text/plain": [
       "Empty DataFrame\n",
       "Columns: [event_id, device_id, timestamp, longitude, latitude, city, state]\n",
       "Index: []"
      ]
     },
     "execution_count": 12,
     "metadata": {},
     "output_type": "execute_result"
    }
   ],
   "source": [
    "df1[(df1.city == 'Pune') & (df1.state.isna())]"
   ]
  },
  {
   "cell_type": "code",
   "execution_count": 13,
   "id": "608e458f",
   "metadata": {
    "ExecuteTime": {
     "end_time": "2021-05-13T16:11:10.214458Z",
     "start_time": "2021-05-13T16:11:09.674883Z"
    }
   },
   "outputs": [
    {
     "data": {
      "text/plain": [
       "event_id       0\n",
       "device_id    453\n",
       "timestamp      0\n",
       "longitude    423\n",
       "latitude     423\n",
       "city           0\n",
       "state          0\n",
       "dtype: int64"
      ]
     },
     "execution_count": 13,
     "metadata": {},
     "output_type": "execute_result"
    }
   ],
   "source": [
    "df1.isna().sum()"
   ]
  },
  {
   "cell_type": "code",
   "execution_count": 14,
   "id": "9e1ce01e",
   "metadata": {
    "ExecuteTime": {
     "end_time": "2021-05-13T16:11:10.270887Z",
     "start_time": "2021-05-13T16:11:10.224505Z"
    }
   },
   "outputs": [
    {
     "name": "stdout",
     "output_type": "stream",
     "text": [
      "[ 1.77963e+18 -8.79056e+18  4.86561e+18  7.98387e+18 -7.36484e+18\n",
      "  5.37560e+18  5.51866e+18  4.58018e+18 -6.03380e+18  7.66214e+18\n",
      "  2.35098e+18  4.37504e+18  4.78258e+18  1.32005e+18  5.73137e+18\n",
      "  3.73828e+18  3.05849e+17  7.01860e+18  5.11519e+18  6.77407e+18\n",
      "  3.09917e+18]\n"
     ]
    },
    {
     "data": {
      "text/plain": [
       "numpy.ndarray"
      ]
     },
     "execution_count": 14,
     "metadata": {},
     "output_type": "execute_result"
    }
   ],
   "source": [
    "x1 = df1[df1.longitude.isna()].device_id.unique()\n",
    "print(x1)\n",
    "type(x1)"
   ]
  },
  {
   "cell_type": "code",
   "execution_count": 15,
   "id": "1217ace2",
   "metadata": {
    "ExecuteTime": {
     "end_time": "2021-05-13T16:11:11.353054Z",
     "start_time": "2021-05-13T16:11:10.279611Z"
    }
   },
   "outputs": [
    {
     "name": "stdout",
     "output_type": "stream",
     "text": [
      "[77.235416, 75.933778, 83.35144199999998, 80.33543499999998, 73.931944, 77.283447, 83.384242, 75.835756, 83.31978699999998, 80.30927199999998, 75.888474, 75.824489, 77.22522, 87.570736, 80.34361299999998, 75.937988, 75.865534, 73.92622300000002, 73.88868000000002, 75.268748, 84.1409]\n",
      "[28.738901, 22.761965, 17.772251999999995, 13.189053, 18.54074, 28.718392, 17.817945, 26.960220000000003, 17.816579, 13.149176, 22.745063, 26.980345000000003, 28.718379, 26.211919, 13.153332, 22.76201, 26.987566, 18.575747, 18.556741, 30.904178, 27.17739700000001]\n"
     ]
    }
   ],
   "source": [
    "y1 = []\n",
    "y11 = []\n",
    "for i in x1:\n",
    "    z1 = df1['longitude'].where(\n",
    "        df1['device_id'] == i).dropna().unique().tolist()\n",
    "    z11 = df1['latitude'].where(\n",
    "        df1['device_id'] == i).dropna().unique().tolist()\n",
    "    y1.append(z1)\n",
    "    y11.append(z11)\n",
    "y1 = list(np.concatenate(y1).flat)\n",
    "y11 = list(np.concatenate(y11).flat)\n",
    "print(y1)\n",
    "print(y11)"
   ]
  },
  {
   "cell_type": "code",
   "execution_count": 16,
   "id": "8a10f81f",
   "metadata": {
    "ExecuteTime": {
     "end_time": "2021-05-13T16:11:20.287869Z",
     "start_time": "2021-05-13T16:11:11.358519Z"
    }
   },
   "outputs": [
    {
     "data": {
      "text/html": [
       "<div>\n",
       "<style scoped>\n",
       "    .dataframe tbody tr th:only-of-type {\n",
       "        vertical-align: middle;\n",
       "    }\n",
       "\n",
       "    .dataframe tbody tr th {\n",
       "        vertical-align: top;\n",
       "    }\n",
       "\n",
       "    .dataframe thead th {\n",
       "        text-align: right;\n",
       "    }\n",
       "</style>\n",
       "<table border=\"1\" class=\"dataframe\">\n",
       "  <thead>\n",
       "    <tr style=\"text-align: right;\">\n",
       "      <th></th>\n",
       "      <th>event_id</th>\n",
       "      <th>device_id</th>\n",
       "      <th>timestamp</th>\n",
       "      <th>longitude</th>\n",
       "      <th>latitude</th>\n",
       "      <th>city</th>\n",
       "      <th>state</th>\n",
       "    </tr>\n",
       "  </thead>\n",
       "  <tbody>\n",
       "    <tr>\n",
       "      <th>3</th>\n",
       "      <td>448114</td>\n",
       "      <td>5731369272434022400.00000</td>\n",
       "      <td>2016-05-03 13:21:16</td>\n",
       "      <td>80.34361</td>\n",
       "      <td>13.15333</td>\n",
       "      <td>Chennai</td>\n",
       "      <td>TamilNadu</td>\n",
       "    </tr>\n",
       "    <tr>\n",
       "      <th>14</th>\n",
       "      <td>460645</td>\n",
       "      <td>7983871429718484992.00000</td>\n",
       "      <td>2016-05-04 21:04:40</td>\n",
       "      <td>80.33543</td>\n",
       "      <td>13.18905</td>\n",
       "      <td>Chennai</td>\n",
       "      <td>TamilNadu</td>\n",
       "    </tr>\n",
       "    <tr>\n",
       "      <th>298</th>\n",
       "      <td>1027846</td>\n",
       "      <td>3738280493453803008.00000</td>\n",
       "      <td>2016-05-06 01:19:31</td>\n",
       "      <td>75.93799</td>\n",
       "      <td>22.76201</td>\n",
       "      <td>Indore</td>\n",
       "      <td>MadhyaPradesh</td>\n",
       "    </tr>\n",
       "    <tr>\n",
       "      <th>378</th>\n",
       "      <td>3115822</td>\n",
       "      <td>7983871429718484992.00000</td>\n",
       "      <td>2016-05-01 17:17:04</td>\n",
       "      <td>80.33543</td>\n",
       "      <td>13.18905</td>\n",
       "      <td>Chennai</td>\n",
       "      <td>TamilNadu</td>\n",
       "    </tr>\n",
       "    <tr>\n",
       "      <th>399</th>\n",
       "      <td>2520700</td>\n",
       "      <td>7983871429718484992.00000</td>\n",
       "      <td>2016-05-02 15:53:05</td>\n",
       "      <td>80.33543</td>\n",
       "      <td>13.18905</td>\n",
       "      <td>Chennai</td>\n",
       "      <td>TamilNadu</td>\n",
       "    </tr>\n",
       "    <tr>\n",
       "      <th>...</th>\n",
       "      <td>...</td>\n",
       "      <td>...</td>\n",
       "      <td>...</td>\n",
       "      <td>...</td>\n",
       "      <td>...</td>\n",
       "      <td>...</td>\n",
       "      <td>...</td>\n",
       "    </tr>\n",
       "    <tr>\n",
       "      <th>3252289</th>\n",
       "      <td>2321104</td>\n",
       "      <td>3738280493453803008.00000</td>\n",
       "      <td>2016-05-07 01:36:31</td>\n",
       "      <td>75.93799</td>\n",
       "      <td>22.76201</td>\n",
       "      <td>Indore</td>\n",
       "      <td>MadhyaPradesh</td>\n",
       "    </tr>\n",
       "    <tr>\n",
       "      <th>3252573</th>\n",
       "      <td>70176</td>\n",
       "      <td>3738280493453803008.00000</td>\n",
       "      <td>2016-05-06 00:25:53</td>\n",
       "      <td>75.93799</td>\n",
       "      <td>22.76201</td>\n",
       "      <td>Indore</td>\n",
       "      <td>MadhyaPradesh</td>\n",
       "    </tr>\n",
       "    <tr>\n",
       "      <th>3252584</th>\n",
       "      <td>2571028</td>\n",
       "      <td>7983871429718484992.00000</td>\n",
       "      <td>2016-05-02 02:26:19</td>\n",
       "      <td>80.33543</td>\n",
       "      <td>13.18905</td>\n",
       "      <td>Chennai</td>\n",
       "      <td>TamilNadu</td>\n",
       "    </tr>\n",
       "    <tr>\n",
       "      <th>3252657</th>\n",
       "      <td>2880226</td>\n",
       "      <td>7018600380123445248.00000</td>\n",
       "      <td>2016-05-04 13:03:20</td>\n",
       "      <td>73.92622</td>\n",
       "      <td>18.57575</td>\n",
       "      <td>Pune</td>\n",
       "      <td>Maharashtra</td>\n",
       "    </tr>\n",
       "    <tr>\n",
       "      <th>3252717</th>\n",
       "      <td>170588</td>\n",
       "      <td>7662139143719919616.00000</td>\n",
       "      <td>2016-05-07 23:15:15</td>\n",
       "      <td>80.30927</td>\n",
       "      <td>13.14918</td>\n",
       "      <td>Chennai</td>\n",
       "      <td>TamilNadu</td>\n",
       "    </tr>\n",
       "  </tbody>\n",
       "</table>\n",
       "<p>35500 rows × 7 columns</p>\n",
       "</div>"
      ],
      "text/plain": [
       "         event_id                 device_id            timestamp  longitude  \\\n",
       "3          448114 5731369272434022400.00000  2016-05-03 13:21:16   80.34361   \n",
       "14         460645 7983871429718484992.00000  2016-05-04 21:04:40   80.33543   \n",
       "298       1027846 3738280493453803008.00000  2016-05-06 01:19:31   75.93799   \n",
       "378       3115822 7983871429718484992.00000  2016-05-01 17:17:04   80.33543   \n",
       "399       2520700 7983871429718484992.00000  2016-05-02 15:53:05   80.33543   \n",
       "...           ...                       ...                  ...        ...   \n",
       "3252289   2321104 3738280493453803008.00000  2016-05-07 01:36:31   75.93799   \n",
       "3252573     70176 3738280493453803008.00000  2016-05-06 00:25:53   75.93799   \n",
       "3252584   2571028 7983871429718484992.00000  2016-05-02 02:26:19   80.33543   \n",
       "3252657   2880226 7018600380123445248.00000  2016-05-04 13:03:20   73.92622   \n",
       "3252717    170588 7662139143719919616.00000  2016-05-07 23:15:15   80.30927   \n",
       "\n",
       "         latitude     city          state  \n",
       "3        13.15333  Chennai      TamilNadu  \n",
       "14       13.18905  Chennai      TamilNadu  \n",
       "298      22.76201   Indore  MadhyaPradesh  \n",
       "378      13.18905  Chennai      TamilNadu  \n",
       "399      13.18905  Chennai      TamilNadu  \n",
       "...           ...      ...            ...  \n",
       "3252289  22.76201   Indore  MadhyaPradesh  \n",
       "3252573  22.76201   Indore  MadhyaPradesh  \n",
       "3252584  13.18905  Chennai      TamilNadu  \n",
       "3252657  18.57575     Pune    Maharashtra  \n",
       "3252717  13.14918  Chennai      TamilNadu  \n",
       "\n",
       "[35500 rows x 7 columns]"
      ]
     },
     "execution_count": 16,
     "metadata": {},
     "output_type": "execute_result"
    }
   ],
   "source": [
    "df1[df1.device_id.isin(x1)]"
   ]
  },
  {
   "cell_type": "code",
   "execution_count": 17,
   "id": "0dba10e0",
   "metadata": {
    "ExecuteTime": {
     "end_time": "2021-05-13T16:11:20.315634Z",
     "start_time": "2021-05-13T16:11:20.291804Z"
    }
   },
   "outputs": [
    {
     "name": "stdout",
     "output_type": "stream",
     "text": [
      "{1.7796310234394053e+18: 77.235416, -8.790560034584249e+18: 75.933778, 4.865606571395669e+18: 83.35144199999998, 7.983871429718485e+18: 80.33543499999998, -7.364840628879981e+18: 73.931944, 5.375599021847303e+18: 77.283447, 5.518659601894558e+18: 83.384242, 4.580179444377398e+18: 75.835756, -6.033798388179802e+18: 83.31978699999998, 7.66213914371992e+18: 80.30927199999998, 2.3509794022024387e+18: 75.888474, 4.37503983023287e+18: 75.824489, 4.782582047729166e+18: 77.22522, 1.3200509770197112e+18: 87.570736, 5.731369272434022e+18: 80.34361299999998, 3.738280493453803e+18: 75.937988, 3.058487753865349e+17: 75.865534, 7.018600380123445e+18: 73.92622300000002, 5.115185276392513e+18: 73.88868000000002, 6.774071338248978e+18: 75.268748, 3.0991685461987686e+18: 84.1409}\n",
      "{1.7796310234394053e+18: 28.738901, -8.790560034584249e+18: 22.761965, 4.865606571395669e+18: 17.772251999999995, 7.983871429718485e+18: 13.189053, -7.364840628879981e+18: 18.54074, 5.375599021847303e+18: 28.718392, 5.518659601894558e+18: 17.817945, 4.580179444377398e+18: 26.960220000000003, -6.033798388179802e+18: 17.816579, 7.66213914371992e+18: 13.149176, 2.3509794022024387e+18: 22.745063, 4.37503983023287e+18: 26.980345000000003, 4.782582047729166e+18: 28.718379, 1.3200509770197112e+18: 26.211919, 5.731369272434022e+18: 13.153332, 3.738280493453803e+18: 22.76201, 3.058487753865349e+17: 26.987566, 7.018600380123445e+18: 18.575747, 5.115185276392513e+18: 18.556741, 6.774071338248978e+18: 30.904178, 3.0991685461987686e+18: 27.17739700000001}\n"
     ]
    }
   ],
   "source": [
    "missing_long_dict = dict(zip(x1, y1))\n",
    "missing_lat_dict = dict(zip(x1, y11))\n",
    "print(missing_long_dict)\n",
    "print(missing_lat_dict)"
   ]
  },
  {
   "cell_type": "code",
   "execution_count": 18,
   "id": "e57925eb",
   "metadata": {
    "ExecuteTime": {
     "end_time": "2021-05-13T16:11:20.364313Z",
     "start_time": "2021-05-13T16:11:20.319521Z"
    }
   },
   "outputs": [
    {
     "data": {
      "text/html": [
       "<div>\n",
       "<style scoped>\n",
       "    .dataframe tbody tr th:only-of-type {\n",
       "        vertical-align: middle;\n",
       "    }\n",
       "\n",
       "    .dataframe tbody tr th {\n",
       "        vertical-align: top;\n",
       "    }\n",
       "\n",
       "    .dataframe thead th {\n",
       "        text-align: right;\n",
       "    }\n",
       "</style>\n",
       "<table border=\"1\" class=\"dataframe\">\n",
       "  <thead>\n",
       "    <tr style=\"text-align: right;\">\n",
       "      <th></th>\n",
       "      <th>event_id</th>\n",
       "      <th>device_id</th>\n",
       "      <th>timestamp</th>\n",
       "      <th>longitude</th>\n",
       "      <th>latitude</th>\n",
       "      <th>city</th>\n",
       "      <th>state</th>\n",
       "    </tr>\n",
       "  </thead>\n",
       "  <tbody>\n",
       "  </tbody>\n",
       "</table>\n",
       "</div>"
      ],
      "text/plain": [
       "Empty DataFrame\n",
       "Columns: [event_id, device_id, timestamp, longitude, latitude, city, state]\n",
       "Index: []"
      ]
     },
     "execution_count": 18,
     "metadata": {},
     "output_type": "execute_result"
    }
   ],
   "source": [
    "df1[(df1.longitude == 80.34361) & (df1.latitude != 13.15333)]"
   ]
  },
  {
   "cell_type": "code",
   "execution_count": 19,
   "id": "9942ce78",
   "metadata": {
    "ExecuteTime": {
     "end_time": "2021-05-13T16:11:20.454152Z",
     "start_time": "2021-05-13T16:11:20.367545Z"
    }
   },
   "outputs": [
    {
     "data": {
      "text/html": [
       "<div>\n",
       "<style scoped>\n",
       "    .dataframe tbody tr th:only-of-type {\n",
       "        vertical-align: middle;\n",
       "    }\n",
       "\n",
       "    .dataframe tbody tr th {\n",
       "        vertical-align: top;\n",
       "    }\n",
       "\n",
       "    .dataframe thead th {\n",
       "        text-align: right;\n",
       "    }\n",
       "</style>\n",
       "<table border=\"1\" class=\"dataframe\">\n",
       "  <thead>\n",
       "    <tr style=\"text-align: right;\">\n",
       "      <th></th>\n",
       "      <th>event_id</th>\n",
       "      <th>device_id</th>\n",
       "      <th>timestamp</th>\n",
       "      <th>longitude</th>\n",
       "      <th>latitude</th>\n",
       "      <th>city</th>\n",
       "      <th>state</th>\n",
       "    </tr>\n",
       "  </thead>\n",
       "  <tbody>\n",
       "    <tr>\n",
       "      <th>125853</th>\n",
       "      <td>918193</td>\n",
       "      <td>5731369272434022400.00000</td>\n",
       "      <td>2016-05-04 04:35:06</td>\n",
       "      <td>NaN</td>\n",
       "      <td>NaN</td>\n",
       "      <td>Chennai</td>\n",
       "      <td>TamilNadu</td>\n",
       "    </tr>\n",
       "    <tr>\n",
       "      <th>268620</th>\n",
       "      <td>3173472</td>\n",
       "      <td>5731369272434022400.00000</td>\n",
       "      <td>2016-05-07 16:45:56</td>\n",
       "      <td>NaN</td>\n",
       "      <td>NaN</td>\n",
       "      <td>Chennai</td>\n",
       "      <td>TamilNadu</td>\n",
       "    </tr>\n",
       "    <tr>\n",
       "      <th>741408</th>\n",
       "      <td>1817900</td>\n",
       "      <td>5731369272434022400.00000</td>\n",
       "      <td>2016-05-02 04:49:52</td>\n",
       "      <td>NaN</td>\n",
       "      <td>NaN</td>\n",
       "      <td>Chennai</td>\n",
       "      <td>TamilNadu</td>\n",
       "    </tr>\n",
       "    <tr>\n",
       "      <th>919287</th>\n",
       "      <td>2278585</td>\n",
       "      <td>5731369272434022400.00000</td>\n",
       "      <td>2016-05-07 01:42:57</td>\n",
       "      <td>NaN</td>\n",
       "      <td>NaN</td>\n",
       "      <td>Chennai</td>\n",
       "      <td>TamilNadu</td>\n",
       "    </tr>\n",
       "    <tr>\n",
       "      <th>1000756</th>\n",
       "      <td>1822609</td>\n",
       "      <td>5731369272434022400.00000</td>\n",
       "      <td>2016-05-04 09:38:01</td>\n",
       "      <td>NaN</td>\n",
       "      <td>NaN</td>\n",
       "      <td>Chennai</td>\n",
       "      <td>TamilNadu</td>\n",
       "    </tr>\n",
       "    <tr>\n",
       "      <th>1489097</th>\n",
       "      <td>2109783</td>\n",
       "      <td>5731369272434022400.00000</td>\n",
       "      <td>2016-05-06 11:48:13</td>\n",
       "      <td>NaN</td>\n",
       "      <td>NaN</td>\n",
       "      <td>Chennai</td>\n",
       "      <td>TamilNadu</td>\n",
       "    </tr>\n",
       "    <tr>\n",
       "      <th>1939193</th>\n",
       "      <td>2128786</td>\n",
       "      <td>5731369272434022400.00000</td>\n",
       "      <td>2016-05-06 18:33:15</td>\n",
       "      <td>NaN</td>\n",
       "      <td>NaN</td>\n",
       "      <td>Chennai</td>\n",
       "      <td>TamilNadu</td>\n",
       "    </tr>\n",
       "    <tr>\n",
       "      <th>1959017</th>\n",
       "      <td>57583</td>\n",
       "      <td>5731369272434022400.00000</td>\n",
       "      <td>2016-05-05 20:18:08</td>\n",
       "      <td>NaN</td>\n",
       "      <td>NaN</td>\n",
       "      <td>Chennai</td>\n",
       "      <td>TamilNadu</td>\n",
       "    </tr>\n",
       "    <tr>\n",
       "      <th>2017908</th>\n",
       "      <td>1026089</td>\n",
       "      <td>5731369272434022400.00000</td>\n",
       "      <td>2016-05-06 23:19:37</td>\n",
       "      <td>NaN</td>\n",
       "      <td>NaN</td>\n",
       "      <td>Chennai</td>\n",
       "      <td>TamilNadu</td>\n",
       "    </tr>\n",
       "    <tr>\n",
       "      <th>2040481</th>\n",
       "      <td>1838018</td>\n",
       "      <td>5731369272434022400.00000</td>\n",
       "      <td>2016-05-02 21:32:06</td>\n",
       "      <td>NaN</td>\n",
       "      <td>NaN</td>\n",
       "      <td>Chennai</td>\n",
       "      <td>TamilNadu</td>\n",
       "    </tr>\n",
       "    <tr>\n",
       "      <th>2132181</th>\n",
       "      <td>2313728</td>\n",
       "      <td>5731369272434022400.00000</td>\n",
       "      <td>2016-05-02 04:00:30</td>\n",
       "      <td>NaN</td>\n",
       "      <td>NaN</td>\n",
       "      <td>Chennai</td>\n",
       "      <td>TamilNadu</td>\n",
       "    </tr>\n",
       "    <tr>\n",
       "      <th>2241879</th>\n",
       "      <td>2099045</td>\n",
       "      <td>5731369272434022400.00000</td>\n",
       "      <td>2016-05-02 00:54:27</td>\n",
       "      <td>NaN</td>\n",
       "      <td>NaN</td>\n",
       "      <td>Chennai</td>\n",
       "      <td>TamilNadu</td>\n",
       "    </tr>\n",
       "    <tr>\n",
       "      <th>2250218</th>\n",
       "      <td>2320341</td>\n",
       "      <td>5731369272434022400.00000</td>\n",
       "      <td>2016-05-02 01:06:38</td>\n",
       "      <td>NaN</td>\n",
       "      <td>NaN</td>\n",
       "      <td>Chennai</td>\n",
       "      <td>TamilNadu</td>\n",
       "    </tr>\n",
       "    <tr>\n",
       "      <th>2492280</th>\n",
       "      <td>2403481</td>\n",
       "      <td>5731369272434022400.00000</td>\n",
       "      <td>2016-05-04 16:32:35</td>\n",
       "      <td>NaN</td>\n",
       "      <td>NaN</td>\n",
       "      <td>Chennai</td>\n",
       "      <td>TamilNadu</td>\n",
       "    </tr>\n",
       "    <tr>\n",
       "      <th>2558473</th>\n",
       "      <td>942233</td>\n",
       "      <td>5731369272434022400.00000</td>\n",
       "      <td>2016-05-06 23:14:16</td>\n",
       "      <td>NaN</td>\n",
       "      <td>NaN</td>\n",
       "      <td>Chennai</td>\n",
       "      <td>TamilNadu</td>\n",
       "    </tr>\n",
       "    <tr>\n",
       "      <th>2585522</th>\n",
       "      <td>284728</td>\n",
       "      <td>5731369272434022400.00000</td>\n",
       "      <td>2016-05-07 16:56:26</td>\n",
       "      <td>NaN</td>\n",
       "      <td>NaN</td>\n",
       "      <td>Chennai</td>\n",
       "      <td>TamilNadu</td>\n",
       "    </tr>\n",
       "    <tr>\n",
       "      <th>2622871</th>\n",
       "      <td>513921</td>\n",
       "      <td>5731369272434022400.00000</td>\n",
       "      <td>2016-05-06 18:17:55</td>\n",
       "      <td>NaN</td>\n",
       "      <td>NaN</td>\n",
       "      <td>Chennai</td>\n",
       "      <td>TamilNadu</td>\n",
       "    </tr>\n",
       "    <tr>\n",
       "      <th>2631815</th>\n",
       "      <td>1445607</td>\n",
       "      <td>5731369272434022400.00000</td>\n",
       "      <td>2016-05-01 08:12:51</td>\n",
       "      <td>NaN</td>\n",
       "      <td>NaN</td>\n",
       "      <td>Chennai</td>\n",
       "      <td>TamilNadu</td>\n",
       "    </tr>\n",
       "    <tr>\n",
       "      <th>2953820</th>\n",
       "      <td>2724557</td>\n",
       "      <td>5731369272434022400.00000</td>\n",
       "      <td>2016-05-02 00:36:50</td>\n",
       "      <td>NaN</td>\n",
       "      <td>NaN</td>\n",
       "      <td>Chennai</td>\n",
       "      <td>TamilNadu</td>\n",
       "    </tr>\n",
       "    <tr>\n",
       "      <th>2963742</th>\n",
       "      <td>2232236</td>\n",
       "      <td>5731369272434022400.00000</td>\n",
       "      <td>2016-05-07 09:05:35</td>\n",
       "      <td>NaN</td>\n",
       "      <td>NaN</td>\n",
       "      <td>Chennai</td>\n",
       "      <td>TamilNadu</td>\n",
       "    </tr>\n",
       "    <tr>\n",
       "      <th>2971236</th>\n",
       "      <td>759616</td>\n",
       "      <td>5731369272434022400.00000</td>\n",
       "      <td>2016-05-02 05:33:52</td>\n",
       "      <td>NaN</td>\n",
       "      <td>NaN</td>\n",
       "      <td>Chennai</td>\n",
       "      <td>TamilNadu</td>\n",
       "    </tr>\n",
       "  </tbody>\n",
       "</table>\n",
       "</div>"
      ],
      "text/plain": [
       "         event_id                 device_id            timestamp  longitude  \\\n",
       "125853     918193 5731369272434022400.00000  2016-05-04 04:35:06        NaN   \n",
       "268620    3173472 5731369272434022400.00000  2016-05-07 16:45:56        NaN   \n",
       "741408    1817900 5731369272434022400.00000  2016-05-02 04:49:52        NaN   \n",
       "919287    2278585 5731369272434022400.00000  2016-05-07 01:42:57        NaN   \n",
       "1000756   1822609 5731369272434022400.00000  2016-05-04 09:38:01        NaN   \n",
       "1489097   2109783 5731369272434022400.00000  2016-05-06 11:48:13        NaN   \n",
       "1939193   2128786 5731369272434022400.00000  2016-05-06 18:33:15        NaN   \n",
       "1959017     57583 5731369272434022400.00000  2016-05-05 20:18:08        NaN   \n",
       "2017908   1026089 5731369272434022400.00000  2016-05-06 23:19:37        NaN   \n",
       "2040481   1838018 5731369272434022400.00000  2016-05-02 21:32:06        NaN   \n",
       "2132181   2313728 5731369272434022400.00000  2016-05-02 04:00:30        NaN   \n",
       "2241879   2099045 5731369272434022400.00000  2016-05-02 00:54:27        NaN   \n",
       "2250218   2320341 5731369272434022400.00000  2016-05-02 01:06:38        NaN   \n",
       "2492280   2403481 5731369272434022400.00000  2016-05-04 16:32:35        NaN   \n",
       "2558473    942233 5731369272434022400.00000  2016-05-06 23:14:16        NaN   \n",
       "2585522    284728 5731369272434022400.00000  2016-05-07 16:56:26        NaN   \n",
       "2622871    513921 5731369272434022400.00000  2016-05-06 18:17:55        NaN   \n",
       "2631815   1445607 5731369272434022400.00000  2016-05-01 08:12:51        NaN   \n",
       "2953820   2724557 5731369272434022400.00000  2016-05-02 00:36:50        NaN   \n",
       "2963742   2232236 5731369272434022400.00000  2016-05-07 09:05:35        NaN   \n",
       "2971236    759616 5731369272434022400.00000  2016-05-02 05:33:52        NaN   \n",
       "\n",
       "         latitude     city      state  \n",
       "125853        NaN  Chennai  TamilNadu  \n",
       "268620        NaN  Chennai  TamilNadu  \n",
       "741408        NaN  Chennai  TamilNadu  \n",
       "919287        NaN  Chennai  TamilNadu  \n",
       "1000756       NaN  Chennai  TamilNadu  \n",
       "1489097       NaN  Chennai  TamilNadu  \n",
       "1939193       NaN  Chennai  TamilNadu  \n",
       "1959017       NaN  Chennai  TamilNadu  \n",
       "2017908       NaN  Chennai  TamilNadu  \n",
       "2040481       NaN  Chennai  TamilNadu  \n",
       "2132181       NaN  Chennai  TamilNadu  \n",
       "2241879       NaN  Chennai  TamilNadu  \n",
       "2250218       NaN  Chennai  TamilNadu  \n",
       "2492280       NaN  Chennai  TamilNadu  \n",
       "2558473       NaN  Chennai  TamilNadu  \n",
       "2585522       NaN  Chennai  TamilNadu  \n",
       "2622871       NaN  Chennai  TamilNadu  \n",
       "2631815       NaN  Chennai  TamilNadu  \n",
       "2953820       NaN  Chennai  TamilNadu  \n",
       "2963742       NaN  Chennai  TamilNadu  \n",
       "2971236       NaN  Chennai  TamilNadu  "
      ]
     },
     "execution_count": 19,
     "metadata": {},
     "output_type": "execute_result"
    }
   ],
   "source": [
    "df1[(df1.device_id == 5731369272434022400) & (df1.longitude.isna())]"
   ]
  },
  {
   "cell_type": "code",
   "execution_count": 20,
   "id": "c2517454",
   "metadata": {
    "ExecuteTime": {
     "end_time": "2021-05-13T16:11:20.708067Z",
     "start_time": "2021-05-13T16:11:20.459673Z"
    }
   },
   "outputs": [],
   "source": [
    "df1['longitude'] = np.where(pd.isnull(df1['longitude']), df1['device_id'].map(\n",
    "    missing_long_dict), df1['longitude'])"
   ]
  },
  {
   "cell_type": "code",
   "execution_count": 21,
   "id": "df6f4a86",
   "metadata": {
    "ExecuteTime": {
     "end_time": "2021-05-13T16:11:20.779088Z",
     "start_time": "2021-05-13T16:11:20.723311Z"
    }
   },
   "outputs": [
    {
     "data": {
      "text/html": [
       "<div>\n",
       "<style scoped>\n",
       "    .dataframe tbody tr th:only-of-type {\n",
       "        vertical-align: middle;\n",
       "    }\n",
       "\n",
       "    .dataframe tbody tr th {\n",
       "        vertical-align: top;\n",
       "    }\n",
       "\n",
       "    .dataframe thead th {\n",
       "        text-align: right;\n",
       "    }\n",
       "</style>\n",
       "<table border=\"1\" class=\"dataframe\">\n",
       "  <thead>\n",
       "    <tr style=\"text-align: right;\">\n",
       "      <th></th>\n",
       "      <th>event_id</th>\n",
       "      <th>device_id</th>\n",
       "      <th>timestamp</th>\n",
       "      <th>longitude</th>\n",
       "      <th>latitude</th>\n",
       "      <th>city</th>\n",
       "      <th>state</th>\n",
       "    </tr>\n",
       "  </thead>\n",
       "  <tbody>\n",
       "    <tr>\n",
       "      <th>125853</th>\n",
       "      <td>918193</td>\n",
       "      <td>5731369272434022400.00000</td>\n",
       "      <td>2016-05-04 04:35:06</td>\n",
       "      <td>80.34361</td>\n",
       "      <td>NaN</td>\n",
       "      <td>Chennai</td>\n",
       "      <td>TamilNadu</td>\n",
       "    </tr>\n",
       "    <tr>\n",
       "      <th>268620</th>\n",
       "      <td>3173472</td>\n",
       "      <td>5731369272434022400.00000</td>\n",
       "      <td>2016-05-07 16:45:56</td>\n",
       "      <td>80.34361</td>\n",
       "      <td>NaN</td>\n",
       "      <td>Chennai</td>\n",
       "      <td>TamilNadu</td>\n",
       "    </tr>\n",
       "    <tr>\n",
       "      <th>741408</th>\n",
       "      <td>1817900</td>\n",
       "      <td>5731369272434022400.00000</td>\n",
       "      <td>2016-05-02 04:49:52</td>\n",
       "      <td>80.34361</td>\n",
       "      <td>NaN</td>\n",
       "      <td>Chennai</td>\n",
       "      <td>TamilNadu</td>\n",
       "    </tr>\n",
       "    <tr>\n",
       "      <th>919287</th>\n",
       "      <td>2278585</td>\n",
       "      <td>5731369272434022400.00000</td>\n",
       "      <td>2016-05-07 01:42:57</td>\n",
       "      <td>80.34361</td>\n",
       "      <td>NaN</td>\n",
       "      <td>Chennai</td>\n",
       "      <td>TamilNadu</td>\n",
       "    </tr>\n",
       "    <tr>\n",
       "      <th>1000756</th>\n",
       "      <td>1822609</td>\n",
       "      <td>5731369272434022400.00000</td>\n",
       "      <td>2016-05-04 09:38:01</td>\n",
       "      <td>80.34361</td>\n",
       "      <td>NaN</td>\n",
       "      <td>Chennai</td>\n",
       "      <td>TamilNadu</td>\n",
       "    </tr>\n",
       "    <tr>\n",
       "      <th>1489097</th>\n",
       "      <td>2109783</td>\n",
       "      <td>5731369272434022400.00000</td>\n",
       "      <td>2016-05-06 11:48:13</td>\n",
       "      <td>80.34361</td>\n",
       "      <td>NaN</td>\n",
       "      <td>Chennai</td>\n",
       "      <td>TamilNadu</td>\n",
       "    </tr>\n",
       "    <tr>\n",
       "      <th>1939193</th>\n",
       "      <td>2128786</td>\n",
       "      <td>5731369272434022400.00000</td>\n",
       "      <td>2016-05-06 18:33:15</td>\n",
       "      <td>80.34361</td>\n",
       "      <td>NaN</td>\n",
       "      <td>Chennai</td>\n",
       "      <td>TamilNadu</td>\n",
       "    </tr>\n",
       "    <tr>\n",
       "      <th>1959017</th>\n",
       "      <td>57583</td>\n",
       "      <td>5731369272434022400.00000</td>\n",
       "      <td>2016-05-05 20:18:08</td>\n",
       "      <td>80.34361</td>\n",
       "      <td>NaN</td>\n",
       "      <td>Chennai</td>\n",
       "      <td>TamilNadu</td>\n",
       "    </tr>\n",
       "    <tr>\n",
       "      <th>2017908</th>\n",
       "      <td>1026089</td>\n",
       "      <td>5731369272434022400.00000</td>\n",
       "      <td>2016-05-06 23:19:37</td>\n",
       "      <td>80.34361</td>\n",
       "      <td>NaN</td>\n",
       "      <td>Chennai</td>\n",
       "      <td>TamilNadu</td>\n",
       "    </tr>\n",
       "    <tr>\n",
       "      <th>2040481</th>\n",
       "      <td>1838018</td>\n",
       "      <td>5731369272434022400.00000</td>\n",
       "      <td>2016-05-02 21:32:06</td>\n",
       "      <td>80.34361</td>\n",
       "      <td>NaN</td>\n",
       "      <td>Chennai</td>\n",
       "      <td>TamilNadu</td>\n",
       "    </tr>\n",
       "    <tr>\n",
       "      <th>2132181</th>\n",
       "      <td>2313728</td>\n",
       "      <td>5731369272434022400.00000</td>\n",
       "      <td>2016-05-02 04:00:30</td>\n",
       "      <td>80.34361</td>\n",
       "      <td>NaN</td>\n",
       "      <td>Chennai</td>\n",
       "      <td>TamilNadu</td>\n",
       "    </tr>\n",
       "    <tr>\n",
       "      <th>2241879</th>\n",
       "      <td>2099045</td>\n",
       "      <td>5731369272434022400.00000</td>\n",
       "      <td>2016-05-02 00:54:27</td>\n",
       "      <td>80.34361</td>\n",
       "      <td>NaN</td>\n",
       "      <td>Chennai</td>\n",
       "      <td>TamilNadu</td>\n",
       "    </tr>\n",
       "    <tr>\n",
       "      <th>2250218</th>\n",
       "      <td>2320341</td>\n",
       "      <td>5731369272434022400.00000</td>\n",
       "      <td>2016-05-02 01:06:38</td>\n",
       "      <td>80.34361</td>\n",
       "      <td>NaN</td>\n",
       "      <td>Chennai</td>\n",
       "      <td>TamilNadu</td>\n",
       "    </tr>\n",
       "    <tr>\n",
       "      <th>2492280</th>\n",
       "      <td>2403481</td>\n",
       "      <td>5731369272434022400.00000</td>\n",
       "      <td>2016-05-04 16:32:35</td>\n",
       "      <td>80.34361</td>\n",
       "      <td>NaN</td>\n",
       "      <td>Chennai</td>\n",
       "      <td>TamilNadu</td>\n",
       "    </tr>\n",
       "    <tr>\n",
       "      <th>2558473</th>\n",
       "      <td>942233</td>\n",
       "      <td>5731369272434022400.00000</td>\n",
       "      <td>2016-05-06 23:14:16</td>\n",
       "      <td>80.34361</td>\n",
       "      <td>NaN</td>\n",
       "      <td>Chennai</td>\n",
       "      <td>TamilNadu</td>\n",
       "    </tr>\n",
       "    <tr>\n",
       "      <th>2585522</th>\n",
       "      <td>284728</td>\n",
       "      <td>5731369272434022400.00000</td>\n",
       "      <td>2016-05-07 16:56:26</td>\n",
       "      <td>80.34361</td>\n",
       "      <td>NaN</td>\n",
       "      <td>Chennai</td>\n",
       "      <td>TamilNadu</td>\n",
       "    </tr>\n",
       "    <tr>\n",
       "      <th>2622871</th>\n",
       "      <td>513921</td>\n",
       "      <td>5731369272434022400.00000</td>\n",
       "      <td>2016-05-06 18:17:55</td>\n",
       "      <td>80.34361</td>\n",
       "      <td>NaN</td>\n",
       "      <td>Chennai</td>\n",
       "      <td>TamilNadu</td>\n",
       "    </tr>\n",
       "    <tr>\n",
       "      <th>2631815</th>\n",
       "      <td>1445607</td>\n",
       "      <td>5731369272434022400.00000</td>\n",
       "      <td>2016-05-01 08:12:51</td>\n",
       "      <td>80.34361</td>\n",
       "      <td>NaN</td>\n",
       "      <td>Chennai</td>\n",
       "      <td>TamilNadu</td>\n",
       "    </tr>\n",
       "    <tr>\n",
       "      <th>2953820</th>\n",
       "      <td>2724557</td>\n",
       "      <td>5731369272434022400.00000</td>\n",
       "      <td>2016-05-02 00:36:50</td>\n",
       "      <td>80.34361</td>\n",
       "      <td>NaN</td>\n",
       "      <td>Chennai</td>\n",
       "      <td>TamilNadu</td>\n",
       "    </tr>\n",
       "    <tr>\n",
       "      <th>2963742</th>\n",
       "      <td>2232236</td>\n",
       "      <td>5731369272434022400.00000</td>\n",
       "      <td>2016-05-07 09:05:35</td>\n",
       "      <td>80.34361</td>\n",
       "      <td>NaN</td>\n",
       "      <td>Chennai</td>\n",
       "      <td>TamilNadu</td>\n",
       "    </tr>\n",
       "    <tr>\n",
       "      <th>2971236</th>\n",
       "      <td>759616</td>\n",
       "      <td>5731369272434022400.00000</td>\n",
       "      <td>2016-05-02 05:33:52</td>\n",
       "      <td>80.34361</td>\n",
       "      <td>NaN</td>\n",
       "      <td>Chennai</td>\n",
       "      <td>TamilNadu</td>\n",
       "    </tr>\n",
       "  </tbody>\n",
       "</table>\n",
       "</div>"
      ],
      "text/plain": [
       "         event_id                 device_id            timestamp  longitude  \\\n",
       "125853     918193 5731369272434022400.00000  2016-05-04 04:35:06   80.34361   \n",
       "268620    3173472 5731369272434022400.00000  2016-05-07 16:45:56   80.34361   \n",
       "741408    1817900 5731369272434022400.00000  2016-05-02 04:49:52   80.34361   \n",
       "919287    2278585 5731369272434022400.00000  2016-05-07 01:42:57   80.34361   \n",
       "1000756   1822609 5731369272434022400.00000  2016-05-04 09:38:01   80.34361   \n",
       "1489097   2109783 5731369272434022400.00000  2016-05-06 11:48:13   80.34361   \n",
       "1939193   2128786 5731369272434022400.00000  2016-05-06 18:33:15   80.34361   \n",
       "1959017     57583 5731369272434022400.00000  2016-05-05 20:18:08   80.34361   \n",
       "2017908   1026089 5731369272434022400.00000  2016-05-06 23:19:37   80.34361   \n",
       "2040481   1838018 5731369272434022400.00000  2016-05-02 21:32:06   80.34361   \n",
       "2132181   2313728 5731369272434022400.00000  2016-05-02 04:00:30   80.34361   \n",
       "2241879   2099045 5731369272434022400.00000  2016-05-02 00:54:27   80.34361   \n",
       "2250218   2320341 5731369272434022400.00000  2016-05-02 01:06:38   80.34361   \n",
       "2492280   2403481 5731369272434022400.00000  2016-05-04 16:32:35   80.34361   \n",
       "2558473    942233 5731369272434022400.00000  2016-05-06 23:14:16   80.34361   \n",
       "2585522    284728 5731369272434022400.00000  2016-05-07 16:56:26   80.34361   \n",
       "2622871    513921 5731369272434022400.00000  2016-05-06 18:17:55   80.34361   \n",
       "2631815   1445607 5731369272434022400.00000  2016-05-01 08:12:51   80.34361   \n",
       "2953820   2724557 5731369272434022400.00000  2016-05-02 00:36:50   80.34361   \n",
       "2963742   2232236 5731369272434022400.00000  2016-05-07 09:05:35   80.34361   \n",
       "2971236    759616 5731369272434022400.00000  2016-05-02 05:33:52   80.34361   \n",
       "\n",
       "         latitude     city      state  \n",
       "125853        NaN  Chennai  TamilNadu  \n",
       "268620        NaN  Chennai  TamilNadu  \n",
       "741408        NaN  Chennai  TamilNadu  \n",
       "919287        NaN  Chennai  TamilNadu  \n",
       "1000756       NaN  Chennai  TamilNadu  \n",
       "1489097       NaN  Chennai  TamilNadu  \n",
       "1939193       NaN  Chennai  TamilNadu  \n",
       "1959017       NaN  Chennai  TamilNadu  \n",
       "2017908       NaN  Chennai  TamilNadu  \n",
       "2040481       NaN  Chennai  TamilNadu  \n",
       "2132181       NaN  Chennai  TamilNadu  \n",
       "2241879       NaN  Chennai  TamilNadu  \n",
       "2250218       NaN  Chennai  TamilNadu  \n",
       "2492280       NaN  Chennai  TamilNadu  \n",
       "2558473       NaN  Chennai  TamilNadu  \n",
       "2585522       NaN  Chennai  TamilNadu  \n",
       "2622871       NaN  Chennai  TamilNadu  \n",
       "2631815       NaN  Chennai  TamilNadu  \n",
       "2953820       NaN  Chennai  TamilNadu  \n",
       "2963742       NaN  Chennai  TamilNadu  \n",
       "2971236       NaN  Chennai  TamilNadu  "
      ]
     },
     "execution_count": 21,
     "metadata": {},
     "output_type": "execute_result"
    }
   ],
   "source": [
    "df1[(df1.device_id == 5731369272434022400) & (df1.latitude.isna())]"
   ]
  },
  {
   "cell_type": "code",
   "execution_count": 22,
   "id": "a6f0dfe8",
   "metadata": {
    "ExecuteTime": {
     "end_time": "2021-05-13T16:11:20.958491Z",
     "start_time": "2021-05-13T16:11:20.782668Z"
    }
   },
   "outputs": [],
   "source": [
    "df1['latitude'] = np.where(pd.isnull(df1['latitude']), df1['device_id'].map(\n",
    "    missing_lat_dict), df1['latitude'])"
   ]
  },
  {
   "cell_type": "code",
   "execution_count": 23,
   "id": "22feed7b",
   "metadata": {
    "ExecuteTime": {
     "end_time": "2021-05-13T16:11:20.984182Z",
     "start_time": "2021-05-13T16:11:20.967737Z"
    }
   },
   "outputs": [
    {
     "data": {
      "text/html": [
       "<div>\n",
       "<style scoped>\n",
       "    .dataframe tbody tr th:only-of-type {\n",
       "        vertical-align: middle;\n",
       "    }\n",
       "\n",
       "    .dataframe tbody tr th {\n",
       "        vertical-align: top;\n",
       "    }\n",
       "\n",
       "    .dataframe thead th {\n",
       "        text-align: right;\n",
       "    }\n",
       "</style>\n",
       "<table border=\"1\" class=\"dataframe\">\n",
       "  <thead>\n",
       "    <tr style=\"text-align: right;\">\n",
       "      <th></th>\n",
       "      <th>event_id</th>\n",
       "      <th>device_id</th>\n",
       "      <th>timestamp</th>\n",
       "      <th>longitude</th>\n",
       "      <th>latitude</th>\n",
       "      <th>city</th>\n",
       "      <th>state</th>\n",
       "    </tr>\n",
       "  </thead>\n",
       "  <tbody>\n",
       "    <tr>\n",
       "      <th>125853</th>\n",
       "      <td>918193</td>\n",
       "      <td>5731369272434022400.00000</td>\n",
       "      <td>2016-05-04 04:35:06</td>\n",
       "      <td>80.34361</td>\n",
       "      <td>13.15333</td>\n",
       "      <td>Chennai</td>\n",
       "      <td>TamilNadu</td>\n",
       "    </tr>\n",
       "  </tbody>\n",
       "</table>\n",
       "</div>"
      ],
      "text/plain": [
       "        event_id                 device_id            timestamp  longitude  \\\n",
       "125853    918193 5731369272434022400.00000  2016-05-04 04:35:06   80.34361   \n",
       "\n",
       "        latitude     city      state  \n",
       "125853  13.15333  Chennai  TamilNadu  "
      ]
     },
     "execution_count": 23,
     "metadata": {},
     "output_type": "execute_result"
    }
   ],
   "source": [
    "df1[(df1.event_id == 918193)]"
   ]
  },
  {
   "cell_type": "code",
   "execution_count": 24,
   "id": "20f437f2",
   "metadata": {
    "ExecuteTime": {
     "end_time": "2021-05-13T16:11:21.668156Z",
     "start_time": "2021-05-13T16:11:20.990399Z"
    }
   },
   "outputs": [
    {
     "data": {
      "text/plain": [
       "event_id       0\n",
       "device_id    453\n",
       "timestamp      0\n",
       "longitude      0\n",
       "latitude       0\n",
       "city           0\n",
       "state          0\n",
       "dtype: int64"
      ]
     },
     "execution_count": 24,
     "metadata": {},
     "output_type": "execute_result"
    }
   ],
   "source": [
    "df1.isna().sum()"
   ]
  },
  {
   "cell_type": "code",
   "execution_count": 25,
   "id": "6c8a0b75",
   "metadata": {
    "ExecuteTime": {
     "end_time": "2021-05-13T16:11:21.808620Z",
     "start_time": "2021-05-13T16:11:21.671594Z"
    }
   },
   "outputs": [
    {
     "data": {
      "text/html": [
       "<div>\n",
       "<style scoped>\n",
       "    .dataframe tbody tr th:only-of-type {\n",
       "        vertical-align: middle;\n",
       "    }\n",
       "\n",
       "    .dataframe tbody tr th {\n",
       "        vertical-align: top;\n",
       "    }\n",
       "\n",
       "    .dataframe thead th {\n",
       "        text-align: right;\n",
       "    }\n",
       "</style>\n",
       "<table border=\"1\" class=\"dataframe\">\n",
       "  <thead>\n",
       "    <tr style=\"text-align: right;\">\n",
       "      <th></th>\n",
       "      <th>event_id</th>\n",
       "      <th>device_id</th>\n",
       "      <th>timestamp</th>\n",
       "      <th>longitude</th>\n",
       "      <th>latitude</th>\n",
       "      <th>city</th>\n",
       "      <th>state</th>\n",
       "    </tr>\n",
       "  </thead>\n",
       "  <tbody>\n",
       "    <tr>\n",
       "      <th>2055</th>\n",
       "      <td>1936567</td>\n",
       "      <td>NaN</td>\n",
       "      <td>2016-05-02 15:27:54</td>\n",
       "      <td>75.88296</td>\n",
       "      <td>22.81452</td>\n",
       "      <td>Indore</td>\n",
       "      <td>MadhyaPradesh</td>\n",
       "    </tr>\n",
       "    <tr>\n",
       "      <th>26367</th>\n",
       "      <td>2659282</td>\n",
       "      <td>NaN</td>\n",
       "      <td>2016-05-04 14:06:24</td>\n",
       "      <td>75.88849</td>\n",
       "      <td>26.94869</td>\n",
       "      <td>Jaipur</td>\n",
       "      <td>Rajasthan</td>\n",
       "    </tr>\n",
       "    <tr>\n",
       "      <th>42088</th>\n",
       "      <td>442198</td>\n",
       "      <td>NaN</td>\n",
       "      <td>2016-05-06 09:27:37</td>\n",
       "      <td>75.84601</td>\n",
       "      <td>26.96080</td>\n",
       "      <td>Jaipur</td>\n",
       "      <td>Rajasthan</td>\n",
       "    </tr>\n",
       "    <tr>\n",
       "      <th>43061</th>\n",
       "      <td>1903648</td>\n",
       "      <td>NaN</td>\n",
       "      <td>2016-05-02 15:41:54</td>\n",
       "      <td>75.92333</td>\n",
       "      <td>22.77778</td>\n",
       "      <td>Indore</td>\n",
       "      <td>MadhyaPradesh</td>\n",
       "    </tr>\n",
       "    <tr>\n",
       "      <th>44823</th>\n",
       "      <td>3227383</td>\n",
       "      <td>NaN</td>\n",
       "      <td>2016-05-05 08:37:09</td>\n",
       "      <td>75.99255</td>\n",
       "      <td>31.56175</td>\n",
       "      <td>Hoshiarpur</td>\n",
       "      <td>Punjab</td>\n",
       "    </tr>\n",
       "    <tr>\n",
       "      <th>...</th>\n",
       "      <td>...</td>\n",
       "      <td>...</td>\n",
       "      <td>...</td>\n",
       "      <td>...</td>\n",
       "      <td>...</td>\n",
       "      <td>...</td>\n",
       "      <td>...</td>\n",
       "    </tr>\n",
       "    <tr>\n",
       "      <th>3212337</th>\n",
       "      <td>2191286</td>\n",
       "      <td>NaN</td>\n",
       "      <td>2016-05-04 18:16:06</td>\n",
       "      <td>83.35799</td>\n",
       "      <td>17.80520</td>\n",
       "      <td>Visakhapatnam</td>\n",
       "      <td>AndhraPradesh</td>\n",
       "    </tr>\n",
       "    <tr>\n",
       "      <th>3215120</th>\n",
       "      <td>572054</td>\n",
       "      <td>NaN</td>\n",
       "      <td>2016-05-07 08:48:22</td>\n",
       "      <td>83.37174</td>\n",
       "      <td>17.75282</td>\n",
       "      <td>Visakhapatnam</td>\n",
       "      <td>AndhraPradesh</td>\n",
       "    </tr>\n",
       "    <tr>\n",
       "      <th>3230115</th>\n",
       "      <td>332451</td>\n",
       "      <td>NaN</td>\n",
       "      <td>2016-05-07 09:01:45</td>\n",
       "      <td>75.99255</td>\n",
       "      <td>31.56175</td>\n",
       "      <td>Hoshiarpur</td>\n",
       "      <td>Punjab</td>\n",
       "    </tr>\n",
       "    <tr>\n",
       "      <th>3235494</th>\n",
       "      <td>2534073</td>\n",
       "      <td>NaN</td>\n",
       "      <td>2016-05-06 21:07:01</td>\n",
       "      <td>83.37174</td>\n",
       "      <td>17.75282</td>\n",
       "      <td>Visakhapatnam</td>\n",
       "      <td>AndhraPradesh</td>\n",
       "    </tr>\n",
       "    <tr>\n",
       "      <th>3250939</th>\n",
       "      <td>1622538</td>\n",
       "      <td>NaN</td>\n",
       "      <td>2016-05-06 21:26:10</td>\n",
       "      <td>75.88849</td>\n",
       "      <td>26.94869</td>\n",
       "      <td>Jaipur</td>\n",
       "      <td>Rajasthan</td>\n",
       "    </tr>\n",
       "  </tbody>\n",
       "</table>\n",
       "<p>453 rows × 7 columns</p>\n",
       "</div>"
      ],
      "text/plain": [
       "         event_id  device_id            timestamp  longitude  latitude  \\\n",
       "2055      1936567        NaN  2016-05-02 15:27:54   75.88296  22.81452   \n",
       "26367     2659282        NaN  2016-05-04 14:06:24   75.88849  26.94869   \n",
       "42088      442198        NaN  2016-05-06 09:27:37   75.84601  26.96080   \n",
       "43061     1903648        NaN  2016-05-02 15:41:54   75.92333  22.77778   \n",
       "44823     3227383        NaN  2016-05-05 08:37:09   75.99255  31.56175   \n",
       "...           ...        ...                  ...        ...       ...   \n",
       "3212337   2191286        NaN  2016-05-04 18:16:06   83.35799  17.80520   \n",
       "3215120    572054        NaN  2016-05-07 08:48:22   83.37174  17.75282   \n",
       "3230115    332451        NaN  2016-05-07 09:01:45   75.99255  31.56175   \n",
       "3235494   2534073        NaN  2016-05-06 21:07:01   83.37174  17.75282   \n",
       "3250939   1622538        NaN  2016-05-06 21:26:10   75.88849  26.94869   \n",
       "\n",
       "                  city          state  \n",
       "2055            Indore  MadhyaPradesh  \n",
       "26367           Jaipur      Rajasthan  \n",
       "42088           Jaipur      Rajasthan  \n",
       "43061           Indore  MadhyaPradesh  \n",
       "44823       Hoshiarpur         Punjab  \n",
       "...                ...            ...  \n",
       "3212337  Visakhapatnam  AndhraPradesh  \n",
       "3215120  Visakhapatnam  AndhraPradesh  \n",
       "3230115     Hoshiarpur         Punjab  \n",
       "3235494  Visakhapatnam  AndhraPradesh  \n",
       "3250939         Jaipur      Rajasthan  \n",
       "\n",
       "[453 rows x 7 columns]"
      ]
     },
     "execution_count": 25,
     "metadata": {},
     "output_type": "execute_result"
    }
   ],
   "source": [
    "df1[(df1.device_id.isna())]"
   ]
  },
  {
   "cell_type": "code",
   "execution_count": 26,
   "id": "4dd66f11",
   "metadata": {
    "ExecuteTime": {
     "end_time": "2021-05-13T16:11:21.831834Z",
     "start_time": "2021-05-13T16:11:21.812379Z"
    }
   },
   "outputs": [
    {
     "name": "stdout",
     "output_type": "stream",
     "text": [
      "[22.81452 26.94869 26.9608  22.77778 31.56175 18.62806 18.56693 17.8052\n",
      " 28.71997 18.61481 13.15333 13.14918 28.72105 17.75282 22.81753 17.82291\n",
      " 26.95399 13.18905 21.19428 21.79069 28.72889]\n"
     ]
    },
    {
     "data": {
      "text/plain": [
       "numpy.ndarray"
      ]
     },
     "execution_count": 26,
     "metadata": {},
     "output_type": "execute_result"
    }
   ],
   "source": [
    "x2 = df1[df1.device_id.isna()].latitude.unique()\n",
    "print(x2)\n",
    "type(x2)"
   ]
  },
  {
   "cell_type": "code",
   "execution_count": 27,
   "id": "2b8c3b68",
   "metadata": {
    "ExecuteTime": {
     "end_time": "2021-05-13T16:11:22.377399Z",
     "start_time": "2021-05-13T16:11:21.835586Z"
    }
   },
   "outputs": [
    {
     "data": {
      "text/plain": [
       "[3.1328613559497626e+18,\n",
       " -9.177251100412943e+17,\n",
       " -8.460337302442786e+18,\n",
       " 7.597735768595925e+18,\n",
       " 1.750778632182067e+18,\n",
       " 9.027085705222633e+18,\n",
       " 8.539870903150472e+18,\n",
       " 6.844192269280791e+18,\n",
       " 5.098778421671838e+18,\n",
       " 1.771585711650787e+17,\n",
       " 5.731369272434022e+18,\n",
       " 7.66213914371992e+18,\n",
       " 3.724654925765159e+18,\n",
       " -3.1309031770761733e+18,\n",
       " -2.399250255599833e+18,\n",
       " 6.619714762103552e+18,\n",
       " 3.562355872640618e+18,\n",
       " 7.983871429718485e+18,\n",
       " -8.215770519233686e+18,\n",
       " -1.688015122502424e+18,\n",
       " -6.875585507485886e+18]"
      ]
     },
     "execution_count": 27,
     "metadata": {},
     "output_type": "execute_result"
    }
   ],
   "source": [
    "y2 = []\n",
    "for i in x2:\n",
    "    z2 = df1['device_id'].where(\n",
    "        df1['latitude'] == i).dropna().unique().tolist()\n",
    "    y2.append(z2)\n",
    "y2 = list(np.concatenate(y2).flat)\n",
    "y2"
   ]
  },
  {
   "cell_type": "code",
   "execution_count": 28,
   "id": "6a000a07",
   "metadata": {
    "ExecuteTime": {
     "end_time": "2021-05-13T16:11:22.392171Z",
     "start_time": "2021-05-13T16:11:22.381707Z"
    }
   },
   "outputs": [
    {
     "name": "stdout",
     "output_type": "stream",
     "text": [
      "{22.814519: 3.1328613559497626e+18, 26.948689: -9.177251100412943e+17, 26.960796: -8.460337302442786e+18, 22.777781: 7.597735768595925e+18, 31.561747: 1.750778632182067e+18, 18.628057: 9.027085705222633e+18, 18.566925: 8.539870903150472e+18, 17.805195: 6.844192269280791e+18, 28.719966000000003: 5.098778421671838e+18, 18.614812: 1.771585711650787e+17, 13.153332: 5.731369272434022e+18, 13.149176: 7.66213914371992e+18, 28.721053: 3.724654925765159e+18, 17.752819: -3.1309031770761733e+18, 22.817526: -2.399250255599833e+18, 17.822906: 6.619714762103552e+18, 26.95399: 3.562355872640618e+18, 13.189053: 7.983871429718485e+18, 21.194283: -8.215770519233686e+18, 21.790693: -1.688015122502424e+18, 28.728888: -6.875585507485886e+18}\n"
     ]
    }
   ],
   "source": [
    "missing_did_dict = dict(zip(x2, y2))\n",
    "\n",
    "print(missing_did_dict)"
   ]
  },
  {
   "cell_type": "code",
   "execution_count": 29,
   "id": "aead8201",
   "metadata": {
    "ExecuteTime": {
     "end_time": "2021-05-13T16:11:22.537867Z",
     "start_time": "2021-05-13T16:11:22.397616Z"
    }
   },
   "outputs": [],
   "source": [
    "df1['device_id'] = np.where(pd.isnull(df1['device_id']), df1['latitude'].map(\n",
    "    missing_did_dict), df1['device_id'])"
   ]
  },
  {
   "cell_type": "code",
   "execution_count": 30,
   "id": "f147eec6",
   "metadata": {
    "ExecuteTime": {
     "end_time": "2021-05-13T16:11:22.568580Z",
     "start_time": "2021-05-13T16:11:22.542245Z"
    }
   },
   "outputs": [
    {
     "data": {
      "text/html": [
       "<div>\n",
       "<style scoped>\n",
       "    .dataframe tbody tr th:only-of-type {\n",
       "        vertical-align: middle;\n",
       "    }\n",
       "\n",
       "    .dataframe tbody tr th {\n",
       "        vertical-align: top;\n",
       "    }\n",
       "\n",
       "    .dataframe thead th {\n",
       "        text-align: right;\n",
       "    }\n",
       "</style>\n",
       "<table border=\"1\" class=\"dataframe\">\n",
       "  <thead>\n",
       "    <tr style=\"text-align: right;\">\n",
       "      <th></th>\n",
       "      <th>event_id</th>\n",
       "      <th>device_id</th>\n",
       "      <th>timestamp</th>\n",
       "      <th>longitude</th>\n",
       "      <th>latitude</th>\n",
       "      <th>city</th>\n",
       "      <th>state</th>\n",
       "    </tr>\n",
       "  </thead>\n",
       "  <tbody>\n",
       "    <tr>\n",
       "      <th>2055</th>\n",
       "      <td>1936567</td>\n",
       "      <td>3132861355949762560.00000</td>\n",
       "      <td>2016-05-02 15:27:54</td>\n",
       "      <td>75.88296</td>\n",
       "      <td>22.81452</td>\n",
       "      <td>Indore</td>\n",
       "      <td>MadhyaPradesh</td>\n",
       "    </tr>\n",
       "  </tbody>\n",
       "</table>\n",
       "</div>"
      ],
      "text/plain": [
       "      event_id                 device_id            timestamp  longitude  \\\n",
       "2055   1936567 3132861355949762560.00000  2016-05-02 15:27:54   75.88296   \n",
       "\n",
       "      latitude    city          state  \n",
       "2055  22.81452  Indore  MadhyaPradesh  "
      ]
     },
     "execution_count": 30,
     "metadata": {},
     "output_type": "execute_result"
    }
   ],
   "source": [
    "df1[(df1.event_id == 1936567)]"
   ]
  },
  {
   "cell_type": "code",
   "execution_count": 31,
   "id": "9af6889b",
   "metadata": {
    "ExecuteTime": {
     "end_time": "2021-05-13T16:11:23.114831Z",
     "start_time": "2021-05-13T16:11:22.572248Z"
    }
   },
   "outputs": [
    {
     "data": {
      "text/plain": [
       "event_id     0\n",
       "device_id    0\n",
       "timestamp    0\n",
       "longitude    0\n",
       "latitude     0\n",
       "city         0\n",
       "state        0\n",
       "dtype: int64"
      ]
     },
     "execution_count": 31,
     "metadata": {},
     "output_type": "execute_result"
    }
   ],
   "source": [
    "df1.isna().sum()"
   ]
  },
  {
   "cell_type": "code",
   "execution_count": 32,
   "id": "eab02aef",
   "metadata": {
    "ExecuteTime": {
     "end_time": "2021-05-13T16:11:23.130585Z",
     "start_time": "2021-05-13T16:11:23.118309Z"
    }
   },
   "outputs": [
    {
     "data": {
      "text/html": [
       "<div>\n",
       "<style scoped>\n",
       "    .dataframe tbody tr th:only-of-type {\n",
       "        vertical-align: middle;\n",
       "    }\n",
       "\n",
       "    .dataframe tbody tr th {\n",
       "        vertical-align: top;\n",
       "    }\n",
       "\n",
       "    .dataframe thead th {\n",
       "        text-align: right;\n",
       "    }\n",
       "</style>\n",
       "<table border=\"1\" class=\"dataframe\">\n",
       "  <thead>\n",
       "    <tr style=\"text-align: right;\">\n",
       "      <th></th>\n",
       "      <th>device_id</th>\n",
       "      <th>gender</th>\n",
       "      <th>age</th>\n",
       "      <th>group</th>\n",
       "    </tr>\n",
       "  </thead>\n",
       "  <tbody>\n",
       "    <tr>\n",
       "      <th>0</th>\n",
       "      <td>-8076087639492063270</td>\n",
       "      <td>M</td>\n",
       "      <td>35</td>\n",
       "      <td>M32-38</td>\n",
       "    </tr>\n",
       "    <tr>\n",
       "      <th>1</th>\n",
       "      <td>-2897161552818060146</td>\n",
       "      <td>M</td>\n",
       "      <td>35</td>\n",
       "      <td>M32-38</td>\n",
       "    </tr>\n",
       "    <tr>\n",
       "      <th>2</th>\n",
       "      <td>-8260683887967679142</td>\n",
       "      <td>M</td>\n",
       "      <td>35</td>\n",
       "      <td>M32-38</td>\n",
       "    </tr>\n",
       "    <tr>\n",
       "      <th>3</th>\n",
       "      <td>-4938849341048082022</td>\n",
       "      <td>M</td>\n",
       "      <td>30</td>\n",
       "      <td>M29-31</td>\n",
       "    </tr>\n",
       "    <tr>\n",
       "      <th>4</th>\n",
       "      <td>245133531816851882</td>\n",
       "      <td>M</td>\n",
       "      <td>30</td>\n",
       "      <td>M29-31</td>\n",
       "    </tr>\n",
       "  </tbody>\n",
       "</table>\n",
       "</div>"
      ],
      "text/plain": [
       "             device_id gender  age   group\n",
       "0 -8076087639492063270      M   35  M32-38\n",
       "1 -2897161552818060146      M   35  M32-38\n",
       "2 -8260683887967679142      M   35  M32-38\n",
       "3 -4938849341048082022      M   30  M29-31\n",
       "4   245133531816851882      M   30  M29-31"
      ]
     },
     "execution_count": 32,
     "metadata": {},
     "output_type": "execute_result"
    }
   ],
   "source": [
    "df2.head()"
   ]
  },
  {
   "cell_type": "code",
   "execution_count": 33,
   "id": "4343b6e3",
   "metadata": {
    "ExecuteTime": {
     "end_time": "2021-05-13T16:11:23.161810Z",
     "start_time": "2021-05-13T16:11:23.134647Z"
    }
   },
   "outputs": [
    {
     "name": "stdout",
     "output_type": "stream",
     "text": [
      "<class 'pandas.core.frame.DataFrame'>\n",
      "RangeIndex: 74645 entries, 0 to 74644\n",
      "Data columns (total 4 columns):\n",
      " #   Column     Non-Null Count  Dtype \n",
      "---  ------     --------------  ----- \n",
      " 0   device_id  74645 non-null  int64 \n",
      " 1   gender     74645 non-null  object\n",
      " 2   age        74645 non-null  int64 \n",
      " 3   group      74645 non-null  object\n",
      "dtypes: int64(2), object(2)\n",
      "memory usage: 2.3+ MB\n"
     ]
    }
   ],
   "source": [
    "df2.info()"
   ]
  },
  {
   "cell_type": "code",
   "execution_count": 34,
   "id": "f74fa67d",
   "metadata": {
    "ExecuteTime": {
     "end_time": "2021-05-13T16:11:23.174214Z",
     "start_time": "2021-05-13T16:11:23.165810Z"
    }
   },
   "outputs": [],
   "source": [
    "df2['device_id'] = df2['device_id'].astype(float)"
   ]
  },
  {
   "cell_type": "code",
   "execution_count": 35,
   "id": "2fa77996",
   "metadata": {
    "ExecuteTime": {
     "end_time": "2021-05-13T16:11:23.204447Z",
     "start_time": "2021-05-13T16:11:23.177495Z"
    }
   },
   "outputs": [
    {
     "name": "stdout",
     "output_type": "stream",
     "text": [
      "<class 'pandas.core.frame.DataFrame'>\n",
      "RangeIndex: 74645 entries, 0 to 74644\n",
      "Data columns (total 4 columns):\n",
      " #   Column     Non-Null Count  Dtype  \n",
      "---  ------     --------------  -----  \n",
      " 0   device_id  74645 non-null  float64\n",
      " 1   gender     74645 non-null  object \n",
      " 2   age        74645 non-null  int64  \n",
      " 3   group      74645 non-null  object \n",
      "dtypes: float64(1), int64(1), object(2)\n",
      "memory usage: 2.3+ MB\n"
     ]
    }
   ],
   "source": [
    "df2.info()"
   ]
  },
  {
   "cell_type": "code",
   "execution_count": 36,
   "id": "c7711b97",
   "metadata": {
    "ExecuteTime": {
     "end_time": "2021-05-13T16:11:23.248474Z",
     "start_time": "2021-05-13T16:11:23.208409Z"
    }
   },
   "outputs": [
    {
     "data": {
      "text/plain": [
       "device_id    74645\n",
       "gender           2\n",
       "age             85\n",
       "group           12\n",
       "dtype: int64"
      ]
     },
     "execution_count": 36,
     "metadata": {},
     "output_type": "execute_result"
    }
   ],
   "source": [
    "df2.nunique()"
   ]
  },
  {
   "cell_type": "code",
   "execution_count": 37,
   "id": "1929777e",
   "metadata": {
    "ExecuteTime": {
     "end_time": "2021-05-13T16:11:23.278394Z",
     "start_time": "2021-05-13T16:11:23.252190Z"
    }
   },
   "outputs": [
    {
     "data": {
      "text/plain": [
       "device_id    0\n",
       "gender       0\n",
       "age          0\n",
       "group        0\n",
       "dtype: int64"
      ]
     },
     "execution_count": 37,
     "metadata": {},
     "output_type": "execute_result"
    }
   ],
   "source": [
    "df2.isna().sum()"
   ]
  },
  {
   "cell_type": "code",
   "execution_count": 38,
   "id": "93eef3b4",
   "metadata": {
    "ExecuteTime": {
     "end_time": "2021-05-13T16:11:23.312614Z",
     "start_time": "2021-05-13T16:11:23.286542Z"
    }
   },
   "outputs": [
    {
     "data": {
      "text/html": [
       "<div>\n",
       "<style scoped>\n",
       "    .dataframe tbody tr th:only-of-type {\n",
       "        vertical-align: middle;\n",
       "    }\n",
       "\n",
       "    .dataframe tbody tr th {\n",
       "        vertical-align: top;\n",
       "    }\n",
       "\n",
       "    .dataframe thead th {\n",
       "        text-align: right;\n",
       "    }\n",
       "</style>\n",
       "<table border=\"1\" class=\"dataframe\">\n",
       "  <thead>\n",
       "    <tr style=\"text-align: right;\">\n",
       "      <th></th>\n",
       "      <th>device_id</th>\n",
       "      <th>phone_brand</th>\n",
       "      <th>device_model</th>\n",
       "    </tr>\n",
       "  </thead>\n",
       "  <tbody>\n",
       "    <tr>\n",
       "      <th>0</th>\n",
       "      <td>1877775838486905855</td>\n",
       "      <td>vivo</td>\n",
       "      <td>Y13</td>\n",
       "    </tr>\n",
       "    <tr>\n",
       "      <th>1</th>\n",
       "      <td>-3766087376657242966</td>\n",
       "      <td>小米</td>\n",
       "      <td>V183</td>\n",
       "    </tr>\n",
       "    <tr>\n",
       "      <th>2</th>\n",
       "      <td>-6238937574958215831</td>\n",
       "      <td>OPPO</td>\n",
       "      <td>R7s</td>\n",
       "    </tr>\n",
       "    <tr>\n",
       "      <th>3</th>\n",
       "      <td>8973197758510677470</td>\n",
       "      <td>三星</td>\n",
       "      <td>A368t</td>\n",
       "    </tr>\n",
       "    <tr>\n",
       "      <th>4</th>\n",
       "      <td>-2015528097870762664</td>\n",
       "      <td>小米</td>\n",
       "      <td>红米Note2</td>\n",
       "    </tr>\n",
       "  </tbody>\n",
       "</table>\n",
       "</div>"
      ],
      "text/plain": [
       "             device_id phone_brand device_model\n",
       "0  1877775838486905855        vivo          Y13\n",
       "1 -3766087376657242966          小米         V183\n",
       "2 -6238937574958215831        OPPO          R7s\n",
       "3  8973197758510677470          三星        A368t\n",
       "4 -2015528097870762664          小米      红米Note2"
      ]
     },
     "execution_count": 38,
     "metadata": {},
     "output_type": "execute_result"
    }
   ],
   "source": [
    "df3.head()"
   ]
  },
  {
   "cell_type": "code",
   "execution_count": 39,
   "id": "69c91d57",
   "metadata": {
    "ExecuteTime": {
     "end_time": "2021-05-13T16:11:23.342427Z",
     "start_time": "2021-05-13T16:11:23.317120Z"
    }
   },
   "outputs": [
    {
     "name": "stdout",
     "output_type": "stream",
     "text": [
      "<class 'pandas.core.frame.DataFrame'>\n",
      "RangeIndex: 87726 entries, 0 to 87725\n",
      "Data columns (total 3 columns):\n",
      " #   Column        Non-Null Count  Dtype \n",
      "---  ------        --------------  ----- \n",
      " 0   device_id     87726 non-null  int64 \n",
      " 1   phone_brand   87726 non-null  object\n",
      " 2   device_model  87726 non-null  object\n",
      "dtypes: int64(1), object(2)\n",
      "memory usage: 2.0+ MB\n"
     ]
    }
   ],
   "source": [
    "df3.info()"
   ]
  },
  {
   "cell_type": "code",
   "execution_count": 40,
   "id": "45a2e582",
   "metadata": {
    "ExecuteTime": {
     "end_time": "2021-05-13T16:11:23.351687Z",
     "start_time": "2021-05-13T16:11:23.345224Z"
    }
   },
   "outputs": [],
   "source": [
    "df3['device_id'] = df3['device_id'].astype(float)"
   ]
  },
  {
   "cell_type": "code",
   "execution_count": 41,
   "id": "cd6a2300",
   "metadata": {
    "ExecuteTime": {
     "end_time": "2021-05-13T16:11:23.378043Z",
     "start_time": "2021-05-13T16:11:23.354228Z"
    }
   },
   "outputs": [
    {
     "name": "stdout",
     "output_type": "stream",
     "text": [
      "<class 'pandas.core.frame.DataFrame'>\n",
      "RangeIndex: 87726 entries, 0 to 87725\n",
      "Data columns (total 3 columns):\n",
      " #   Column        Non-Null Count  Dtype  \n",
      "---  ------        --------------  -----  \n",
      " 0   device_id     87726 non-null  float64\n",
      " 1   phone_brand   87726 non-null  object \n",
      " 2   device_model  87726 non-null  object \n",
      "dtypes: float64(1), object(2)\n",
      "memory usage: 2.0+ MB\n"
     ]
    }
   ],
   "source": [
    "df3.info()"
   ]
  },
  {
   "cell_type": "code",
   "execution_count": 42,
   "id": "b4ff8129",
   "metadata": {
    "ExecuteTime": {
     "end_time": "2021-05-13T16:11:23.420143Z",
     "start_time": "2021-05-13T16:11:23.381354Z"
    }
   },
   "outputs": [
    {
     "data": {
      "text/plain": [
       "device_id       87726\n",
       "phone_brand       116\n",
       "device_model     1467\n",
       "dtype: int64"
      ]
     },
     "execution_count": 42,
     "metadata": {},
     "output_type": "execute_result"
    }
   ],
   "source": [
    "df3.nunique()"
   ]
  },
  {
   "cell_type": "code",
   "execution_count": 43,
   "id": "ed8c44ee",
   "metadata": {
    "ExecuteTime": {
     "end_time": "2021-05-13T16:11:23.447252Z",
     "start_time": "2021-05-13T16:11:23.424757Z"
    }
   },
   "outputs": [
    {
     "data": {
      "text/plain": [
       "device_id       0\n",
       "phone_brand     0\n",
       "device_model    0\n",
       "dtype: int64"
      ]
     },
     "execution_count": 43,
     "metadata": {},
     "output_type": "execute_result"
    }
   ],
   "source": [
    "df3.isna().sum()"
   ]
  },
  {
   "cell_type": "code",
   "execution_count": 44,
   "id": "a2ed1d8f",
   "metadata": {
    "ExecuteTime": {
     "end_time": "2021-05-13T16:11:23.477740Z",
     "start_time": "2021-05-13T16:11:23.451776Z"
    }
   },
   "outputs": [
    {
     "data": {
      "text/html": [
       "<div>\n",
       "<style scoped>\n",
       "    .dataframe tbody tr th:only-of-type {\n",
       "        vertical-align: middle;\n",
       "    }\n",
       "\n",
       "    .dataframe tbody tr th {\n",
       "        vertical-align: top;\n",
       "    }\n",
       "\n",
       "    .dataframe thead th {\n",
       "        text-align: right;\n",
       "    }\n",
       "</style>\n",
       "<table border=\"1\" class=\"dataframe\">\n",
       "  <thead>\n",
       "    <tr style=\"text-align: right;\">\n",
       "      <th></th>\n",
       "      <th>event_id</th>\n",
       "      <th>device_id</th>\n",
       "      <th>timestamp</th>\n",
       "      <th>longitude</th>\n",
       "      <th>latitude</th>\n",
       "      <th>city</th>\n",
       "      <th>state</th>\n",
       "    </tr>\n",
       "  </thead>\n",
       "  <tbody>\n",
       "    <tr>\n",
       "      <th>1773216</th>\n",
       "      <td>2341008</td>\n",
       "      <td>-8076087639492063232.00000</td>\n",
       "      <td>2016-05-01 15:18:43</td>\n",
       "      <td>75.79920</td>\n",
       "      <td>11.34528</td>\n",
       "      <td>Kozhikkod</td>\n",
       "      <td>Kerala</td>\n",
       "    </tr>\n",
       "    <tr>\n",
       "      <th>1795779</th>\n",
       "      <td>2051729</td>\n",
       "      <td>-8076087639492063232.00000</td>\n",
       "      <td>2016-05-03 12:45:54</td>\n",
       "      <td>75.79920</td>\n",
       "      <td>11.34528</td>\n",
       "      <td>Kozhikkod</td>\n",
       "      <td>Kerala</td>\n",
       "    </tr>\n",
       "    <tr>\n",
       "      <th>2247769</th>\n",
       "      <td>489379</td>\n",
       "      <td>-8076087639492063232.00000</td>\n",
       "      <td>2016-05-05 11:10:50</td>\n",
       "      <td>75.79920</td>\n",
       "      <td>11.34528</td>\n",
       "      <td>Kozhikkod</td>\n",
       "      <td>Kerala</td>\n",
       "    </tr>\n",
       "  </tbody>\n",
       "</table>\n",
       "</div>"
      ],
      "text/plain": [
       "         event_id                  device_id            timestamp  longitude  \\\n",
       "1773216   2341008 -8076087639492063232.00000  2016-05-01 15:18:43   75.79920   \n",
       "1795779   2051729 -8076087639492063232.00000  2016-05-03 12:45:54   75.79920   \n",
       "2247769    489379 -8076087639492063232.00000  2016-05-05 11:10:50   75.79920   \n",
       "\n",
       "         latitude       city   state  \n",
       "1773216  11.34528  Kozhikkod  Kerala  \n",
       "1795779  11.34528  Kozhikkod  Kerala  \n",
       "2247769  11.34528  Kozhikkod  Kerala  "
      ]
     },
     "execution_count": 44,
     "metadata": {},
     "output_type": "execute_result"
    }
   ],
   "source": [
    "df1[(df1.device_id == -8076087639492063270)]"
   ]
  },
  {
   "cell_type": "code",
   "execution_count": 45,
   "id": "a882cd64",
   "metadata": {
    "ExecuteTime": {
     "end_time": "2021-05-13T16:11:23.496564Z",
     "start_time": "2021-05-13T16:11:23.481320Z"
    }
   },
   "outputs": [
    {
     "data": {
      "text/html": [
       "<div>\n",
       "<style scoped>\n",
       "    .dataframe tbody tr th:only-of-type {\n",
       "        vertical-align: middle;\n",
       "    }\n",
       "\n",
       "    .dataframe tbody tr th {\n",
       "        vertical-align: top;\n",
       "    }\n",
       "\n",
       "    .dataframe thead th {\n",
       "        text-align: right;\n",
       "    }\n",
       "</style>\n",
       "<table border=\"1\" class=\"dataframe\">\n",
       "  <thead>\n",
       "    <tr style=\"text-align: right;\">\n",
       "      <th></th>\n",
       "      <th>device_id</th>\n",
       "      <th>gender</th>\n",
       "      <th>age</th>\n",
       "      <th>group</th>\n",
       "    </tr>\n",
       "  </thead>\n",
       "  <tbody>\n",
       "    <tr>\n",
       "      <th>0</th>\n",
       "      <td>-8076087639492063232.00000</td>\n",
       "      <td>M</td>\n",
       "      <td>35</td>\n",
       "      <td>M32-38</td>\n",
       "    </tr>\n",
       "  </tbody>\n",
       "</table>\n",
       "</div>"
      ],
      "text/plain": [
       "                   device_id gender  age   group\n",
       "0 -8076087639492063232.00000      M   35  M32-38"
      ]
     },
     "execution_count": 45,
     "metadata": {},
     "output_type": "execute_result"
    }
   ],
   "source": [
    "df2[(df2.device_id == -8076087639492063270)]"
   ]
  },
  {
   "cell_type": "code",
   "execution_count": 46,
   "id": "c0785f25",
   "metadata": {
    "ExecuteTime": {
     "end_time": "2021-05-13T16:11:23.515715Z",
     "start_time": "2021-05-13T16:11:23.500669Z"
    }
   },
   "outputs": [
    {
     "data": {
      "text/html": [
       "<div>\n",
       "<style scoped>\n",
       "    .dataframe tbody tr th:only-of-type {\n",
       "        vertical-align: middle;\n",
       "    }\n",
       "\n",
       "    .dataframe tbody tr th {\n",
       "        vertical-align: top;\n",
       "    }\n",
       "\n",
       "    .dataframe thead th {\n",
       "        text-align: right;\n",
       "    }\n",
       "</style>\n",
       "<table border=\"1\" class=\"dataframe\">\n",
       "  <thead>\n",
       "    <tr style=\"text-align: right;\">\n",
       "      <th></th>\n",
       "      <th>device_id</th>\n",
       "      <th>phone_brand</th>\n",
       "      <th>device_model</th>\n",
       "    </tr>\n",
       "  </thead>\n",
       "  <tbody>\n",
       "    <tr>\n",
       "      <th>75448</th>\n",
       "      <td>-8076087639492063232.00000</td>\n",
       "      <td>小米</td>\n",
       "      <td>MI 2</td>\n",
       "    </tr>\n",
       "  </tbody>\n",
       "</table>\n",
       "</div>"
      ],
      "text/plain": [
       "                       device_id phone_brand device_model\n",
       "75448 -8076087639492063232.00000          小米         MI 2"
      ]
     },
     "execution_count": 46,
     "metadata": {},
     "output_type": "execute_result"
    }
   ],
   "source": [
    "df3[(df3.device_id == -8076087639492063270)]"
   ]
  },
  {
   "cell_type": "code",
   "execution_count": 47,
   "id": "251fa72d",
   "metadata": {
    "ExecuteTime": {
     "end_time": "2021-05-13T16:11:24.944043Z",
     "start_time": "2021-05-13T16:11:23.519377Z"
    },
    "scrolled": true
   },
   "outputs": [
    {
     "data": {
      "text/plain": [
       "0        vivo\n",
       "1          小米\n",
       "2        OPPO\n",
       "3          三星\n",
       "4          小米\n",
       "         ... \n",
       "87721      华为\n",
       "87722      华为\n",
       "87723      华为\n",
       "87724      小米\n",
       "87725      酷比\n",
       "Name: phone_brand, Length: 87726, dtype: object"
      ]
     },
     "execution_count": 47,
     "metadata": {},
     "output_type": "execute_result"
    }
   ],
   "source": [
    "df3['phone_brand'].str.strip()"
   ]
  },
  {
   "cell_type": "code",
   "execution_count": 48,
   "id": "6fcaa8e5",
   "metadata": {
    "ExecuteTime": {
     "end_time": "2021-05-13T16:11:24.967626Z",
     "start_time": "2021-05-13T16:11:24.948127Z"
    }
   },
   "outputs": [
    {
     "name": "stdout",
     "output_type": "stream",
     "text": [
      "['vivo' '小米' 'OPPO' '三星' '酷派' '联想 ' '华为' '奇酷' '魅族' '斐讯' '中国移动' 'HTC' '天语'\n",
      " '至尊宝' 'LG' '欧博信' '优米' 'ZUK' '努比亚' '惠普' '尼比鲁' '美图' '乡米' '摩托罗拉' '梦米' '锤子'\n",
      " '富可视' '乐视' '海信' '百立丰' '一加' '语信' '海尔' '酷比' '纽曼' '波导' '朵唯' '聆韵' 'TCL' '酷珀'\n",
      " '爱派尔' 'LOGO' '青葱' '果米' '华硕' '昂达' '艾优尼' '康佳' '优购' '邦华' '赛博宇华' '黑米' 'Lovme'\n",
      " '先锋' 'E派' '神舟' '诺基亚' '普耐尔' '糖葫芦' '亿通' '欧新' '米奇' '酷比魔方' '蓝魔' '小杨树' '贝尔丰'\n",
      " '糯米' '米歌' 'E人E本' '西米' '大Q' '台电' '飞利浦' '唯米' '大显' '长虹' '维图' '青橙' '本为' '虾米'\n",
      " '夏新' '帷幄' '百加' 'SUGAR' '欧奇' '世纪星' '智镁' '欧比' '基伍' '飞秒' '德赛' '易派' '谷歌'\n",
      " '金星数码' '广信' '诺亚信' 'MIL' '白米' '大可乐' '宝捷讯' '优语' '首云' '瑞米' '瑞高' '沃普丰' '摩乐'\n",
      " '鲜米' '凯利通' '唯比' '欧沃' '丰米' '恒宇丰' '奥克斯' '西门子' '欧乐迪' 'PPTV']\n"
     ]
    },
    {
     "data": {
      "text/plain": [
       "numpy.ndarray"
      ]
     },
     "execution_count": 48,
     "metadata": {},
     "output_type": "execute_result"
    }
   ],
   "source": [
    "x3 = df3.phone_brand.unique()\n",
    "print(x3)\n",
    "type(x3)"
   ]
  },
  {
   "cell_type": "code",
   "execution_count": 49,
   "id": "ccfb13d9",
   "metadata": {
    "ExecuteTime": {
     "end_time": "2021-05-13T16:11:24.991704Z",
     "start_time": "2021-05-13T16:11:24.977382Z"
    }
   },
   "outputs": [
    {
     "data": {
      "text/html": [
       "<div>\n",
       "<style scoped>\n",
       "    .dataframe tbody tr th:only-of-type {\n",
       "        vertical-align: middle;\n",
       "    }\n",
       "\n",
       "    .dataframe tbody tr th {\n",
       "        vertical-align: top;\n",
       "    }\n",
       "\n",
       "    .dataframe thead th {\n",
       "        text-align: right;\n",
       "    }\n",
       "</style>\n",
       "<table border=\"1\" class=\"dataframe\">\n",
       "  <thead>\n",
       "    <tr style=\"text-align: right;\">\n",
       "      <th></th>\n",
       "      <th>phone_brand</th>\n",
       "    </tr>\n",
       "  </thead>\n",
       "  <tbody>\n",
       "    <tr>\n",
       "      <th>0</th>\n",
       "      <td>vivo</td>\n",
       "    </tr>\n",
       "    <tr>\n",
       "      <th>1</th>\n",
       "      <td>小米</td>\n",
       "    </tr>\n",
       "    <tr>\n",
       "      <th>2</th>\n",
       "      <td>OPPO</td>\n",
       "    </tr>\n",
       "    <tr>\n",
       "      <th>3</th>\n",
       "      <td>三星</td>\n",
       "    </tr>\n",
       "    <tr>\n",
       "      <th>4</th>\n",
       "      <td>酷派</td>\n",
       "    </tr>\n",
       "  </tbody>\n",
       "</table>\n",
       "</div>"
      ],
      "text/plain": [
       "  phone_brand\n",
       "0        vivo\n",
       "1          小米\n",
       "2        OPPO\n",
       "3          三星\n",
       "4          酷派"
      ]
     },
     "execution_count": 49,
     "metadata": {},
     "output_type": "execute_result"
    }
   ],
   "source": [
    "x3df = pd.DataFrame(x3, columns=['phone_brand'])\n",
    "x3df.reset_index(drop=True, inplace=True)\n",
    "x3df.head()"
   ]
  },
  {
   "cell_type": "code",
   "execution_count": 50,
   "id": "830bee09-9625-41fc-b393-4fea9d373a8e",
   "metadata": {
    "ExecuteTime": {
     "end_time": "2021-05-13T16:11:26.943407Z",
     "start_time": "2021-05-13T16:11:24.996342Z"
    }
   },
   "outputs": [],
   "source": [
    "# from textblob import TextBlob\n",
    "from google_trans_new import google_translator, LANGUAGES\n",
    "\n",
    "translator = google_translator()\n",
    "\n",
    "\n",
    "def convert_chinese_to_english(row, buffer):\n",
    "    row_mod = row + buffer\n",
    "    translated_text = translator.translate(\n",
    "        row_mod, lang_src=\"Chinese\", lang_tgt=\"en\")\n",
    "    trans = translated_text.replace(buffer, \"\")\n",
    "    return trans"
   ]
  },
  {
   "cell_type": "code",
   "execution_count": 51,
   "id": "fb5997ad-eae6-40a9-8059-0f006ef0d1a2",
   "metadata": {
    "ExecuteTime": {
     "end_time": "2021-05-13T16:11:26.943407Z",
     "start_time": "2021-05-13T16:11:24.996342Z"
    }
   },
   "outputs": [],
   "source": [
    "# # COMMENT OUT AFTER RUNNING TO PREVENT CROSSING USAGE LIMITS FOR THE API\n",
    "\n",
    "# x3df['English_Brand'] = x3df['phone_brand'].apply(convert_chinese_to_english,args=(\"Phone Brand\",))\n",
    "\n",
    "# test = dict(zip(x3df.phone_brand,x3df.English_Brand))\n",
    "# print(test)"
   ]
  },
  {
   "cell_type": "code",
   "execution_count": 52,
   "id": "d169a5e4",
   "metadata": {
    "ExecuteTime": {
     "end_time": "2021-05-13T16:11:26.961405Z",
     "start_time": "2021-05-13T16:11:26.955748Z"
    }
   },
   "outputs": [],
   "source": [
    "# code block used when using list of phone_brand to send to translate API - gives some funny translations\n",
    "\n",
    "# y3=[]\n",
    "\n",
    "# for i in x3:\n",
    "#     z3 = translator.translate(i)\n",
    "#     y3.append(z3)\n",
    "\n",
    "# brand_eng_dict = dict(zip(x3, y3))\n",
    "\n",
    "# print(brand_eng_dict)"
   ]
  },
  {
   "cell_type": "code",
   "execution_count": 53,
   "id": "d0835e2d",
   "metadata": {
    "ExecuteTime": {
     "end_time": "2021-05-13T16:11:27.006113Z",
     "start_time": "2021-05-13T16:11:26.965791Z"
    }
   },
   "outputs": [],
   "source": [
    "# Outputs from the various translations tried were copied to the below dicts to enable comparison\n",
    "\n",
    "test1 = {'vivo': 'alive ', '小米': 'Millet ', 'OPPO': 'Oppo ', '三星': 'Samsung ', '酷派': 'Cool ', '联想 ': 'Association ', '华为': 'Huawei ', '奇酷': 'Cage ', '魅族': 'Charming ', '斐讯': 'Film ', '中国移动': 'China Mobile ', 'HTC': 'HTC ', '天语': 'Amagatarai ', '至尊宝': 'Honored ', 'LG': 'LG. ', '欧博信': 'Osoxin ', '优米': 'Quality rice ', 'ZUK': 'You ', '努比亚': 'Nubia ', '惠普': 'HP ', '尼比鲁': 'Nipro ', '美图': 'Beautiful map ', '乡米': 'Rural rice ', '摩托罗拉': 'Motorola ', '梦米': 'Messenger ', '锤子': 'hammer ', '富可视': 'Rich view ', '乐视': 'Music ', '海信': 'Hisense ', '百立丰': 'Bailun ', '一加': 'Plus ', '语信': 'Circularity ', '海尔': 'Haier ', '酷比': 'Cool than ', '纽曼': 'Newman ', '波导': 'waveguide ', '朵唯': 'Only ', '聆韵': 'Hear rhyme ', 'TCL': 'TCL ', '酷珀': 'Severe ', '爱派尔': 'Ai Pike ', 'LOGO': 'LOGO ', '青葱': 'Shallot ', '果米': 'Fruit rice ', '华硕': 'ASUS ', '昂达': 'Onda ', '艾优尼': 'Aiyini ', '康佳': 'Konka ', '优购': 'Best purchase ', '邦华': 'Banghua ', '赛博宇华': 'Sai Bo Yuhua ', '黑米': 'black rice ', 'Lovme': 'Lovme ', '先锋': 'pioneer ', 'E派': 'E-send ', '神舟': 'Shenzhou ', '诺基亚': 'Nokia ', '普耐尔': 'Poire ', '糖葫芦': 'Sugar ',\n",
    "         '亿通': 'Vanity ', '欧新': 'European new ', '米奇': 'Mickey ', '酷比魔方': 'Cool than Rubik ', '蓝魔': 'Blue demon ', '小杨树': 'Small poplar ', '贝尔丰': 'Bell Feng ', '糯米': 'Glutinous rice ', '米歌': 'Mi song ', 'E人E本': 'E people e ', '西米': 'Simi ', '大Q': 'Big Q ', '台电': 'Platform ', '飞利浦': 'Philips ', '唯米': 'Mi ', '大显': 'Large display ', '长虹': 'Changhong ', '维图': 'Dimension ', '青橙': 'Orange ', '本为': 'This is ', '虾米': 'Shrimp ', '夏新': 'Summer new ', '帷幄': 'Curtain ', '百加': 'Plus ', 'SUGAR': 'SUGAR ', '欧奇': 'Ouqi ', '世纪星': 'Century star ', '智镁': 'Smart ', '欧比': 'Europa ', '基伍': 'Base ', '飞秒': 'Femtosecond ', '德赛': 'German ', '易派': 'Easy to send ', '谷歌': 'Google ', '金星数码': 'Venus Digital ', '广信': 'Widely believed ', '诺亚信': 'Noah ', 'MIL': 'ONE THOUSAND ', '白米': 'White rice ', '大可乐': 'Cola ', '宝捷讯': 'Baojiexun ', '优语': 'Pros ', '首云': 'First cloud ', '瑞米': 'Rice ', '瑞高': 'Rui ', '沃普丰': 'Wormfront ', '摩乐': 'Music ', '鲜米': 'Fresh rice ', '凯利通': 'Kelly ', '唯比': 'Only one ', '欧沃': 'Ouvo ', '丰米': 'Rich rice ', '恒宇丰': 'Hengyufeng ', '奥克斯': 'Ox ', '西门子': 'Siemens ', '欧乐迪': 'Oeri ', 'PPTV': 'PPTV '}\n",
    "\n",
    "test2 = {'vivo': 'VIVO', '小米': 'Xiaomi', 'OPPO': 'OPPO', '三星': 'Three Stars', '酷派': 'Coolpad', '联想 ': 'Lenovo', '华为': 'Huawei', '奇酷': 'Qiku', '魅族': 'Meizu', '斐讯': 'Phicomm', '中国移动': 'China Mobile', 'HTC': 'HTC', '天语': 'New SX4', '至尊宝': 'Zhizunbao', 'LG': 'LG', '欧博信': 'Obersion', '优米': 'Quality rice', 'ZUK': 'ZUK', '努比亚': 'Nubia', '惠普': 'Hewlett-Packard', '尼比鲁': 'Nibiru', '美图': 'beautiful picture', '乡米': 'Xiangmi', '摩托罗拉': 'Motorola', '梦米': 'Dream rice', '锤子': 'Hammer', '富可视': 'InFocus', '乐视': 'LeEco', '海信': 'Hisense', '百立丰': 'Bailifeng', '一加': 'OnePlus', '语信': 'Language letter', '海尔': 'Haier', '酷比': 'Coolby', '纽曼': 'Newmann', '波导': 'Waveguide', '朵唯': 'Dove', '聆韵': 'Rhyme', 'TCL': 'TCL', '酷珀': 'Cooper', '爱派尔': 'Aipel', 'LOGO': 'LOGO', '青葱': 'green onion', '果米': 'Fruit rice', '华硕': 'ASUS', '昂达': 'Onda', '艾优尼': 'Ayuni', '康佳': 'Konka Group', '优购': 'Yougo', '邦华': 'Banghua', '赛博宇华': 'Cyber Yuhua', '黑米': 'black rice', 'Lovme': 'Lovme', '先锋': 'Xianfeng Railway Station', 'E派': 'E School', '神舟': 'Divine Boat', '诺基亚': 'Nokia',\n",
    "         '普耐尔': 'Punel', '糖葫芦': 'Tanghulu', '亿通': 'Yitong', '欧新': 'Ou Xin', '米奇': 'MITCH', '酷比魔方': 'Rubik&#39;s Cube', '蓝魔': 'Lan Mo', '小杨树': 'Little poplar', '贝尔丰': 'Belfon', '糯米': 'Glutinous rice', '米歌': 'Mi Ge', 'E人E本': 'E person E book', '西米': 'Sago', '大Q': 'Big Q', '台电': 'Taipower', '飞利浦': 'Philips', '唯米': 'Wei Mi', '大显': 'Daxian', '长虹': 'Changhong', '维图': 'Vitu', '青橙': 'Qing Cheng', '本为': 'Originally', '虾米': 'Shrimp', '夏新': 'Amoi', '帷幄': 'Curtain', '百加': 'Bajia', 'SUGAR': 'Sugar', '欧奇': 'Ouch', '世纪星': 'Century Star', '智镁': 'Zhimei', '欧比': 'Obi', '基伍': 'The Kivus', '飞秒': 'Femtosecond', '德赛': 'Desai', '易派': 'Yipai', '谷歌': 'Google', '金星数码': 'Venus Digital', '广信': 'Guang Xin', '诺亚信': 'Noah letter', 'MIL': 'MIL', '白米': 'rice', '大可乐': 'Big cola', '宝捷讯': 'Projet', '优语': 'Youyu', '首云': 'First cloud', '瑞米': 'Remy', '瑞高': 'Rigo', '沃普丰': 'Wopfon', '摩乐': 'Mole', '鲜米': 'Fresh rice', '凯利通': 'Kellyton', '唯比': 'Weibi', '欧沃': 'Ovo', '丰米': 'Fonmi', '恒宇丰': 'Hengyufeng', '奥克斯': 'Oaks', '西门子': 'Siemens', '欧乐迪': 'Oledi', 'PPTV': 'PPTV'}\n",
    "\n",
    "test3 = {'vivo': 'vivo ', '小米': 'Xiaomi  ', 'OPPO': 'OPPO ', '三星': 'Samsung  ', '酷派': 'Cool  ', '联想 ': 'Lenovo  ', '华为': 'Huawei  ', '奇酷': 'Crate-cool  ', '魅族': 'Meizu  ', '斐讯': 'Fixun  ', '中国移动': 'China Mobile  ', 'HTC': 'HTC ', '天语': 'Tianyu  ', '至尊宝': 'Extreme PHONE BRAND ', 'LG': 'LG ', '欧博信': 'Oufo letter  ', '优米': 'Yumi  ', 'ZUK': 'ZUK ', '努比亚': 'Nubia  ', '惠普': 'HP  ', '尼比鲁': 'Nobi PHONE BRAND ', '美图': 'Meitu  ', '乡米': 'Tural rice  ', '摩托罗拉': 'Motorola  ', '梦米': 'Mengmi  ', '锤子': 'Hammer  ', '富可视': 'Keroval  ', '乐视': 'LeTV  ', '海信': 'Hisense  ', '百立丰': 'Ba Lifeng  ', '一加': 'Plus  ', '语信': 'Phone phone  ', '海尔': 'Haier  ', '酷比': 'Cool than  ', '纽曼': 'Newman  ', '波导': 'Waveguide  ', '朵唯': 'Duowei  ', '聆韵': 'Harmony  ', 'TCL': 'TCL ', '酷珀': 'Cool PHONE BRAND ', '爱派尔': 'Epilel  ', 'LOGO': 'LOGO ', '青葱': 'Whisk  ', '果米': 'Pene Brand ', '华硕': 'ASUS  ', '昂达': 'Onda  ', '艾优尼': 'Ai Yimi  ', '康佳': 'Konka  ', '优购': 'Buy  ', '邦华': 'Bonhua  ', '赛博宇华': 'Sai Bo Yuhua  ', '黑米': 'Black rice  ', 'Lovme': 'Lovme ', '先锋': 'Pioneer  ', 'E派': 'E-send  ', '神舟': 'Shenzhou  ', '诺基亚': 'Nokia  ', '普耐尔': 'Phule  ', '糖葫芦': 'Sugar Holly PHONE BRAND ', '亿通': 'Billion PHONE BRAND ',\n",
    "         '欧新': 'European PHONE BRAND ', '米奇': 'Mickey  ', '酷比魔方': \"Cool than Rubik's Cube  \", '蓝魔': 'Blue Devils  ', '小杨树': 'Xiao Yang  ', '贝尔丰': 'Bellfront  ', '糯米': 'Glutinous rice phone brand ', '米歌': 'Mi song  ', 'E人E本': 'E people e this phone brand ', '西米': 'Simi  ', '大Q': 'Big Q ', '台电': 'Taipower  ', '飞利浦': 'Philips  ', '唯米': 'Mi Mi  ', '大显': 'Big display  ', '长虹': 'Changhong  ', '维图': 'Dimit  ', '青橙': 'Green orange  ', '本为': ' ', '虾米': 'Shrimp  ', '夏新': 'Summer pHONE BRAND ', '帷幄': ' ', '百加': 'Plus  ', 'SUGAR': 'Sugar. ', '欧奇': 'Ouqi  ', '世纪星': 'Century Star  ', '智镁': 'Smart  ', '欧比': 'Euro PHONE BRAND ', '基伍': 'Kiwish  ', '飞秒': 'Flying second phone brand ', '德赛': 'Germany  ', '易派': 'Easai  ', '谷歌': 'Google  ', '金星数码': 'Venus Digital  ', '广信': 'Guangxin  ', '诺亚信': 'Noah letter  ', 'MIL': 'MIL ', '白米': 'White rice  ', '大可乐': 'Coca-PHONE BRAND ', '宝捷讯': 'Baojie News  ', '优语': 'Pest  ', '首云': 'First cloud  ', '瑞米': 'Remi  ', '瑞高': 'Ruigao  ', '沃普丰': 'Wormofeng  ', '摩乐': 'Music  ', '鲜米': 'Fresh rice phone brand ', '凯利通': 'Kelly  ', '唯比': 'Mudby than  ', '欧沃': 'Ovo  ', '丰米': 'Fengmi  ', '恒宇丰': 'Hengyufeng  ', '奥克斯': 'Ox  ', '西门子': 'Siemens  ', '欧乐迪': 'Oresi  ', 'PPTV': 'PPTV '}"
   ]
  },
  {
   "cell_type": "code",
   "execution_count": 54,
   "id": "ef45478d",
   "metadata": {
    "ExecuteTime": {
     "end_time": "2021-05-13T16:11:27.016021Z",
     "start_time": "2021-05-13T16:11:27.010650Z"
    }
   },
   "outputs": [],
   "source": [
    "test_f = [test1, test2, test3]"
   ]
  },
  {
   "cell_type": "code",
   "execution_count": 55,
   "id": "a3412b33",
   "metadata": {
    "ExecuteTime": {
     "end_time": "2021-05-13T16:11:27.040088Z",
     "start_time": "2021-05-13T16:11:27.020078Z"
    }
   },
   "outputs": [],
   "source": [
    "test_df = pd.DataFrame.from_dict(test_f)"
   ]
  },
  {
   "cell_type": "code",
   "execution_count": 56,
   "id": "31e76202",
   "metadata": {
    "ExecuteTime": {
     "end_time": "2021-05-13T16:11:27.145009Z",
     "start_time": "2021-05-13T16:11:27.044070Z"
    }
   },
   "outputs": [
    {
     "data": {
      "text/html": [
       "<div>\n",
       "<style scoped>\n",
       "    .dataframe tbody tr th:only-of-type {\n",
       "        vertical-align: middle;\n",
       "    }\n",
       "\n",
       "    .dataframe tbody tr th {\n",
       "        vertical-align: top;\n",
       "    }\n",
       "\n",
       "    .dataframe thead th {\n",
       "        text-align: right;\n",
       "    }\n",
       "</style>\n",
       "<table border=\"1\" class=\"dataframe\">\n",
       "  <thead>\n",
       "    <tr style=\"text-align: right;\">\n",
       "      <th></th>\n",
       "      <th>vivo</th>\n",
       "      <th>小米</th>\n",
       "      <th>OPPO</th>\n",
       "      <th>三星</th>\n",
       "      <th>酷派</th>\n",
       "      <th>联想</th>\n",
       "      <th>华为</th>\n",
       "      <th>奇酷</th>\n",
       "      <th>魅族</th>\n",
       "      <th>斐讯</th>\n",
       "      <th>中国移动</th>\n",
       "      <th>HTC</th>\n",
       "      <th>天语</th>\n",
       "      <th>至尊宝</th>\n",
       "      <th>LG</th>\n",
       "      <th>欧博信</th>\n",
       "      <th>优米</th>\n",
       "      <th>ZUK</th>\n",
       "      <th>努比亚</th>\n",
       "      <th>惠普</th>\n",
       "      <th>尼比鲁</th>\n",
       "      <th>美图</th>\n",
       "      <th>乡米</th>\n",
       "      <th>摩托罗拉</th>\n",
       "      <th>梦米</th>\n",
       "      <th>锤子</th>\n",
       "      <th>富可视</th>\n",
       "      <th>乐视</th>\n",
       "      <th>海信</th>\n",
       "      <th>百立丰</th>\n",
       "      <th>一加</th>\n",
       "      <th>语信</th>\n",
       "      <th>海尔</th>\n",
       "      <th>酷比</th>\n",
       "      <th>纽曼</th>\n",
       "      <th>波导</th>\n",
       "      <th>朵唯</th>\n",
       "      <th>聆韵</th>\n",
       "      <th>TCL</th>\n",
       "      <th>酷珀</th>\n",
       "      <th>爱派尔</th>\n",
       "      <th>LOGO</th>\n",
       "      <th>青葱</th>\n",
       "      <th>果米</th>\n",
       "      <th>华硕</th>\n",
       "      <th>昂达</th>\n",
       "      <th>艾优尼</th>\n",
       "      <th>康佳</th>\n",
       "      <th>优购</th>\n",
       "      <th>邦华</th>\n",
       "      <th>赛博宇华</th>\n",
       "      <th>黑米</th>\n",
       "      <th>Lovme</th>\n",
       "      <th>先锋</th>\n",
       "      <th>E派</th>\n",
       "      <th>神舟</th>\n",
       "      <th>诺基亚</th>\n",
       "      <th>普耐尔</th>\n",
       "      <th>糖葫芦</th>\n",
       "      <th>亿通</th>\n",
       "      <th>欧新</th>\n",
       "      <th>米奇</th>\n",
       "      <th>酷比魔方</th>\n",
       "      <th>蓝魔</th>\n",
       "      <th>小杨树</th>\n",
       "      <th>贝尔丰</th>\n",
       "      <th>糯米</th>\n",
       "      <th>米歌</th>\n",
       "      <th>E人E本</th>\n",
       "      <th>西米</th>\n",
       "      <th>大Q</th>\n",
       "      <th>台电</th>\n",
       "      <th>飞利浦</th>\n",
       "      <th>唯米</th>\n",
       "      <th>大显</th>\n",
       "      <th>长虹</th>\n",
       "      <th>维图</th>\n",
       "      <th>青橙</th>\n",
       "      <th>本为</th>\n",
       "      <th>虾米</th>\n",
       "      <th>夏新</th>\n",
       "      <th>帷幄</th>\n",
       "      <th>百加</th>\n",
       "      <th>SUGAR</th>\n",
       "      <th>欧奇</th>\n",
       "      <th>世纪星</th>\n",
       "      <th>智镁</th>\n",
       "      <th>欧比</th>\n",
       "      <th>基伍</th>\n",
       "      <th>飞秒</th>\n",
       "      <th>德赛</th>\n",
       "      <th>易派</th>\n",
       "      <th>谷歌</th>\n",
       "      <th>金星数码</th>\n",
       "      <th>广信</th>\n",
       "      <th>诺亚信</th>\n",
       "      <th>MIL</th>\n",
       "      <th>白米</th>\n",
       "      <th>大可乐</th>\n",
       "      <th>宝捷讯</th>\n",
       "      <th>优语</th>\n",
       "      <th>首云</th>\n",
       "      <th>瑞米</th>\n",
       "      <th>瑞高</th>\n",
       "      <th>沃普丰</th>\n",
       "      <th>摩乐</th>\n",
       "      <th>鲜米</th>\n",
       "      <th>凯利通</th>\n",
       "      <th>唯比</th>\n",
       "      <th>欧沃</th>\n",
       "      <th>丰米</th>\n",
       "      <th>恒宇丰</th>\n",
       "      <th>奥克斯</th>\n",
       "      <th>西门子</th>\n",
       "      <th>欧乐迪</th>\n",
       "      <th>PPTV</th>\n",
       "    </tr>\n",
       "  </thead>\n",
       "  <tbody>\n",
       "    <tr>\n",
       "      <th>0</th>\n",
       "      <td>alive</td>\n",
       "      <td>Millet</td>\n",
       "      <td>Oppo</td>\n",
       "      <td>Samsung</td>\n",
       "      <td>Cool</td>\n",
       "      <td>Association</td>\n",
       "      <td>Huawei</td>\n",
       "      <td>Cage</td>\n",
       "      <td>Charming</td>\n",
       "      <td>Film</td>\n",
       "      <td>China Mobile</td>\n",
       "      <td>HTC</td>\n",
       "      <td>Amagatarai</td>\n",
       "      <td>Honored</td>\n",
       "      <td>LG.</td>\n",
       "      <td>Osoxin</td>\n",
       "      <td>Quality rice</td>\n",
       "      <td>You</td>\n",
       "      <td>Nubia</td>\n",
       "      <td>HP</td>\n",
       "      <td>Nipro</td>\n",
       "      <td>Beautiful map</td>\n",
       "      <td>Rural rice</td>\n",
       "      <td>Motorola</td>\n",
       "      <td>Messenger</td>\n",
       "      <td>hammer</td>\n",
       "      <td>Rich view</td>\n",
       "      <td>Music</td>\n",
       "      <td>Hisense</td>\n",
       "      <td>Bailun</td>\n",
       "      <td>Plus</td>\n",
       "      <td>Circularity</td>\n",
       "      <td>Haier</td>\n",
       "      <td>Cool than</td>\n",
       "      <td>Newman</td>\n",
       "      <td>waveguide</td>\n",
       "      <td>Only</td>\n",
       "      <td>Hear rhyme</td>\n",
       "      <td>TCL</td>\n",
       "      <td>Severe</td>\n",
       "      <td>Ai Pike</td>\n",
       "      <td>LOGO</td>\n",
       "      <td>Shallot</td>\n",
       "      <td>Fruit rice</td>\n",
       "      <td>ASUS</td>\n",
       "      <td>Onda</td>\n",
       "      <td>Aiyini</td>\n",
       "      <td>Konka</td>\n",
       "      <td>Best purchase</td>\n",
       "      <td>Banghua</td>\n",
       "      <td>Sai Bo Yuhua</td>\n",
       "      <td>black rice</td>\n",
       "      <td>Lovme</td>\n",
       "      <td>pioneer</td>\n",
       "      <td>E-send</td>\n",
       "      <td>Shenzhou</td>\n",
       "      <td>Nokia</td>\n",
       "      <td>Poire</td>\n",
       "      <td>Sugar</td>\n",
       "      <td>Vanity</td>\n",
       "      <td>European new</td>\n",
       "      <td>Mickey</td>\n",
       "      <td>Cool than Rubik</td>\n",
       "      <td>Blue demon</td>\n",
       "      <td>Small poplar</td>\n",
       "      <td>Bell Feng</td>\n",
       "      <td>Glutinous rice</td>\n",
       "      <td>Mi song</td>\n",
       "      <td>E people e</td>\n",
       "      <td>Simi</td>\n",
       "      <td>Big Q</td>\n",
       "      <td>Platform</td>\n",
       "      <td>Philips</td>\n",
       "      <td>Mi</td>\n",
       "      <td>Large display</td>\n",
       "      <td>Changhong</td>\n",
       "      <td>Dimension</td>\n",
       "      <td>Orange</td>\n",
       "      <td>This is</td>\n",
       "      <td>Shrimp</td>\n",
       "      <td>Summer new</td>\n",
       "      <td>Curtain</td>\n",
       "      <td>Plus</td>\n",
       "      <td>SUGAR</td>\n",
       "      <td>Ouqi</td>\n",
       "      <td>Century star</td>\n",
       "      <td>Smart</td>\n",
       "      <td>Europa</td>\n",
       "      <td>Base</td>\n",
       "      <td>Femtosecond</td>\n",
       "      <td>German</td>\n",
       "      <td>Easy to send</td>\n",
       "      <td>Google</td>\n",
       "      <td>Venus Digital</td>\n",
       "      <td>Widely believed</td>\n",
       "      <td>Noah</td>\n",
       "      <td>ONE THOUSAND</td>\n",
       "      <td>White rice</td>\n",
       "      <td>Cola</td>\n",
       "      <td>Baojiexun</td>\n",
       "      <td>Pros</td>\n",
       "      <td>First cloud</td>\n",
       "      <td>Rice</td>\n",
       "      <td>Rui</td>\n",
       "      <td>Wormfront</td>\n",
       "      <td>Music</td>\n",
       "      <td>Fresh rice</td>\n",
       "      <td>Kelly</td>\n",
       "      <td>Only one</td>\n",
       "      <td>Ouvo</td>\n",
       "      <td>Rich rice</td>\n",
       "      <td>Hengyufeng</td>\n",
       "      <td>Ox</td>\n",
       "      <td>Siemens</td>\n",
       "      <td>Oeri</td>\n",
       "      <td>PPTV</td>\n",
       "    </tr>\n",
       "    <tr>\n",
       "      <th>1</th>\n",
       "      <td>VIVO</td>\n",
       "      <td>Xiaomi</td>\n",
       "      <td>OPPO</td>\n",
       "      <td>Three Stars</td>\n",
       "      <td>Coolpad</td>\n",
       "      <td>Lenovo</td>\n",
       "      <td>Huawei</td>\n",
       "      <td>Qiku</td>\n",
       "      <td>Meizu</td>\n",
       "      <td>Phicomm</td>\n",
       "      <td>China Mobile</td>\n",
       "      <td>HTC</td>\n",
       "      <td>New SX4</td>\n",
       "      <td>Zhizunbao</td>\n",
       "      <td>LG</td>\n",
       "      <td>Obersion</td>\n",
       "      <td>Quality rice</td>\n",
       "      <td>ZUK</td>\n",
       "      <td>Nubia</td>\n",
       "      <td>Hewlett-Packard</td>\n",
       "      <td>Nibiru</td>\n",
       "      <td>beautiful picture</td>\n",
       "      <td>Xiangmi</td>\n",
       "      <td>Motorola</td>\n",
       "      <td>Dream rice</td>\n",
       "      <td>Hammer</td>\n",
       "      <td>InFocus</td>\n",
       "      <td>LeEco</td>\n",
       "      <td>Hisense</td>\n",
       "      <td>Bailifeng</td>\n",
       "      <td>OnePlus</td>\n",
       "      <td>Language letter</td>\n",
       "      <td>Haier</td>\n",
       "      <td>Coolby</td>\n",
       "      <td>Newmann</td>\n",
       "      <td>Waveguide</td>\n",
       "      <td>Dove</td>\n",
       "      <td>Rhyme</td>\n",
       "      <td>TCL</td>\n",
       "      <td>Cooper</td>\n",
       "      <td>Aipel</td>\n",
       "      <td>LOGO</td>\n",
       "      <td>green onion</td>\n",
       "      <td>Fruit rice</td>\n",
       "      <td>ASUS</td>\n",
       "      <td>Onda</td>\n",
       "      <td>Ayuni</td>\n",
       "      <td>Konka Group</td>\n",
       "      <td>Yougo</td>\n",
       "      <td>Banghua</td>\n",
       "      <td>Cyber Yuhua</td>\n",
       "      <td>black rice</td>\n",
       "      <td>Lovme</td>\n",
       "      <td>Xianfeng Railway Station</td>\n",
       "      <td>E School</td>\n",
       "      <td>Divine Boat</td>\n",
       "      <td>Nokia</td>\n",
       "      <td>Punel</td>\n",
       "      <td>Tanghulu</td>\n",
       "      <td>Yitong</td>\n",
       "      <td>Ou Xin</td>\n",
       "      <td>MITCH</td>\n",
       "      <td>Rubik&amp;#39;s Cube</td>\n",
       "      <td>Lan Mo</td>\n",
       "      <td>Little poplar</td>\n",
       "      <td>Belfon</td>\n",
       "      <td>Glutinous rice</td>\n",
       "      <td>Mi Ge</td>\n",
       "      <td>E person E book</td>\n",
       "      <td>Sago</td>\n",
       "      <td>Big Q</td>\n",
       "      <td>Taipower</td>\n",
       "      <td>Philips</td>\n",
       "      <td>Wei Mi</td>\n",
       "      <td>Daxian</td>\n",
       "      <td>Changhong</td>\n",
       "      <td>Vitu</td>\n",
       "      <td>Qing Cheng</td>\n",
       "      <td>Originally</td>\n",
       "      <td>Shrimp</td>\n",
       "      <td>Amoi</td>\n",
       "      <td>Curtain</td>\n",
       "      <td>Bajia</td>\n",
       "      <td>Sugar</td>\n",
       "      <td>Ouch</td>\n",
       "      <td>Century Star</td>\n",
       "      <td>Zhimei</td>\n",
       "      <td>Obi</td>\n",
       "      <td>The Kivus</td>\n",
       "      <td>Femtosecond</td>\n",
       "      <td>Desai</td>\n",
       "      <td>Yipai</td>\n",
       "      <td>Google</td>\n",
       "      <td>Venus Digital</td>\n",
       "      <td>Guang Xin</td>\n",
       "      <td>Noah letter</td>\n",
       "      <td>MIL</td>\n",
       "      <td>rice</td>\n",
       "      <td>Big cola</td>\n",
       "      <td>Projet</td>\n",
       "      <td>Youyu</td>\n",
       "      <td>First cloud</td>\n",
       "      <td>Remy</td>\n",
       "      <td>Rigo</td>\n",
       "      <td>Wopfon</td>\n",
       "      <td>Mole</td>\n",
       "      <td>Fresh rice</td>\n",
       "      <td>Kellyton</td>\n",
       "      <td>Weibi</td>\n",
       "      <td>Ovo</td>\n",
       "      <td>Fonmi</td>\n",
       "      <td>Hengyufeng</td>\n",
       "      <td>Oaks</td>\n",
       "      <td>Siemens</td>\n",
       "      <td>Oledi</td>\n",
       "      <td>PPTV</td>\n",
       "    </tr>\n",
       "    <tr>\n",
       "      <th>2</th>\n",
       "      <td>vivo</td>\n",
       "      <td>Xiaomi</td>\n",
       "      <td>OPPO</td>\n",
       "      <td>Samsung</td>\n",
       "      <td>Cool</td>\n",
       "      <td>Lenovo</td>\n",
       "      <td>Huawei</td>\n",
       "      <td>Crate-cool</td>\n",
       "      <td>Meizu</td>\n",
       "      <td>Fixun</td>\n",
       "      <td>China Mobile</td>\n",
       "      <td>HTC</td>\n",
       "      <td>Tianyu</td>\n",
       "      <td>Extreme PHONE BRAND</td>\n",
       "      <td>LG</td>\n",
       "      <td>Oufo letter</td>\n",
       "      <td>Yumi</td>\n",
       "      <td>ZUK</td>\n",
       "      <td>Nubia</td>\n",
       "      <td>HP</td>\n",
       "      <td>Nobi PHONE BRAND</td>\n",
       "      <td>Meitu</td>\n",
       "      <td>Tural rice</td>\n",
       "      <td>Motorola</td>\n",
       "      <td>Mengmi</td>\n",
       "      <td>Hammer</td>\n",
       "      <td>Keroval</td>\n",
       "      <td>LeTV</td>\n",
       "      <td>Hisense</td>\n",
       "      <td>Ba Lifeng</td>\n",
       "      <td>Plus</td>\n",
       "      <td>Phone phone</td>\n",
       "      <td>Haier</td>\n",
       "      <td>Cool than</td>\n",
       "      <td>Newman</td>\n",
       "      <td>Waveguide</td>\n",
       "      <td>Duowei</td>\n",
       "      <td>Harmony</td>\n",
       "      <td>TCL</td>\n",
       "      <td>Cool PHONE BRAND</td>\n",
       "      <td>Epilel</td>\n",
       "      <td>LOGO</td>\n",
       "      <td>Whisk</td>\n",
       "      <td>Pene Brand</td>\n",
       "      <td>ASUS</td>\n",
       "      <td>Onda</td>\n",
       "      <td>Ai Yimi</td>\n",
       "      <td>Konka</td>\n",
       "      <td>Buy</td>\n",
       "      <td>Bonhua</td>\n",
       "      <td>Sai Bo Yuhua</td>\n",
       "      <td>Black rice</td>\n",
       "      <td>Lovme</td>\n",
       "      <td>Pioneer</td>\n",
       "      <td>E-send</td>\n",
       "      <td>Shenzhou</td>\n",
       "      <td>Nokia</td>\n",
       "      <td>Phule</td>\n",
       "      <td>Sugar Holly PHONE BRAND</td>\n",
       "      <td>Billion PHONE BRAND</td>\n",
       "      <td>European PHONE BRAND</td>\n",
       "      <td>Mickey</td>\n",
       "      <td>Cool than Rubik's Cube</td>\n",
       "      <td>Blue Devils</td>\n",
       "      <td>Xiao Yang</td>\n",
       "      <td>Bellfront</td>\n",
       "      <td>Glutinous rice phone brand</td>\n",
       "      <td>Mi song</td>\n",
       "      <td>E people e this phone brand</td>\n",
       "      <td>Simi</td>\n",
       "      <td>Big Q</td>\n",
       "      <td>Taipower</td>\n",
       "      <td>Philips</td>\n",
       "      <td>Mi Mi</td>\n",
       "      <td>Big display</td>\n",
       "      <td>Changhong</td>\n",
       "      <td>Dimit</td>\n",
       "      <td>Green orange</td>\n",
       "      <td></td>\n",
       "      <td>Shrimp</td>\n",
       "      <td>Summer pHONE BRAND</td>\n",
       "      <td></td>\n",
       "      <td>Plus</td>\n",
       "      <td>Sugar.</td>\n",
       "      <td>Ouqi</td>\n",
       "      <td>Century Star</td>\n",
       "      <td>Smart</td>\n",
       "      <td>Euro PHONE BRAND</td>\n",
       "      <td>Kiwish</td>\n",
       "      <td>Flying second phone brand</td>\n",
       "      <td>Germany</td>\n",
       "      <td>Easai</td>\n",
       "      <td>Google</td>\n",
       "      <td>Venus Digital</td>\n",
       "      <td>Guangxin</td>\n",
       "      <td>Noah letter</td>\n",
       "      <td>MIL</td>\n",
       "      <td>White rice</td>\n",
       "      <td>Coca-PHONE BRAND</td>\n",
       "      <td>Baojie News</td>\n",
       "      <td>Pest</td>\n",
       "      <td>First cloud</td>\n",
       "      <td>Remi</td>\n",
       "      <td>Ruigao</td>\n",
       "      <td>Wormofeng</td>\n",
       "      <td>Music</td>\n",
       "      <td>Fresh rice phone brand</td>\n",
       "      <td>Kelly</td>\n",
       "      <td>Mudby than</td>\n",
       "      <td>Ovo</td>\n",
       "      <td>Fengmi</td>\n",
       "      <td>Hengyufeng</td>\n",
       "      <td>Ox</td>\n",
       "      <td>Siemens</td>\n",
       "      <td>Oresi</td>\n",
       "      <td>PPTV</td>\n",
       "    </tr>\n",
       "  </tbody>\n",
       "</table>\n",
       "</div>"
      ],
      "text/plain": [
       "     vivo        小米   OPPO           三星       酷派           联想         华为  \\\n",
       "0  alive    Millet   Oppo      Samsung     Cool   Association    Huawei    \n",
       "1    VIVO    Xiaomi   OPPO  Three Stars  Coolpad        Lenovo    Huawei   \n",
       "2   vivo   Xiaomi    OPPO     Samsung     Cool        Lenovo    Huawei     \n",
       "\n",
       "             奇酷         魅族       斐讯            中国移动   HTC           天语  \\\n",
       "0         Cage   Charming     Film    China Mobile   HTC   Amagatarai    \n",
       "1          Qiku      Meizu  Phicomm    China Mobile   HTC      New SX4   \n",
       "2  Crate-cool      Meizu    Fixun    China Mobile    HTC      Tianyu     \n",
       "\n",
       "                    至尊宝    LG            欧博信             优米   ZUK      努比亚  \\\n",
       "0              Honored   LG.         Osoxin   Quality rice   You    Nubia    \n",
       "1             Zhizunbao    LG       Obersion   Quality rice   ZUK    Nubia   \n",
       "2  Extreme PHONE BRAND    LG   Oufo letter           Yumi    ZUK   Nubia     \n",
       "\n",
       "                惠普                尼比鲁                 美图            乡米  \\\n",
       "0              HP              Nipro      Beautiful map    Rural rice    \n",
       "1  Hewlett-Packard             Nibiru  beautiful picture       Xiangmi   \n",
       "2             HP    Nobi PHONE BRAND             Meitu    Tural rice     \n",
       "\n",
       "         摩托罗拉          梦米        锤子         富可视      乐视         海信  \\\n",
       "0   Motorola   Messenger    hammer   Rich view   Music    Hisense    \n",
       "1    Motorola  Dream rice    Hammer     InFocus   LeEco    Hisense   \n",
       "2  Motorola      Mengmi    Hammer     Keroval    LeTV    Hisense     \n",
       "\n",
       "           百立丰       一加               语信       海尔           酷比        纽曼  \\\n",
       "0      Bailun     Plus      Circularity    Haier    Cool than    Newman    \n",
       "1    Bailifeng  OnePlus  Language letter    Haier       Coolby   Newmann   \n",
       "2  Ba Lifeng     Plus      Phone phone    Haier    Cool than    Newman     \n",
       "\n",
       "            波导        朵唯           聆韵   TCL                 酷珀       爱派尔  \\\n",
       "0   waveguide      Only   Hear rhyme   TCL             Severe   Ai Pike    \n",
       "1    Waveguide      Dove        Rhyme   TCL             Cooper     Aipel   \n",
       "2  Waveguide    Duowei      Harmony    TCL   Cool PHONE BRAND   Epilel     \n",
       "\n",
       "    LOGO           青葱           果米      华硕      昂达        艾优尼           康佳  \\\n",
       "0  LOGO      Shallot   Fruit rice    ASUS    Onda     Aiyini        Konka    \n",
       "1   LOGO  green onion   Fruit rice    ASUS    Onda      Ayuni  Konka Group   \n",
       "2  LOGO       Whisk    Pene Brand   ASUS    Onda    Ai Yimi        Konka     \n",
       "\n",
       "               优购        邦华            赛博宇华            黑米   Lovme  \\\n",
       "0  Best purchase   Banghua    Sai Bo Yuhua    black rice   Lovme    \n",
       "1           Yougo   Banghua     Cyber Yuhua    black rice   Lovme   \n",
       "2           Buy    Bonhua    Sai Bo Yuhua    Black rice    Lovme    \n",
       "\n",
       "                         先锋        E派           神舟      诺基亚      普耐尔  \\\n",
       "0                  pioneer    E-send     Shenzhou    Nokia    Poire    \n",
       "1  Xianfeng Railway Station  E School  Divine Boat    Nokia    Punel   \n",
       "2                 Pioneer    E-send     Shenzhou    Nokia    Phule     \n",
       "\n",
       "                        糖葫芦                    亿通                     欧新  \\\n",
       "0                    Sugar                Vanity           European new    \n",
       "1                  Tanghulu                Yitong                 Ou Xin   \n",
       "2  Sugar Holly PHONE BRAND   Billion PHONE BRAND   European PHONE BRAND    \n",
       "\n",
       "         米奇                      酷比魔方             蓝魔            小杨树  \\\n",
       "0   Mickey           Cool than Rubik     Blue demon   Small poplar    \n",
       "1     MITCH          Rubik&#39;s Cube         Lan Mo  Little poplar   \n",
       "2  Mickey    Cool than Rubik's Cube    Blue Devils      Xiao Yang     \n",
       "\n",
       "           贝尔丰                           糯米         米歌  \\\n",
       "0   Bell Feng               Glutinous rice    Mi song    \n",
       "1       Belfon               Glutinous rice      Mi Ge   \n",
       "2  Bellfront    Glutinous rice phone brand   Mi song     \n",
       "\n",
       "                           E人E本      西米      大Q          台电        飞利浦  \\\n",
       "0                   E people e    Simi   Big Q    Platform    Philips    \n",
       "1               E person E book    Sago   Big Q    Taipower    Philips   \n",
       "2  E people e this phone brand   Simi    Big Q   Taipower    Philips     \n",
       "\n",
       "        唯米              大显           长虹          维图              青橙  \\\n",
       "0      Mi   Large display    Changhong   Dimension          Orange    \n",
       "1   Wei Mi          Daxian    Changhong        Vitu      Qing Cheng   \n",
       "2  Mi Mi     Big display    Changhong       Dimit    Green orange     \n",
       "\n",
       "           本为        虾米                   夏新        帷幄      百加    SUGAR  \\\n",
       "0    This is    Shrimp           Summer new   Curtain    Plus    SUGAR    \n",
       "1  Originally    Shrimp                 Amoi   Curtain   Bajia    Sugar   \n",
       "2              Shrimp    Summer pHONE BRAND             Plus    Sugar.    \n",
       "\n",
       "       欧奇             世纪星       智镁                 欧比         基伍  \\\n",
       "0   Ouqi    Century star    Smart             Europa       Base    \n",
       "1    Ouch    Century Star   Zhimei                Obi  The Kivus   \n",
       "2  Ouqi    Century Star    Smart    Euro PHONE BRAND    Kiwish     \n",
       "\n",
       "                           飞秒         德赛             易派        谷歌  \\\n",
       "0                Femtosecond     German   Easy to send    Google    \n",
       "1                 Femtosecond      Desai          Yipai    Google   \n",
       "2  Flying second phone brand   Germany          Easai    Google     \n",
       "\n",
       "              金星数码                广信            诺亚信            MIL  \\\n",
       "0   Venus Digital   Widely believed           Noah   ONE THOUSAND    \n",
       "1    Venus Digital         Guang Xin    Noah letter            MIL   \n",
       "2  Venus Digital          Guangxin    Noah letter             MIL    \n",
       "\n",
       "             白米                大可乐            宝捷讯      优语             首云  \\\n",
       "0   White rice               Cola      Baojiexun    Pros    First cloud    \n",
       "1          rice           Big cola         Projet   Youyu    First cloud   \n",
       "2  White rice    Coca-PHONE BRAND   Baojie News    Pest    First cloud     \n",
       "\n",
       "       瑞米        瑞高          沃普丰       摩乐                       鲜米       凯利通  \\\n",
       "0   Rice       Rui    Wormfront    Music               Fresh rice     Kelly    \n",
       "1    Remy      Rigo       Wopfon     Mole               Fresh rice  Kellyton   \n",
       "2  Remi    Ruigao    Wormofeng    Music    Fresh rice phone brand    Kelly     \n",
       "\n",
       "             唯比     欧沃          丰米           恒宇丰   奥克斯        西门子      欧乐迪  \\\n",
       "0     Only one   Ouvo   Rich rice    Hengyufeng    Ox    Siemens     Oeri    \n",
       "1         Weibi    Ovo       Fonmi    Hengyufeng  Oaks    Siemens    Oledi   \n",
       "2  Mudby than    Ovo      Fengmi    Hengyufeng    Ox    Siemens    Oresi     \n",
       "\n",
       "    PPTV  \n",
       "0  PPTV   \n",
       "1   PPTV  \n",
       "2  PPTV   "
      ]
     },
     "execution_count": 56,
     "metadata": {},
     "output_type": "execute_result"
    }
   ],
   "source": [
    "test_df.head()"
   ]
  },
  {
   "cell_type": "code",
   "execution_count": 57,
   "id": "979bffb4",
   "metadata": {
    "ExecuteTime": {
     "end_time": "2021-05-13T16:11:27.164990Z",
     "start_time": "2021-05-13T16:11:27.149502Z"
    }
   },
   "outputs": [],
   "source": [
    "brand_map = {'vivo': 'VIVO', '小米': 'Xiaomi', 'OPPO': 'OPPO', '三星': 'Samsung', '酷派': 'Coolpad',\n",
    "             '联想 ': 'Lenovo', '华为': 'Huawei', '奇酷': 'Qiku', '魅族': 'Meizu', '斐讯': 'Phicomm',\n",
    "             '中国移动': 'China Mobile', 'HTC': 'HTC', '天语':  'Tianyu', '至尊宝': 'Zhizunbao', 'LG': 'LG',\n",
    "             '欧博信': 'Osoxin', '优米': 'Umidigi', 'ZUK': 'ZUK', '努比亚': 'Nubia',\n",
    "             '惠普': 'HP', '尼比鲁': 'Nibiru', '美图': 'Meitu', '乡米': 'Xiangmi',\n",
    "             '摩托罗拉': 'Motorola', '梦米': 'Mèng mǐ', '锤子': 'Hammer', '富可视': 'InFocus', '乐视': 'LeEco',\n",
    "             '海信': 'Hisense', '百立丰': 'Bailifeng', '一加': 'OnePlus', '语信': 'Yǔ xìn',\n",
    "             '海尔': 'Haier', '酷比': 'Coolby', '纽曼': 'Newmann', '波导': 'Waveguide', '朵唯': 'Duowei',\n",
    "             '聆韵': 'Harmony', 'TCL': 'TCL', '酷珀': 'Cooper', '爱派尔': 'Aipel', 'LOGO': 'LOGO',\n",
    "             '青葱': 'QCong', '果米': 'Guǒ mǐ', '华硕': 'ASUS', '昂达': 'Onda', '艾优尼': 'Ayuni',\n",
    "             '康佳': 'Konka', '优购': 'Yougo', '邦华': 'Banghua', '赛博宇华': 'Sai Bo Yuhua',\n",
    "             '黑米': 'Hēi mǐ', 'Lovme': 'Lovme', '先锋': 'Pioneer', 'E派': 'E Send',\n",
    "             '神舟': 'Shenzhou', '诺基亚': 'Nokia', '普耐尔': 'Punel', '糖葫芦': 'Tanghulu', '亿通': 'Yitong',\n",
    "             '欧新': 'Ou Xin', '米奇': 'MITCH', '酷比魔方': 'Rubiks Cube', '蓝魔': 'Lan Mo',\n",
    "             '小杨树': 'Xiǎo yáng shù', '贝尔丰': 'Belfon', '糯米': 'Nuòmǐ', '米歌': 'Mi Ge',\n",
    "             'E人E本': 'Eben', '西米': 'Simi', '大Q': 'Big Q', '台电': 'Taipower', '飞利浦': 'Philips',\n",
    "             '唯米': 'Wei Mi', '大显': 'Daxian', '长虹': 'Changhong', '维图': 'Vitu', '青橙': 'Qing Cheng',\n",
    "             '本为': 'Běn wèi', '虾米': 'Xiāmi', '夏新': 'Amoi', '帷幄': 'VIVO', '百加': 'Plus',\n",
    "             'SUGAR': 'Sugar', '欧奇': 'Ouqi', '世纪星': 'Century Star', '智镁': 'Zhimei', '欧比': 'Europa',\n",
    "             '基伍': 'Kiwish', '飞秒': 'Flying Second', '德赛': 'Desai', '易派': 'Yipai', '谷歌': 'Google',\n",
    "             '金星数码': 'Venus Digital', '广信': 'Guang Xin', '诺亚信': 'Nuò yǎ xìn', 'MIL': 'MIL',\n",
    "             '白米': 'Báimǐ', '大可乐': 'Dà kělè', '宝捷讯': 'Baojiexun', '优语': 'Youyu', '首云': 'Shǒu yún',\n",
    "             '瑞米': 'Remy', '瑞高': 'Rigo', '沃普丰': 'Wopfon', '摩乐': 'Mole', '鲜米': 'Xiān mǐ',\n",
    "             '凯利通': 'Kellyton', '唯比': 'Weibi', '欧沃': 'Ovo', '丰米': 'Fonmi', '恒宇丰': 'Hengyufeng',\n",
    "             '奥克斯': 'Oaks', '西门子': 'Siemens', '欧乐迪': 'Oledi', 'PPTV': 'PPTV'}"
   ]
  },
  {
   "cell_type": "code",
   "execution_count": 58,
   "id": "618c57f7",
   "metadata": {
    "ExecuteTime": {
     "end_time": "2021-05-13T16:11:27.192409Z",
     "start_time": "2021-05-13T16:11:27.168592Z"
    }
   },
   "outputs": [],
   "source": [
    "df3['phone_brand'] = df3['phone_brand'].map(\n",
    "    brand_map).fillna(df3['phone_brand'])"
   ]
  },
  {
   "cell_type": "code",
   "execution_count": 59,
   "id": "72c4a0ed",
   "metadata": {
    "ExecuteTime": {
     "end_time": "2021-05-13T16:11:27.208650Z",
     "start_time": "2021-05-13T16:11:27.195849Z"
    }
   },
   "outputs": [
    {
     "data": {
      "text/html": [
       "<div>\n",
       "<style scoped>\n",
       "    .dataframe tbody tr th:only-of-type {\n",
       "        vertical-align: middle;\n",
       "    }\n",
       "\n",
       "    .dataframe tbody tr th {\n",
       "        vertical-align: top;\n",
       "    }\n",
       "\n",
       "    .dataframe thead th {\n",
       "        text-align: right;\n",
       "    }\n",
       "</style>\n",
       "<table border=\"1\" class=\"dataframe\">\n",
       "  <thead>\n",
       "    <tr style=\"text-align: right;\">\n",
       "      <th></th>\n",
       "      <th>device_id</th>\n",
       "      <th>phone_brand</th>\n",
       "      <th>device_model</th>\n",
       "    </tr>\n",
       "  </thead>\n",
       "  <tbody>\n",
       "    <tr>\n",
       "      <th>0</th>\n",
       "      <td>1877775838486905856.00000</td>\n",
       "      <td>VIVO</td>\n",
       "      <td>Y13</td>\n",
       "    </tr>\n",
       "    <tr>\n",
       "      <th>1</th>\n",
       "      <td>-3766087376657243136.00000</td>\n",
       "      <td>Xiaomi</td>\n",
       "      <td>V183</td>\n",
       "    </tr>\n",
       "    <tr>\n",
       "      <th>2</th>\n",
       "      <td>-6238937574958216192.00000</td>\n",
       "      <td>OPPO</td>\n",
       "      <td>R7s</td>\n",
       "    </tr>\n",
       "    <tr>\n",
       "      <th>3</th>\n",
       "      <td>8973197758510676992.00000</td>\n",
       "      <td>Samsung</td>\n",
       "      <td>A368t</td>\n",
       "    </tr>\n",
       "    <tr>\n",
       "      <th>4</th>\n",
       "      <td>-2015528097870762752.00000</td>\n",
       "      <td>Xiaomi</td>\n",
       "      <td>红米Note2</td>\n",
       "    </tr>\n",
       "  </tbody>\n",
       "</table>\n",
       "</div>"
      ],
      "text/plain": [
       "                   device_id phone_brand device_model\n",
       "0  1877775838486905856.00000        VIVO          Y13\n",
       "1 -3766087376657243136.00000      Xiaomi         V183\n",
       "2 -6238937574958216192.00000        OPPO          R7s\n",
       "3  8973197758510676992.00000     Samsung        A368t\n",
       "4 -2015528097870762752.00000      Xiaomi      红米Note2"
      ]
     },
     "execution_count": 59,
     "metadata": {},
     "output_type": "execute_result"
    }
   ],
   "source": [
    "df3.head()"
   ]
  },
  {
   "cell_type": "code",
   "execution_count": 60,
   "id": "74108d2c",
   "metadata": {
    "ExecuteTime": {
     "end_time": "2021-05-13T16:11:27.231832Z",
     "start_time": "2021-05-13T16:11:27.212003Z"
    }
   },
   "outputs": [
    {
     "name": "stdout",
     "output_type": "stream",
     "text": [
      "['Y13' 'V183' 'R7s' ... 'Galaxy Tab S T705' 'IVO 8800' 'U59GT']\n"
     ]
    },
    {
     "data": {
      "text/plain": [
       "(1467,)"
      ]
     },
     "execution_count": 60,
     "metadata": {},
     "output_type": "execute_result"
    }
   ],
   "source": [
    "x4 = df3.device_model.unique()\n",
    "print(x4)\n",
    "type(x4)\n",
    "x4.shape"
   ]
  },
  {
   "cell_type": "code",
   "execution_count": 61,
   "id": "e96ed642",
   "metadata": {
    "ExecuteTime": {
     "end_time": "2021-05-13T16:11:27.241644Z",
     "start_time": "2021-05-13T16:11:27.235634Z"
    },
    "scrolled": true
   },
   "outputs": [],
   "source": [
    "# df3.device_model.value_counts().reset_index()"
   ]
  },
  {
   "cell_type": "code",
   "execution_count": 62,
   "id": "611623a1",
   "metadata": {
    "ExecuteTime": {
     "end_time": "2021-05-13T13:58:39.257131Z",
     "start_time": "2021-05-13T13:58:16.973Z"
    }
   },
   "outputs": [
    {
     "name": "stdout",
     "output_type": "stream",
     "text": [
      "['红米Note2', '红米Note3', '大神F1Plus', 'note顶配版', '星星1号', '红米note', '青春版', '荣耀4A', '魅蓝Note 2', '荣耀7i', '荣耀畅玩4C', '红米2A', '荣耀畅玩5', '荣耀7', '红米1S', '麦芒4', '荣耀6', '荣耀畅玩4X', '荣耀3X畅玩版', '荣耀X2', '魅蓝NOTE', '荣耀6 Plus', '荣耀+', '荣耀畅玩4', '黄金斗士A8', '小米note', '荣耀3C', '小米4C', '红米note增强版', '天鉴W900', '荣耀畅玩5X', '红米2', '大神F1', '魅蓝2', 'Mate 7 青春版', '乐檬K3 Note', '火星一号', '乐檬K3', '联想黄金斗士S8', '大神F2', '魅蓝', '荣耀6 plus', '大神F2全高清版', '灵感XL', '旗舰版', '坚果手机', '红米', '超级手机1 Pro', '畅享5', '魅蓝metal', '超级手机1', '超级手机1s', '荣耀U8860', '纽扣', '荣耀畅玩平板T1', '红辣椒 X1', '春雷HD', 'ivvi 小i', '荣耀畅玩4C运动版', '麦芒3', '小鲜2', '大器2', '锋尚', '大神X7', '小苹果', '乐玩', '大神Note3', '么么哒3N', '锋尚Pro', '红辣椒', '荣耀3X', '三星big foot', '荣耀3C畅玩版', 'ivvi 小骨Pro', '红辣椒XM', '远航3', 'My 布拉格', 'metal 标准版', '畅享5S', '红辣椒Note', '锋尚Max', '2016版 Galaxy A9', '红牛V5', '2016版 Galaxy A5', '锋尚2', '金钢', '野火S', '2016版 Galaxy A7', '红米3', '小辣椒 X3', '荣耀平板T1-823L', '大神Note', '7295A青春版', '大Q Note', '么么哒', '小辣椒 M2', '黄金斗士Note8', '炫影S+', '风华3', 'TALK 7X四核', '2016版 Galaxy J7', '天鉴T1', '土星一号', '麦芒3S', '飞马', '联想VIBE X2', '威武3', '红辣椒任性版 Plus', '小辣椒 9', '大观4', '超级手机Max', '星星2号', '雷霆战机', '威武3C', '倾城L3', 'Z9 mini 精英版', '小辣椒S1', '小辣椒 5', 'T03锋至版', '乐玩2C', '么么哒3S', '乐檬K31', '黄金斗士S8畅玩版', '时尚手机', '大神1s', '倾城L3C', '小辣椒 4', 'Xperia Z1 炫彩版', '微客', '黄金斗士青春版', '红辣椒NX Plus', '小鲜3', '小星星', '大器3', '小辣椒 6', '金刚II', '中兴远航3', 'Axon天机', '青漾3', '小辣椒 3', '旋影90w', '小辣椒 7', '醉享', '渴望HD', '小辣椒 M3', '飞马3', '领世旗舰3', '小辣椒X4', '红辣椒Note3', '天鉴W808', '天鉴W900S', '大观铂顿', '魅蓝Note3', 'Razr V锋芒', '火星一号探索版', 'Moto X极', '魔镜 X5', '小章鱼', '乐檬3', '乐檬X3', '飞马2 Plus']\n"
     ]
    }
   ],
   "source": [
    "import re\n",
    "x4a = []\n",
    "for i in (x4):\n",
    "    if re.search(u'[\\u4e00-\\u9fff]', str(i)):\n",
    "        x4a.append(i)\n",
    "        \n",
    "print(x4a)"
   ]
  },
  {
   "cell_type": "code",
   "execution_count": 63,
   "id": "33fb1f68",
   "metadata": {
    "ExecuteTime": {
     "end_time": "2021-05-13T13:13:22.577488Z",
     "start_time": "2021-05-13T13:13:22.563891Z"
    }
   },
   "outputs": [
    {
     "data": {
      "text/html": [
       "<div>\n",
       "<style scoped>\n",
       "    .dataframe tbody tr th:only-of-type {\n",
       "        vertical-align: middle;\n",
       "    }\n",
       "\n",
       "    .dataframe tbody tr th {\n",
       "        vertical-align: top;\n",
       "    }\n",
       "\n",
       "    .dataframe thead th {\n",
       "        text-align: right;\n",
       "    }\n",
       "</style>\n",
       "<table border=\"1\" class=\"dataframe\">\n",
       "  <thead>\n",
       "    <tr style=\"text-align: right;\">\n",
       "      <th></th>\n",
       "      <th>zh</th>\n",
       "    </tr>\n",
       "  </thead>\n",
       "  <tbody>\n",
       "    <tr>\n",
       "      <th>0</th>\n",
       "      <td>红米Note2</td>\n",
       "    </tr>\n",
       "    <tr>\n",
       "      <th>1</th>\n",
       "      <td>红米Note3</td>\n",
       "    </tr>\n",
       "    <tr>\n",
       "      <th>2</th>\n",
       "      <td>大神F1Plus</td>\n",
       "    </tr>\n",
       "    <tr>\n",
       "      <th>3</th>\n",
       "      <td>note顶配版</td>\n",
       "    </tr>\n",
       "    <tr>\n",
       "      <th>4</th>\n",
       "      <td>星星1号</td>\n",
       "    </tr>\n",
       "  </tbody>\n",
       "</table>\n",
       "</div>"
      ],
      "text/plain": [
       "         zh\n",
       "0   红米Note2\n",
       "1   红米Note3\n",
       "2  大神F1Plus\n",
       "3   note顶配版\n",
       "4      星星1号"
      ]
     },
     "execution_count": 63,
     "metadata": {},
     "output_type": "execute_result"
    }
   ],
   "source": [
    "x4adf = pd.DataFrame(x4a, columns=['zh'])\n",
    "x4adf.reset_index(drop=True, inplace=True)\n",
    "x4adf.head()"
   ]
  },
  {
   "cell_type": "code",
   "execution_count": 64,
   "id": "ff0b68b4",
   "metadata": {
    "ExecuteTime": {
     "end_time": "2021-05-13T13:20:26.262640Z",
     "start_time": "2021-05-13T13:20:26.245486Z"
    }
   },
   "outputs": [
    {
     "name": "stdout",
     "output_type": "stream",
     "text": [
      "<class 'pandas.core.frame.DataFrame'>\n",
      "RangeIndex: 161 entries, 0 to 160\n",
      "Data columns (total 1 columns):\n",
      " #   Column  Non-Null Count  Dtype \n",
      "---  ------  --------------  ----- \n",
      " 0   zh      161 non-null    object\n",
      "dtypes: object(1)\n",
      "memory usage: 1.4+ KB\n"
     ]
    }
   ],
   "source": [
    "x4adf.info()"
   ]
  },
  {
   "cell_type": "code",
   "execution_count": 65,
   "id": "97c5d274-a92d-428e-bdab-d40ffd77752c",
   "metadata": {},
   "outputs": [],
   "source": [
    "# # COMMENT OUT AFTER RUNNING TO PREVENT CROSSING USAGE LIMITS FOR THE API\n",
    "\n",
    "# y4a=[]\n",
    "\n",
    "# for i in x4a:\n",
    "#     z4a = translator.translate(i)\n",
    "#     y4a.append(z4a)\n",
    "\n",
    "# model_eng_dict = dict(zip(x4a, y4a))\n",
    "\n",
    "# print(model_eng_dict)"
   ]
  },
  {
   "cell_type": "code",
   "execution_count": 66,
   "id": "9c486ed6-d724-4b28-b24d-043e8c0a72e6",
   "metadata": {},
   "outputs": [],
   "source": [
    "model_eng_dict = {'红米Note2': 'Redmi Note2 ', '红米Note3': 'Redmi Note3 ', \n",
    "                  '大神F1Plus': 'Daichi F1PLUS ', 'note顶配版': 'Note Pro ',\n",
    "                  '星星1号': 'Star 1 ', '红米note': 'Redmi Note ',\n",
    "                  '青春版': 'Youth Edition ', '荣耀4A': 'Honor 4A ',\n",
    "                  '魅蓝Note 2': 'Charm blue note 2 ', '荣耀7i': 'Honor 7i ',\n",
    "                  '荣耀畅玩4C': 'Honor play 4C ', '红米2A': 'Redmi 2a ', '荣耀畅玩5': 'Honor fun 5 ',\n",
    "                  '荣耀7': 'Honor 7 ', '红米1S': 'Redmi 1s ', '麦芒4': 'Mai Mang 4 ',\n",
    "                  '荣耀6': 'Honor6 ', '荣耀畅玩4X': 'Honor play 4X ', '荣耀3X畅玩版': 'Honor 3X play version ',\n",
    "                  '荣耀X2': 'Honor X2 ', '魅蓝NOTE': 'Charm blue note ', '荣耀6 Plus': 'Honor 6 Plus ',\n",
    "                  '荣耀+': 'Honor + ', '荣耀畅玩4': 'Honor play 4 ', '黄金斗士A8': 'Golden Fighter A8 ',\n",
    "                  '小米note': 'Xiaomi Note ', '荣耀3C': 'Honor 3C ', '小米4C': 'Xiaomi 4C ',\n",
    "                  '红米note增强版': 'Redmi Note Enhancement ', '天鉴W900': 'Tianjian W900 ',\n",
    "                  '荣耀畅玩5X': 'Honor play 5X ', '红米2': 'Redmi 2 ', '大神F1': 'Daichi F1 ',\n",
    "                  '魅蓝2': 'Charm blue 2 ', 'Mate 7 青春版': 'Mate 7 Youth Edition ', '乐檬K3 Note': 'Lemon K3 Note ',\n",
    "                  '火星一号': 'Mars 1 ', '乐檬K3': 'Lemon K3 ', '联想黄金斗士S8': 'Lenovo Gold Fighter S8 ',\n",
    "                  '大神F2': 'Daichi F2 ', '魅蓝': 'Charm blue ', '荣耀6 plus': 'Honor 6 Plus ',\n",
    "                  '大神F2全高清版': 'Great God F2 Full HD Edition ', '灵感XL': 'Inspiration XL ',\n",
    "                  '旗舰版': 'Ultimate ', '坚果手机': 'Nut mobile phone ', '红米': 'Redmi ',\n",
    "                  '超级手机1 Pro': 'Superphone 1 Pro ', '畅享5': 'Enjoy 5 ', '魅蓝metal': 'Charm blue metal ',\n",
    "                  '超级手机1': 'Superphone 1 ', '超级手机1s': 'Superphone 1S ', '荣耀U8860': 'Honor U8860 ',\n",
    "                  '纽扣': 'Button ', '荣耀畅玩平板T1': 'Honor play tablet T1 ', '红辣椒 X1': 'Red pepper x1 ',\n",
    "                  '春雷HD': 'Spring thunder HD ', 'ivvi 小i': 'IVVI Small I ', '荣耀畅玩4C运动版': 'Honor play 4C sports version ',\n",
    "                  '麦芒3': 'Mai Mang 3 ', '小鲜2': 'Sediment 2 ', '大器2': 'Larger 2 ', '锋尚': 'Arrow ',\n",
    "                  '大神X7': 'Great God x7 ', '小苹果': 'Small apple ', '乐玩': 'Fun ', '大神Note3': 'Daichi NOTE3 ',\n",
    "                  '么么哒3N': 'What? 3N ', '锋尚Pro': 'Feng Shang PRO ', '红辣椒': 'Red chili ', '荣耀3X': 'Honor 3X ',\n",
    "                  '三星big foot': 'Samsung Big Foot ', '荣耀3C畅玩版': 'Honor 3C fun version ',\n",
    "                  'ivvi 小骨Pro': 'IVVI small bone Pro ', '红辣椒XM': 'Red pepper xm ', '远航3': 'Voyage 3 ',\n",
    "                  'My 布拉格': 'My Prague ', 'metal 标准版': 'Metal Standard Edition ', '畅享5S': 'Enjoy 5S ',\n",
    "                  '红辣椒Note': 'Red pepper Note ', '锋尚Max': 'Max ', '2016版 Galaxy A9': '2016 version of Galaxy A9 ',\n",
    "                  '红牛V5': 'Red cattle V5 ', '2016版 Galaxy A5': '2016 version of Galaxy A5 ',\n",
    "                  '锋尚2': 'Front ', '金钢': 'Jin Gang ', '野火S': 'Wildfire S ', '2016版 Galaxy A7': '2016 version of Galaxy A7 ',\n",
    "                  '红米3': 'Redmi 3 ', '小辣椒 X3': 'Small pepper x3 ', '荣耀平板T1-823L': 'Honor Tablet T1-823L ',\n",
    "                  '大神Note': 'Daijin Note ', '7295A青春版': '7295A Youth Edition ', '大Q Note': 'Big Q Note ',\n",
    "                  '么么哒': 'muah ', '小辣椒 M2': 'Small pepper M2 ', '黄金斗士Note8': 'Gold Fighter Note8 ',\n",
    "                  '炫影S+': 'Dazzling S + ', '风华3': 'Fenghua 3 ', 'TALK 7X四核': 'Talk 7X quad-core ',\n",
    "                  '2016版 Galaxy J7': '2016 version of Galaxy J7 ', '天鉴T1': 'Tianjian T1 ', '土星一号': 'Saturn No. 1 ',\n",
    "                  '麦芒3S': 'Mai Mang 3S ', '飞马': 'Fly horse ', '联想VIBE X2': 'Lenovo Vibe X2 ', '威武3': 'Mighty 3 ',\n",
    "                  '红辣椒任性版 Plus': 'Red pepper edition PLUS ', '小辣椒 9': 'Small pepper 9 ', '大观4': 'Large view 4 ',\n",
    "                  '超级手机Max': 'Superphone MAX ', '星星2号': 'Star 2 ', '雷霆战机': 'Thunder fighter ', '威武3C': 'Merry 3C ',\n",
    "                  '倾城L3': 'Allure L3 ', 'Z9 mini 精英版': 'Z9 MINI Elite Edition ', '小辣椒S1': 'Small pepper s1 ',\n",
    "                  '小辣椒 5': 'Small pepper 5 ', 'T03锋至版': 'T03 front to version ', '乐玩2C': \"Let's play 2C \",\n",
    "                  '么么哒3S': 'What? 3s ', '乐檬K31': 'Lemon K31 ', '黄金斗士S8畅玩版': 'Gold Fighter S8 Play Edition ',\n",
    "                  '时尚手机': 'Fashion phone ', '大神1s': 'Daichi 1s ', '倾城L3C': 'Allure L3C ',\n",
    "                  '小辣椒 4': 'Small pepper 4 ', 'Xperia Z1 炫彩版': 'Xperia Z1 colorful version ',\n",
    "                  '微客': 'Micro ', '黄金斗士青春版': 'Gold Fighter Youth Edition ', '红辣椒NX Plus': 'Red pepper nx plus ',\n",
    "                  '小鲜3': 'Fresh fresh 3 ', '小星星': 'little stars ', '大器3': 'Male 3 ', '小辣椒 6': 'Small pepper 6 ',\n",
    "                  '金刚II': 'King Kong II ', '中兴远航3': 'ZTE Yuanhang 3 ', 'Axon天机': 'Axon Tiande ',\n",
    "                  '青漾3': 'Qingne 3 ', '小辣椒 3': 'Small pepper 3 ', '旋影90w': 'Rocade 90W ',\n",
    "                  '小辣椒 7': 'Small pepper 7 ', '醉享': 'Drunk ', '渴望HD': 'Desire HD ', '小辣椒 M3': 'Small pepper M3 ',\n",
    "                  '飞马3': 'Fly hum ', '领世旗舰3': 'Liracial flagship 3 ', '小辣椒X4': 'Small pepper x4 ',\n",
    "                  '红辣椒Note3': 'Red hot chili Note3 ', '天鉴W808': 'Tianjian W808 ', '天鉴W900S': 'Tianjian W900S ',\n",
    "                  '大观铂顿': 'Grand Platinum ', '魅蓝Note3': 'Charm blue note3 ', 'Razr V锋芒': 'Razr V ',\n",
    "                  '火星一号探索版': 'Mars 1 exploration version ', 'Moto X极': 'Moto X ', '魔镜 X5': 'Mirror X5 ',\n",
    "                  '小章鱼': 'Small octopus ', '乐檬3': 'Lemon 3 ', '乐檬X3': 'Lemon X3 ', '飞马2 Plus': 'Feima 2 Plus '}"
   ]
  },
  {
   "cell_type": "code",
   "execution_count": 67,
   "id": "19099edf-1396-4b0b-af6c-eafadf528674",
   "metadata": {},
   "outputs": [],
   "source": [
    "df3['device_model'] = df3['device_model'].map(model_eng_dict).fillna(df3['device_model'])"
   ]
  },
  {
   "cell_type": "code",
   "execution_count": 68,
   "id": "ab51ebae-9405-4a9a-b847-2fda04cd1225",
   "metadata": {},
   "outputs": [
    {
     "data": {
      "text/html": [
       "<div>\n",
       "<style scoped>\n",
       "    .dataframe tbody tr th:only-of-type {\n",
       "        vertical-align: middle;\n",
       "    }\n",
       "\n",
       "    .dataframe tbody tr th {\n",
       "        vertical-align: top;\n",
       "    }\n",
       "\n",
       "    .dataframe thead th {\n",
       "        text-align: right;\n",
       "    }\n",
       "</style>\n",
       "<table border=\"1\" class=\"dataframe\">\n",
       "  <thead>\n",
       "    <tr style=\"text-align: right;\">\n",
       "      <th></th>\n",
       "      <th>device_id</th>\n",
       "      <th>phone_brand</th>\n",
       "      <th>device_model</th>\n",
       "    </tr>\n",
       "  </thead>\n",
       "  <tbody>\n",
       "    <tr>\n",
       "      <th>0</th>\n",
       "      <td>1877775838486905856.00000</td>\n",
       "      <td>VIVO</td>\n",
       "      <td>Y13</td>\n",
       "    </tr>\n",
       "    <tr>\n",
       "      <th>1</th>\n",
       "      <td>-3766087376657243136.00000</td>\n",
       "      <td>Xiaomi</td>\n",
       "      <td>V183</td>\n",
       "    </tr>\n",
       "    <tr>\n",
       "      <th>2</th>\n",
       "      <td>-6238937574958216192.00000</td>\n",
       "      <td>OPPO</td>\n",
       "      <td>R7s</td>\n",
       "    </tr>\n",
       "    <tr>\n",
       "      <th>3</th>\n",
       "      <td>8973197758510676992.00000</td>\n",
       "      <td>Samsung</td>\n",
       "      <td>A368t</td>\n",
       "    </tr>\n",
       "    <tr>\n",
       "      <th>4</th>\n",
       "      <td>-2015528097870762752.00000</td>\n",
       "      <td>Xiaomi</td>\n",
       "      <td>Redmi Note2</td>\n",
       "    </tr>\n",
       "  </tbody>\n",
       "</table>\n",
       "</div>"
      ],
      "text/plain": [
       "                   device_id phone_brand  device_model\n",
       "0  1877775838486905856.00000        VIVO           Y13\n",
       "1 -3766087376657243136.00000      Xiaomi          V183\n",
       "2 -6238937574958216192.00000        OPPO           R7s\n",
       "3  8973197758510676992.00000     Samsung         A368t\n",
       "4 -2015528097870762752.00000      Xiaomi  Redmi Note2 "
      ]
     },
     "execution_count": 68,
     "metadata": {},
     "output_type": "execute_result"
    }
   ],
   "source": [
    "df3.head()"
   ]
  },
  {
   "cell_type": "code",
   "execution_count": 69,
   "id": "a141b68d",
   "metadata": {
    "ExecuteTime": {
     "end_time": "2021-05-13T06:16:44.343959Z",
     "start_time": "2021-05-13T06:16:44.291490Z"
    }
   },
   "outputs": [
    {
     "data": {
      "text/html": [
       "<div>\n",
       "<style scoped>\n",
       "    .dataframe tbody tr th:only-of-type {\n",
       "        vertical-align: middle;\n",
       "    }\n",
       "\n",
       "    .dataframe tbody tr th {\n",
       "        vertical-align: top;\n",
       "    }\n",
       "\n",
       "    .dataframe thead th {\n",
       "        text-align: right;\n",
       "    }\n",
       "</style>\n",
       "<table border=\"1\" class=\"dataframe\">\n",
       "  <thead>\n",
       "    <tr style=\"text-align: right;\">\n",
       "      <th></th>\n",
       "      <th>phone_brand</th>\n",
       "      <th>counts</th>\n",
       "    </tr>\n",
       "  </thead>\n",
       "  <tbody>\n",
       "    <tr>\n",
       "      <th>0</th>\n",
       "      <td>Xiaomi</td>\n",
       "      <td>21645</td>\n",
       "    </tr>\n",
       "    <tr>\n",
       "      <th>1</th>\n",
       "      <td>Samsung</td>\n",
       "      <td>19211</td>\n",
       "    </tr>\n",
       "    <tr>\n",
       "      <th>2</th>\n",
       "      <td>Huawei</td>\n",
       "      <td>15181</td>\n",
       "    </tr>\n",
       "    <tr>\n",
       "      <th>3</th>\n",
       "      <td>VIVO</td>\n",
       "      <td>7597</td>\n",
       "    </tr>\n",
       "    <tr>\n",
       "      <th>4</th>\n",
       "      <td>OPPO</td>\n",
       "      <td>6717</td>\n",
       "    </tr>\n",
       "    <tr>\n",
       "      <th>5</th>\n",
       "      <td>Meizu</td>\n",
       "      <td>5531</td>\n",
       "    </tr>\n",
       "    <tr>\n",
       "      <th>6</th>\n",
       "      <td>Coolpad</td>\n",
       "      <td>3979</td>\n",
       "    </tr>\n",
       "    <tr>\n",
       "      <th>7</th>\n",
       "      <td>HTC</td>\n",
       "      <td>1272</td>\n",
       "    </tr>\n",
       "    <tr>\n",
       "      <th>8</th>\n",
       "      <td>Lenovo</td>\n",
       "      <td>982</td>\n",
       "    </tr>\n",
       "    <tr>\n",
       "      <th>9</th>\n",
       "      <td>LeEco</td>\n",
       "      <td>841</td>\n",
       "    </tr>\n",
       "  </tbody>\n",
       "</table>\n",
       "</div>"
      ],
      "text/plain": [
       "  phone_brand  counts\n",
       "0      Xiaomi   21645\n",
       "1     Samsung   19211\n",
       "2      Huawei   15181\n",
       "3        VIVO    7597\n",
       "4        OPPO    6717\n",
       "5       Meizu    5531\n",
       "6     Coolpad    3979\n",
       "7         HTC    1272\n",
       "8      Lenovo     982\n",
       "9       LeEco     841"
      ]
     },
     "execution_count": 69,
     "metadata": {},
     "output_type": "execute_result"
    }
   ],
   "source": [
    "pbx = df3['phone_brand'].value_counts()\n",
    "\n",
    "dfx = pd.DataFrame(pbx)  # dfx = pbx.to_frame() - also works\n",
    "dfx.reset_index(inplace=True)\n",
    "dfx.rename(columns={'index': 'phone_brand',\n",
    "           'phone_brand': 'counts'}, inplace=True)\n",
    "dfx.head(10)"
   ]
  },
  {
   "cell_type": "code",
   "execution_count": 70,
   "id": "a1904b1d",
   "metadata": {
    "ExecuteTime": {
     "end_time": "2021-05-13T06:16:44.391060Z",
     "start_time": "2021-05-13T06:16:44.352176Z"
    }
   },
   "outputs": [
    {
     "data": {
      "text/plain": [
       "Redmi Note                 3500\n",
       "MI 3                       2739\n",
       "MI 2S                      2547\n",
       "Galaxy Note 3              2378\n",
       "MI 4                       2256\n",
       "                           ... \n",
       "a218t                         1\n",
       "BM003                         1\n",
       "9300-M9                       1\n",
       "L700T                         1\n",
       "Galaxy S2 Epic 4G Touch       1\n",
       "Name: device_model, Length: 1466, dtype: int64"
      ]
     },
     "execution_count": 70,
     "metadata": {},
     "output_type": "execute_result"
    }
   ],
   "source": [
    "df3['device_model'].value_counts()"
   ]
  },
  {
   "cell_type": "code",
   "execution_count": 71,
   "id": "ee817604",
   "metadata": {
    "ExecuteTime": {
     "end_time": "2021-05-13T06:16:44.520434Z",
     "start_time": "2021-05-13T06:16:44.461056Z"
    }
   },
   "outputs": [
    {
     "data": {
      "text/html": [
       "<div>\n",
       "<style scoped>\n",
       "    .dataframe tbody tr th:only-of-type {\n",
       "        vertical-align: middle;\n",
       "    }\n",
       "\n",
       "    .dataframe tbody tr th {\n",
       "        vertical-align: top;\n",
       "    }\n",
       "\n",
       "    .dataframe thead th {\n",
       "        text-align: right;\n",
       "    }\n",
       "</style>\n",
       "<table border=\"1\" class=\"dataframe\">\n",
       "  <thead>\n",
       "    <tr style=\"text-align: right;\">\n",
       "      <th></th>\n",
       "      <th>device_id</th>\n",
       "      <th>phone_brand</th>\n",
       "      <th>device_model</th>\n",
       "      <th>gender</th>\n",
       "      <th>age</th>\n",
       "      <th>group</th>\n",
       "    </tr>\n",
       "  </thead>\n",
       "  <tbody>\n",
       "    <tr>\n",
       "      <th>0</th>\n",
       "      <td>1877775838486905856.00000</td>\n",
       "      <td>VIVO</td>\n",
       "      <td>Y13</td>\n",
       "      <td>NaN</td>\n",
       "      <td>NaN</td>\n",
       "      <td>NaN</td>\n",
       "    </tr>\n",
       "    <tr>\n",
       "      <th>1</th>\n",
       "      <td>-3766087376657243136.00000</td>\n",
       "      <td>Xiaomi</td>\n",
       "      <td>V183</td>\n",
       "      <td>NaN</td>\n",
       "      <td>NaN</td>\n",
       "      <td>NaN</td>\n",
       "    </tr>\n",
       "    <tr>\n",
       "      <th>2</th>\n",
       "      <td>-6238937574958216192.00000</td>\n",
       "      <td>OPPO</td>\n",
       "      <td>R7s</td>\n",
       "      <td>NaN</td>\n",
       "      <td>NaN</td>\n",
       "      <td>NaN</td>\n",
       "    </tr>\n",
       "    <tr>\n",
       "      <th>3</th>\n",
       "      <td>8973197758510676992.00000</td>\n",
       "      <td>Samsung</td>\n",
       "      <td>A368t</td>\n",
       "      <td>NaN</td>\n",
       "      <td>NaN</td>\n",
       "      <td>NaN</td>\n",
       "    </tr>\n",
       "    <tr>\n",
       "      <th>4</th>\n",
       "      <td>-2015528097870762752.00000</td>\n",
       "      <td>Xiaomi</td>\n",
       "      <td>Redmi Note2</td>\n",
       "      <td>NaN</td>\n",
       "      <td>NaN</td>\n",
       "      <td>NaN</td>\n",
       "    </tr>\n",
       "  </tbody>\n",
       "</table>\n",
       "</div>"
      ],
      "text/plain": [
       "                   device_id phone_brand  device_model gender  age group\n",
       "0  1877775838486905856.00000        VIVO           Y13    NaN  NaN   NaN\n",
       "1 -3766087376657243136.00000      Xiaomi          V183    NaN  NaN   NaN\n",
       "2 -6238937574958216192.00000        OPPO           R7s    NaN  NaN   NaN\n",
       "3  8973197758510676992.00000     Samsung         A368t    NaN  NaN   NaN\n",
       "4 -2015528097870762752.00000      Xiaomi  Redmi Note2     NaN  NaN   NaN"
      ]
     },
     "execution_count": 71,
     "metadata": {},
     "output_type": "execute_result"
    }
   ],
   "source": [
    "df_semi = pd.merge(df3, df2, on='device_id', how='left')\n",
    "df_semi.head()"
   ]
  },
  {
   "cell_type": "code",
   "execution_count": 72,
   "id": "54d31ccf",
   "metadata": {
    "ExecuteTime": {
     "end_time": "2021-05-13T06:16:44.569992Z",
     "start_time": "2021-05-13T06:16:44.535624Z"
    }
   },
   "outputs": [
    {
     "name": "stdout",
     "output_type": "stream",
     "text": [
      "<class 'pandas.core.frame.DataFrame'>\n",
      "Int64Index: 87726 entries, 0 to 87725\n",
      "Data columns (total 6 columns):\n",
      " #   Column        Non-Null Count  Dtype  \n",
      "---  ------        --------------  -----  \n",
      " 0   device_id     87726 non-null  float64\n",
      " 1   phone_brand   87726 non-null  object \n",
      " 2   device_model  87726 non-null  object \n",
      " 3   gender        74617 non-null  object \n",
      " 4   age           74617 non-null  float64\n",
      " 5   group         74617 non-null  object \n",
      "dtypes: float64(2), object(4)\n",
      "memory usage: 4.7+ MB\n"
     ]
    }
   ],
   "source": [
    "df_semi.info()"
   ]
  },
  {
   "cell_type": "code",
   "execution_count": 73,
   "id": "fcd681e7",
   "metadata": {
    "ExecuteTime": {
     "end_time": "2021-05-13T06:16:44.631719Z",
     "start_time": "2021-05-13T06:16:44.574096Z"
    }
   },
   "outputs": [
    {
     "data": {
      "text/plain": [
       "device_id       87726\n",
       "phone_brand       115\n",
       "device_model     1466\n",
       "gender              2\n",
       "age                85\n",
       "group              12\n",
       "dtype: int64"
      ]
     },
     "execution_count": 73,
     "metadata": {},
     "output_type": "execute_result"
    }
   ],
   "source": [
    "df_semi.nunique()"
   ]
  },
  {
   "cell_type": "code",
   "execution_count": 74,
   "id": "02684660",
   "metadata": {
    "ExecuteTime": {
     "end_time": "2021-05-13T06:16:44.666308Z",
     "start_time": "2021-05-13T06:16:44.635676Z"
    }
   },
   "outputs": [
    {
     "data": {
      "text/plain": [
       "device_id           0\n",
       "phone_brand         0\n",
       "device_model        0\n",
       "gender          13109\n",
       "age             13109\n",
       "group           13109\n",
       "dtype: int64"
      ]
     },
     "execution_count": 74,
     "metadata": {},
     "output_type": "execute_result"
    }
   ],
   "source": [
    "df_semi.isna().sum()"
   ]
  },
  {
   "cell_type": "code",
   "execution_count": 75,
   "id": "6beaec02",
   "metadata": {
    "ExecuteTime": {
     "end_time": "2021-05-13T06:16:47.393126Z",
     "start_time": "2021-05-13T06:16:44.670734Z"
    }
   },
   "outputs": [
    {
     "name": "stdout",
     "output_type": "stream",
     "text": [
      "<class 'pandas.core.frame.DataFrame'>\n",
      "Int64Index: 3252950 entries, 0 to 3252949\n",
      "Data columns (total 12 columns):\n",
      " #   Column        Dtype  \n",
      "---  ------        -----  \n",
      " 0   event_id      int64  \n",
      " 1   device_id     float64\n",
      " 2   timestamp     object \n",
      " 3   longitude     float64\n",
      " 4   latitude      float64\n",
      " 5   city          object \n",
      " 6   state         object \n",
      " 7   phone_brand   object \n",
      " 8   device_model  object \n",
      " 9   gender        object \n",
      " 10  age           float64\n",
      " 11  group         object \n",
      "dtypes: float64(4), int64(1), object(7)\n",
      "memory usage: 322.6+ MB\n"
     ]
    }
   ],
   "source": [
    "df_final = pd.merge(df1, df_semi, on='device_id', how='left')\n",
    "df_final.info()"
   ]
  },
  {
   "cell_type": "code",
   "execution_count": 76,
   "id": "f156463a",
   "metadata": {
    "ExecuteTime": {
     "end_time": "2021-05-13T06:16:47.418895Z",
     "start_time": "2021-05-13T06:16:47.397013Z"
    }
   },
   "outputs": [
    {
     "data": {
      "text/html": [
       "<div>\n",
       "<style scoped>\n",
       "    .dataframe tbody tr th:only-of-type {\n",
       "        vertical-align: middle;\n",
       "    }\n",
       "\n",
       "    .dataframe tbody tr th {\n",
       "        vertical-align: top;\n",
       "    }\n",
       "\n",
       "    .dataframe thead th {\n",
       "        text-align: right;\n",
       "    }\n",
       "</style>\n",
       "<table border=\"1\" class=\"dataframe\">\n",
       "  <thead>\n",
       "    <tr style=\"text-align: right;\">\n",
       "      <th></th>\n",
       "      <th>event_id</th>\n",
       "      <th>device_id</th>\n",
       "      <th>timestamp</th>\n",
       "      <th>longitude</th>\n",
       "      <th>latitude</th>\n",
       "      <th>city</th>\n",
       "      <th>state</th>\n",
       "      <th>phone_brand</th>\n",
       "      <th>device_model</th>\n",
       "      <th>gender</th>\n",
       "      <th>age</th>\n",
       "      <th>group</th>\n",
       "    </tr>\n",
       "  </thead>\n",
       "  <tbody>\n",
       "    <tr>\n",
       "      <th>0</th>\n",
       "      <td>2765368</td>\n",
       "      <td>2973347786994914304.00000</td>\n",
       "      <td>2016-05-07 22:52:05</td>\n",
       "      <td>77.22568</td>\n",
       "      <td>28.73014</td>\n",
       "      <td>Delhi</td>\n",
       "      <td>Delhi</td>\n",
       "      <td>Umidigi</td>\n",
       "      <td>UIMI3</td>\n",
       "      <td>M</td>\n",
       "      <td>35.00000</td>\n",
       "      <td>M32-38</td>\n",
       "    </tr>\n",
       "    <tr>\n",
       "      <th>1</th>\n",
       "      <td>2955066</td>\n",
       "      <td>4734221357723754496.00000</td>\n",
       "      <td>2016-05-01 20:44:16</td>\n",
       "      <td>88.38836</td>\n",
       "      <td>22.66033</td>\n",
       "      <td>Calcutta</td>\n",
       "      <td>WestBengal</td>\n",
       "      <td>VIVO</td>\n",
       "      <td>X5M</td>\n",
       "      <td>M</td>\n",
       "      <td>30.00000</td>\n",
       "      <td>M29-31</td>\n",
       "    </tr>\n",
       "    <tr>\n",
       "      <th>2</th>\n",
       "      <td>605968</td>\n",
       "      <td>-3264499652692492800.00000</td>\n",
       "      <td>2016-05-02 14:23:04</td>\n",
       "      <td>77.25681</td>\n",
       "      <td>28.75791</td>\n",
       "      <td>Delhi</td>\n",
       "      <td>Delhi</td>\n",
       "      <td>Xiaomi</td>\n",
       "      <td>MI pad</td>\n",
       "      <td>M</td>\n",
       "      <td>24.00000</td>\n",
       "      <td>M23-26</td>\n",
       "    </tr>\n",
       "    <tr>\n",
       "      <th>3</th>\n",
       "      <td>448114</td>\n",
       "      <td>5731369272434022400.00000</td>\n",
       "      <td>2016-05-03 13:21:16</td>\n",
       "      <td>80.34361</td>\n",
       "      <td>13.15333</td>\n",
       "      <td>Chennai</td>\n",
       "      <td>TamilNadu</td>\n",
       "      <td>HTC</td>\n",
       "      <td>One max</td>\n",
       "      <td>M</td>\n",
       "      <td>26.00000</td>\n",
       "      <td>M23-26</td>\n",
       "    </tr>\n",
       "    <tr>\n",
       "      <th>4</th>\n",
       "      <td>665740</td>\n",
       "      <td>338888002570799936.00000</td>\n",
       "      <td>2016-05-06 03:51:05</td>\n",
       "      <td>85.99774</td>\n",
       "      <td>23.84261</td>\n",
       "      <td>Bokaro</td>\n",
       "      <td>Jharkhand</td>\n",
       "      <td>Xiaomi</td>\n",
       "      <td>MI 4</td>\n",
       "      <td>M</td>\n",
       "      <td>30.00000</td>\n",
       "      <td>M29-31</td>\n",
       "    </tr>\n",
       "  </tbody>\n",
       "</table>\n",
       "</div>"
      ],
      "text/plain": [
       "   event_id                  device_id            timestamp  longitude  \\\n",
       "0   2765368  2973347786994914304.00000  2016-05-07 22:52:05   77.22568   \n",
       "1   2955066  4734221357723754496.00000  2016-05-01 20:44:16   88.38836   \n",
       "2    605968 -3264499652692492800.00000  2016-05-02 14:23:04   77.25681   \n",
       "3    448114  5731369272434022400.00000  2016-05-03 13:21:16   80.34361   \n",
       "4    665740   338888002570799936.00000  2016-05-06 03:51:05   85.99774   \n",
       "\n",
       "   latitude      city       state phone_brand device_model gender      age  \\\n",
       "0  28.73014     Delhi       Delhi     Umidigi        UIMI3      M 35.00000   \n",
       "1  22.66033  Calcutta  WestBengal        VIVO          X5M      M 30.00000   \n",
       "2  28.75791     Delhi       Delhi      Xiaomi       MI pad      M 24.00000   \n",
       "3  13.15333   Chennai   TamilNadu         HTC      One max      M 26.00000   \n",
       "4  23.84261    Bokaro   Jharkhand      Xiaomi         MI 4      M 30.00000   \n",
       "\n",
       "    group  \n",
       "0  M32-38  \n",
       "1  M29-31  \n",
       "2  M23-26  \n",
       "3  M23-26  \n",
       "4  M29-31  "
      ]
     },
     "execution_count": 76,
     "metadata": {},
     "output_type": "execute_result"
    }
   ],
   "source": [
    "df_final.head()"
   ]
  },
  {
   "cell_type": "code",
   "execution_count": 77,
   "id": "8cfd6bbd",
   "metadata": {
    "ExecuteTime": {
     "end_time": "2021-05-13T06:16:50.759626Z",
     "start_time": "2021-05-13T06:16:47.423539Z"
    }
   },
   "outputs": [
    {
     "data": {
      "text/plain": [
       "event_id        3252950\n",
       "device_id         60865\n",
       "timestamp        588126\n",
       "longitude         60095\n",
       "latitude          60177\n",
       "city                933\n",
       "state                32\n",
       "phone_brand         105\n",
       "device_model       1385\n",
       "gender                2\n",
       "age                  85\n",
       "group                12\n",
       "dtype: int64"
      ]
     },
     "execution_count": 77,
     "metadata": {},
     "output_type": "execute_result"
    }
   ],
   "source": [
    "df_final.nunique()"
   ]
  },
  {
   "cell_type": "code",
   "execution_count": 78,
   "id": "06b5d295",
   "metadata": {
    "ExecuteTime": {
     "end_time": "2021-05-13T06:16:51.707344Z",
     "start_time": "2021-05-13T06:16:50.763854Z"
    }
   },
   "outputs": [
    {
     "data": {
      "text/plain": [
       "event_id        0\n",
       "device_id       0\n",
       "timestamp       0\n",
       "longitude       0\n",
       "latitude        0\n",
       "city            0\n",
       "state           0\n",
       "phone_brand     0\n",
       "device_model    0\n",
       "gender          0\n",
       "age             0\n",
       "group           0\n",
       "dtype: int64"
      ]
     },
     "execution_count": 78,
     "metadata": {},
     "output_type": "execute_result"
    }
   ],
   "source": [
    "df_final.isna().sum()"
   ]
  },
  {
   "cell_type": "code",
   "execution_count": 79,
   "id": "89b37b8c",
   "metadata": {
    "ExecuteTime": {
     "end_time": "2021-05-13T06:16:52.639125Z",
     "start_time": "2021-05-13T06:16:51.712704Z"
    }
   },
   "outputs": [],
   "source": [
    "df_final_D = df_final[(df_final.state == 'Delhi')]\n",
    "df_final_D.reset_index(drop=True, inplace=True)"
   ]
  },
  {
   "cell_type": "code",
   "execution_count": 80,
   "id": "3fafed8c",
   "metadata": {
    "ExecuteTime": {
     "end_time": "2021-05-13T06:16:52.896348Z",
     "start_time": "2021-05-13T06:16:52.641566Z"
    }
   },
   "outputs": [
    {
     "name": "stdout",
     "output_type": "stream",
     "text": [
      "<class 'pandas.core.frame.DataFrame'>\n",
      "RangeIndex: 751797 entries, 0 to 751796\n",
      "Data columns (total 12 columns):\n",
      " #   Column        Non-Null Count   Dtype  \n",
      "---  ------        --------------   -----  \n",
      " 0   event_id      751797 non-null  int64  \n",
      " 1   device_id     751797 non-null  float64\n",
      " 2   timestamp     751797 non-null  object \n",
      " 3   longitude     751797 non-null  float64\n",
      " 4   latitude      751797 non-null  float64\n",
      " 5   city          751797 non-null  object \n",
      " 6   state         751797 non-null  object \n",
      " 7   phone_brand   751797 non-null  object \n",
      " 8   device_model  751797 non-null  object \n",
      " 9   gender        751797 non-null  object \n",
      " 10  age           751797 non-null  float64\n",
      " 11  group         751797 non-null  object \n",
      "dtypes: float64(4), int64(1), object(7)\n",
      "memory usage: 68.8+ MB\n"
     ]
    }
   ],
   "source": [
    "df_final_D.info()"
   ]
  },
  {
   "cell_type": "code",
   "execution_count": 81,
   "id": "9def306b",
   "metadata": {
    "ExecuteTime": {
     "end_time": "2021-05-13T06:16:53.174032Z",
     "start_time": "2021-05-13T06:16:52.900841Z"
    }
   },
   "outputs": [
    {
     "data": {
      "text/plain": [
       "event_id        0\n",
       "device_id       0\n",
       "timestamp       0\n",
       "longitude       0\n",
       "latitude        0\n",
       "city            0\n",
       "state           0\n",
       "phone_brand     0\n",
       "device_model    0\n",
       "gender          0\n",
       "age             0\n",
       "group           0\n",
       "dtype: int64"
      ]
     },
     "execution_count": 81,
     "metadata": {},
     "output_type": "execute_result"
    }
   ],
   "source": [
    "df_final_D.isna().sum()"
   ]
  },
  {
   "cell_type": "code",
   "execution_count": 82,
   "id": "b2d0b9b4",
   "metadata": {
    "ExecuteTime": {
     "end_time": "2021-05-13T06:16:53.989711Z",
     "start_time": "2021-05-13T06:16:53.177425Z"
    }
   },
   "outputs": [
    {
     "data": {
      "text/plain": [
       "event_id        751797\n",
       "device_id         4909\n",
       "timestamp       412099\n",
       "longitude         4795\n",
       "latitude          4789\n",
       "city                10\n",
       "state                1\n",
       "phone_brand         61\n",
       "device_model       631\n",
       "gender               2\n",
       "age                 69\n",
       "group               12\n",
       "dtype: int64"
      ]
     },
     "execution_count": 82,
     "metadata": {},
     "output_type": "execute_result"
    }
   ],
   "source": [
    "df_final_D.nunique()"
   ]
  },
  {
   "cell_type": "code",
   "execution_count": 83,
   "id": "68a27da7",
   "metadata": {
    "ExecuteTime": {
     "end_time": "2021-05-13T06:16:53.999131Z",
     "start_time": "2021-05-13T06:16:53.993991Z"
    }
   },
   "outputs": [],
   "source": [
    "df_final.to_csv(\"Capstone_Final_Data.csv\",encoding='utf-8', index=False)\n",
    "df_final_D.to_csv(\"Capstone_Final_Data_Delhi.csv\",encoding='utf-8', index=False)"
   ]
  },
  {
   "cell_type": "code",
   "execution_count": null,
   "id": "8e6f092e",
   "metadata": {},
   "outputs": [],
   "source": []
  }
 ],
 "metadata": {
  "kernelspec": {
   "display_name": "Python 3",
   "language": "python",
   "name": "python3"
  },
  "language_info": {
   "codemirror_mode": {
    "name": "ipython",
    "version": 3
   },
   "file_extension": ".py",
   "mimetype": "text/x-python",
   "name": "python",
   "nbconvert_exporter": "python",
   "pygments_lexer": "ipython3",
   "version": "3.8.2"
  },
  "toc": {
   "base_numbering": 1,
   "nav_menu": {
    "height": "64px",
    "width": "191px"
   },
   "number_sections": true,
   "sideBar": true,
   "skip_h1_title": false,
   "title_cell": "Table of Contents",
   "title_sidebar": "Contents",
   "toc_cell": false,
   "toc_position": {},
   "toc_section_display": true,
   "toc_window_display": false
  },
  "toc-showtags": false,
  "varInspector": {
   "cols": {
    "lenName": 16,
    "lenType": 16,
    "lenVar": 40
   },
   "kernels_config": {
    "python": {
     "delete_cmd_postfix": "",
     "delete_cmd_prefix": "del ",
     "library": "var_list.py",
     "varRefreshCmd": "print(var_dic_list())"
    },
    "r": {
     "delete_cmd_postfix": ") ",
     "delete_cmd_prefix": "rm(",
     "library": "var_list.r",
     "varRefreshCmd": "cat(var_dic_list()) "
    }
   },
   "position": {
    "height": "435px",
    "left": "738px",
    "right": "20px",
    "top": "122px",
    "width": "526px"
   },
   "types_to_exclude": [
    "module",
    "function",
    "builtin_function_or_method",
    "instance",
    "_Feature"
   ],
   "window_display": false
  },
  "widgets": {
   "application/vnd.jupyter.widget-state+json": {
    "state": {},
    "version_major": 2,
    "version_minor": 0
   }
  }
 },
 "nbformat": 4,
 "nbformat_minor": 5
}
