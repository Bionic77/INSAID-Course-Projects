{
 "cells": [
  {
   "cell_type": "code",
   "execution_count": 1,
   "id": "2048fd59",
   "metadata": {},
   "outputs": [],
   "source": [
    "import pandas as pd\n",
    "\n",
    "import mysql.connector\n",
    "\n",
    "from mysql.connector import Error"
   ]
  },
  {
   "cell_type": "code",
   "execution_count": 2,
   "id": "7c2c9fcd",
   "metadata": {},
   "outputs": [
    {
     "name": "stdout",
     "output_type": "stream",
     "text": [
      "gender_age_train_df shape =  (74645, 4)\n",
      "phone_brand_device_model_df shape =  (87726, 3)\n",
      "MySQL connection is closed\n"
     ]
    }
   ],
   "source": [
    "try:\n",
    "    connection = mysql.connector.connect(host='cpanel.insaid.co', \n",
    "                                         database='Capstone1', \n",
    "                                         user='student', \n",
    "                                         password='student')\n",
    "    \n",
    "    Query1 = \"SELECT * FROM gender_age_train\"\n",
    "    \n",
    "    Query2 = \"SELECT * FROM phone_brand_device_model\"\n",
    "    \n",
    "# mysql.connector way of retriving the data\n",
    "    \n",
    "#     cursor = connection.cursor()\n",
    "    \n",
    "#     cursor.execute(Query1)\n",
    "#     records1 = cursor.fetchall()\n",
    "#     print(\"Total number of rows in database is: \", cursor.rowcount)\n",
    "    \n",
    "#     cursor.execute(Query2)\n",
    "#     records2 = cursor.fetchall()\n",
    "#     print(\"Total number of rows in database is: \", cursor.rowcount) \n",
    "\n",
    "\n",
    "# alternative method using Pandas for retriving data\n",
    "\n",
    "    df1 = pd.read_sql(Query1,connection)\n",
    "    print(\"gender_age_train_df shape = \",df1.shape)\n",
    "    \n",
    "    df2 = pd.read_sql(Query2,connection)\n",
    "    print(\"phone_brand_device_model_df shape = \",df2.shape)\n",
    "    \n",
    "    \n",
    "except Error as e:\n",
    "    print(\"Error reading data from MySQL table\", e)\n",
    "finally:\n",
    "    if connection.is_connected():\n",
    "        connection.close()\n",
    "        #cursor.close()                        #uncomment this line if using mysql.connect method\n",
    "        print(\"MySQL connection is closed\")"
   ]
  },
  {
   "cell_type": "code",
   "execution_count": 3,
   "id": "38c55d68",
   "metadata": {},
   "outputs": [
    {
     "data": {
      "text/html": [
       "<div>\n",
       "<style scoped>\n",
       "    .dataframe tbody tr th:only-of-type {\n",
       "        vertical-align: middle;\n",
       "    }\n",
       "\n",
       "    .dataframe tbody tr th {\n",
       "        vertical-align: top;\n",
       "    }\n",
       "\n",
       "    .dataframe thead th {\n",
       "        text-align: right;\n",
       "    }\n",
       "</style>\n",
       "<table border=\"1\" class=\"dataframe\">\n",
       "  <thead>\n",
       "    <tr style=\"text-align: right;\">\n",
       "      <th></th>\n",
       "      <th>device_id</th>\n",
       "      <th>gender</th>\n",
       "      <th>age</th>\n",
       "      <th>group</th>\n",
       "    </tr>\n",
       "  </thead>\n",
       "  <tbody>\n",
       "    <tr>\n",
       "      <th>0</th>\n",
       "      <td>-8076087639492063270</td>\n",
       "      <td>M</td>\n",
       "      <td>35</td>\n",
       "      <td>M32-38</td>\n",
       "    </tr>\n",
       "    <tr>\n",
       "      <th>1</th>\n",
       "      <td>-2897161552818060146</td>\n",
       "      <td>M</td>\n",
       "      <td>35</td>\n",
       "      <td>M32-38</td>\n",
       "    </tr>\n",
       "    <tr>\n",
       "      <th>2</th>\n",
       "      <td>-8260683887967679142</td>\n",
       "      <td>M</td>\n",
       "      <td>35</td>\n",
       "      <td>M32-38</td>\n",
       "    </tr>\n",
       "    <tr>\n",
       "      <th>3</th>\n",
       "      <td>-4938849341048082022</td>\n",
       "      <td>M</td>\n",
       "      <td>30</td>\n",
       "      <td>M29-31</td>\n",
       "    </tr>\n",
       "    <tr>\n",
       "      <th>4</th>\n",
       "      <td>245133531816851882</td>\n",
       "      <td>M</td>\n",
       "      <td>30</td>\n",
       "      <td>M29-31</td>\n",
       "    </tr>\n",
       "  </tbody>\n",
       "</table>\n",
       "</div>"
      ],
      "text/plain": [
       "             device_id gender  age   group\n",
       "0 -8076087639492063270      M   35  M32-38\n",
       "1 -2897161552818060146      M   35  M32-38\n",
       "2 -8260683887967679142      M   35  M32-38\n",
       "3 -4938849341048082022      M   30  M29-31\n",
       "4   245133531816851882      M   30  M29-31"
      ]
     },
     "execution_count": 3,
     "metadata": {},
     "output_type": "execute_result"
    }
   ],
   "source": [
    "df1.head()"
   ]
  },
  {
   "cell_type": "code",
   "execution_count": 4,
   "id": "e6412e90",
   "metadata": {},
   "outputs": [
    {
     "data": {
      "text/html": [
       "<div>\n",
       "<style scoped>\n",
       "    .dataframe tbody tr th:only-of-type {\n",
       "        vertical-align: middle;\n",
       "    }\n",
       "\n",
       "    .dataframe tbody tr th {\n",
       "        vertical-align: top;\n",
       "    }\n",
       "\n",
       "    .dataframe thead th {\n",
       "        text-align: right;\n",
       "    }\n",
       "</style>\n",
       "<table border=\"1\" class=\"dataframe\">\n",
       "  <thead>\n",
       "    <tr style=\"text-align: right;\">\n",
       "      <th></th>\n",
       "      <th>device_id</th>\n",
       "      <th>phone_brand</th>\n",
       "      <th>device_model</th>\n",
       "    </tr>\n",
       "  </thead>\n",
       "  <tbody>\n",
       "    <tr>\n",
       "      <th>0</th>\n",
       "      <td>1877775838486905855</td>\n",
       "      <td>vivo</td>\n",
       "      <td>Y13</td>\n",
       "    </tr>\n",
       "    <tr>\n",
       "      <th>1</th>\n",
       "      <td>-3766087376657242966</td>\n",
       "      <td>小米</td>\n",
       "      <td>V183</td>\n",
       "    </tr>\n",
       "    <tr>\n",
       "      <th>2</th>\n",
       "      <td>-6238937574958215831</td>\n",
       "      <td>OPPO</td>\n",
       "      <td>R7s</td>\n",
       "    </tr>\n",
       "    <tr>\n",
       "      <th>3</th>\n",
       "      <td>8973197758510677470</td>\n",
       "      <td>三星</td>\n",
       "      <td>A368t</td>\n",
       "    </tr>\n",
       "    <tr>\n",
       "      <th>4</th>\n",
       "      <td>-2015528097870762664</td>\n",
       "      <td>小米</td>\n",
       "      <td>红米Note2</td>\n",
       "    </tr>\n",
       "  </tbody>\n",
       "</table>\n",
       "</div>"
      ],
      "text/plain": [
       "             device_id phone_brand device_model\n",
       "0  1877775838486905855        vivo          Y13\n",
       "1 -3766087376657242966          小米         V183\n",
       "2 -6238937574958215831        OPPO          R7s\n",
       "3  8973197758510677470          三星        A368t\n",
       "4 -2015528097870762664          小米      红米Note2"
      ]
     },
     "execution_count": 4,
     "metadata": {},
     "output_type": "execute_result"
    }
   ],
   "source": [
    "df2.head()"
   ]
  },
  {
   "cell_type": "code",
   "execution_count": 5,
   "id": "2bd333b1",
   "metadata": {},
   "outputs": [],
   "source": [
    "# df1=pd.DataFrame(list(records1))\n",
    "\n",
    "df1.to_csv('gender_age_train.csv',index=False)\n",
    "\n",
    "# df2=pd.DataFrame(list(records2))\n",
    "\n",
    "df2.to_csv('phone_brand_device_model.csv',index=False)\n",
    "\n",
    "\n"
   ]
  },
  {
   "cell_type": "code",
   "execution_count": null,
   "id": "94b281fc",
   "metadata": {},
   "outputs": [],
   "source": []
  },
  {
   "cell_type": "markdown",
   "id": "b33a97fc",
   "metadata": {},
   "source": [
    "Brand Name\tBrand English Mapping\n",
    "'华为'\t'Huawei'\n",
    "'小米'\t'Xiaomi'\n",
    "'三星'\t'Samsung'\n",
    "'vivo'\t'vivo'\n",
    "'OPPO'\t'OPPO'\n",
    "'魅族'\t'Meizu'\n",
    "'酷派'\t'Coolpad'\n",
    "'乐视'\t'LeEco'\n",
    "'联想 '\t'Lenovo'\n",
    "'HTC'\t'HTC'"
   ]
  }
 ],
 "metadata": {
  "kernelspec": {
   "display_name": "Python 3",
   "language": "python",
   "name": "python3"
  },
  "language_info": {
   "codemirror_mode": {
    "name": "ipython",
    "version": 3
   },
   "file_extension": ".py",
   "mimetype": "text/x-python",
   "name": "python",
   "nbconvert_exporter": "python",
   "pygments_lexer": "ipython3",
   "version": "3.8.2"
  },
  "widgets": {
   "application/vnd.jupyter.widget-state+json": {
    "state": {},
    "version_major": 2,
    "version_minor": 0
   }
  }
 },
 "nbformat": 4,
 "nbformat_minor": 5
}
